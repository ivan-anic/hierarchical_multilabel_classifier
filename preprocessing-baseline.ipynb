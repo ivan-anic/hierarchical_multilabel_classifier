{
 "cells": [
  {
   "cell_type": "markdown",
   "metadata": {},
   "source": [
    "# Preprocessing\n",
    "Dataset preprocessing and a simple logistic regression baseline implementation"
   ]
  },
  {
   "cell_type": "code",
   "execution_count": 40,
   "metadata": {
    "ExecuteTime": {
     "end_time": "2020-09-24T13:58:56.199032Z",
     "start_time": "2020-09-24T13:58:56.175293Z"
    },
    "scrolled": true
   },
   "outputs": [
    {
     "name": "stderr",
     "output_type": "stream",
     "text": [
      "[nltk_data] Downloading package punkt to /home/ianic/nltk_data...\n",
      "[nltk_data]   Package punkt is already up-to-date!\n"
     ]
    }
   ],
   "source": [
    "import html\n",
    "import re\n",
    "\n",
    "import matplotlib.pyplot as plt\n",
    "import nltk\n",
    "import numpy as np\n",
    "import pandas as pd\n",
    "import seaborn as sns\n",
    "from jupyterthemes import jtplot\n",
    "from podium.preproc.lemmatizer.croatian_lemmatizer import (\n",
    "    CroatianLemmatizer, get_croatian_lemmatizer_hook)\n",
    "from podium.preproc.stop_words import CROATIAN_EXTENDED\n",
    "from sklearn.feature_extraction.text import TfidfVectorizer\n",
    "from sklearn.linear_model import LogisticRegression\n",
    "from sklearn.metrics import f1_score\n",
    "from sklearn.model_selection import train_test_split\n",
    "from sklearn.preprocessing import MultiLabelBinarizer\n",
    "\n",
    "import metrics\n",
    "from hina_loader import load_full_hina_dataset\n",
    "from utils import flatten_dataset\n",
    "\n",
    "%matplotlib inline\n",
    "pd.set_option('display.max_colwidth', 300)\n",
    "\n",
    "nltk.download('punkt')\n",
    "jtplot.style()"
   ]
  },
  {
   "cell_type": "code",
   "execution_count": 2,
   "metadata": {
    "ExecuteTime": {
     "end_time": "2020-09-24T13:47:39.695177Z",
     "start_time": "2020-09-24T13:47:35.233558Z"
    }
   },
   "outputs": [],
   "source": [
    "dataset = load_full_hina_dataset(\n",
    "    '/home/ianic/ma_thesis/hina/TreningSet-HINA-200901 - 40023 documents.xml')\n",
    "print(len(dataset))"
   ]
  },
  {
   "cell_type": "code",
   "execution_count": 3,
   "metadata": {
    "ExecuteTime": {
     "end_time": "2020-09-24T13:47:39.853464Z",
     "start_time": "2020-09-24T13:47:39.696575Z"
    }
   },
   "outputs": [
    {
     "name": "stdout",
     "output_type": "stream",
     "text": [
      "39110\n"
     ]
    }
   ],
   "source": [
    "dataset = flatten_dataset(dataset, 2)\n",
    "print(len(dataset))"
   ]
  },
  {
   "cell_type": "code",
   "execution_count": 4,
   "metadata": {
    "ExecuteTime": {
     "end_time": "2020-09-24T13:47:39.984451Z",
     "start_time": "2020-09-24T13:47:39.855106Z"
    }
   },
   "outputs": [],
   "source": [
    "df = pd.DataFrame(dataset, columns=['text', 'topics', 'genre'])\n",
    "# remove articles with no topics\n",
    "df_new = df[~(df['topics'].str.len() == 0)]\n",
    "\n",
    "df = df_new\n",
    "df.reset_index(drop=True, inplace=True)\n",
    "\n",
    "# convert to k-hot encoded\n",
    "mlb = MultiLabelBinarizer()\n",
    "df = df.join(pd.DataFrame(mlb.fit_transform(df['topics']),\n",
    "                          columns=mlb.classes_,\n",
    "                          index=df.index))"
   ]
  },
  {
   "cell_type": "markdown",
   "metadata": {},
   "source": [
    "## Remove labels with low occurrency count (< 20)"
   ]
  },
  {
   "cell_type": "code",
   "execution_count": 5,
   "metadata": {
    "ExecuteTime": {
     "end_time": "2020-09-24T13:47:41.465003Z",
     "start_time": "2020-09-24T13:47:41.459469Z"
    }
   },
   "outputs": [
    {
     "data": {
      "text/plain": [
       "217"
      ]
     },
     "execution_count": 5,
     "metadata": {},
     "output_type": "execute_result"
    }
   ],
   "source": [
    "# set to see more rows\n",
    "# pd.set_option(\"display.max_rows\", 1223)\n",
    "len(list(df.columns.values))"
   ]
  },
  {
   "cell_type": "code",
   "execution_count": 6,
   "metadata": {
    "ExecuteTime": {
     "end_time": "2020-09-24T13:47:42.503510Z",
     "start_time": "2020-09-24T13:47:42.465628Z"
    }
   },
   "outputs": [
    {
     "data": {
      "text/html": [
       "<div>\n",
       "<style scoped>\n",
       "    .dataframe tbody tr th:only-of-type {\n",
       "        vertical-align: middle;\n",
       "    }\n",
       "\n",
       "    .dataframe tbody tr th {\n",
       "        vertical-align: top;\n",
       "    }\n",
       "\n",
       "    .dataframe thead th {\n",
       "        text-align: right;\n",
       "    }\n",
       "</style>\n",
       "<table border=\"1\" class=\"dataframe\">\n",
       "  <thead>\n",
       "    <tr style=\"text-align: right;\">\n",
       "      <th></th>\n",
       "      <th>topics</th>\n",
       "      <th>count</th>\n",
       "    </tr>\n",
       "  </thead>\n",
       "  <tbody>\n",
       "    <tr>\n",
       "      <th>0</th>\n",
       "      <td>DRUŠTVO|DONACIJE</td>\n",
       "      <td>201</td>\n",
       "    </tr>\n",
       "    <tr>\n",
       "      <th>1</th>\n",
       "      <td>DRUŠTVO|HUMANITARNI RAD</td>\n",
       "      <td>216</td>\n",
       "    </tr>\n",
       "    <tr>\n",
       "      <th>2</th>\n",
       "      <td>DRUŠTVO|INVALIDI</td>\n",
       "      <td>198</td>\n",
       "    </tr>\n",
       "    <tr>\n",
       "      <th>3</th>\n",
       "      <td>DRUŠTVO|LJUDSKA PRAVA</td>\n",
       "      <td>550</td>\n",
       "    </tr>\n",
       "    <tr>\n",
       "      <th>4</th>\n",
       "      <td>DRUŠTVO|NAGRADE I PRIZNANJA</td>\n",
       "      <td>577</td>\n",
       "    </tr>\n",
       "    <tr>\n",
       "      <th>...</th>\n",
       "      <td>...</td>\n",
       "      <td>...</td>\n",
       "    </tr>\n",
       "    <tr>\n",
       "      <th>207</th>\n",
       "      <td>ZNANOSTI I TEHNOLOGIJA|STANDARDI</td>\n",
       "      <td>23</td>\n",
       "    </tr>\n",
       "    <tr>\n",
       "      <th>208</th>\n",
       "      <td>ZNANOSTI I TEHNOLOGIJA|TEHNIČKE ZNANOSTI</td>\n",
       "      <td>416</td>\n",
       "    </tr>\n",
       "    <tr>\n",
       "      <th>209</th>\n",
       "      <td>ZNANOSTI I TEHNOLOGIJA|ZNANSTVENA ISTRAŽIVANJA</td>\n",
       "      <td>145</td>\n",
       "    </tr>\n",
       "    <tr>\n",
       "      <th>210</th>\n",
       "      <td>ZNANOSTI I TEHNOLOGIJA|ZNANSTVENE USTANOVE I ORGANIZACIJE</td>\n",
       "      <td>131</td>\n",
       "    </tr>\n",
       "    <tr>\n",
       "      <th>211</th>\n",
       "      <td>ZNANOSTI I TEHNOLOGIJA|ZNANSTVENI DJELATNICI</td>\n",
       "      <td>344</td>\n",
       "    </tr>\n",
       "  </tbody>\n",
       "</table>\n",
       "<p>212 rows × 2 columns</p>\n",
       "</div>"
      ],
      "text/plain": [
       "                                                        topics  count\n",
       "0                                             DRUŠTVO|DONACIJE    201\n",
       "1                                      DRUŠTVO|HUMANITARNI RAD    216\n",
       "2                                             DRUŠTVO|INVALIDI    198\n",
       "3                                        DRUŠTVO|LJUDSKA PRAVA    550\n",
       "4                                  DRUŠTVO|NAGRADE I PRIZNANJA    577\n",
       "..                                                         ...    ...\n",
       "207                           ZNANOSTI I TEHNOLOGIJA|STANDARDI     23\n",
       "208                   ZNANOSTI I TEHNOLOGIJA|TEHNIČKE ZNANOSTI    416\n",
       "209             ZNANOSTI I TEHNOLOGIJA|ZNANSTVENA ISTRAŽIVANJA    145\n",
       "210  ZNANOSTI I TEHNOLOGIJA|ZNANSTVENE USTANOVE I ORGANIZACIJE    131\n",
       "211               ZNANOSTI I TEHNOLOGIJA|ZNANSTVENI DJELATNICI    344\n",
       "\n",
       "[212 rows x 2 columns]"
      ]
     },
     "execution_count": 6,
     "metadata": {},
     "output_type": "execute_result"
    }
   ],
   "source": [
    "topics = list(df.columns.values[5:])\n",
    "topics_df = pd.DataFrame(\n",
    "    {'topics': list(topics), 'count': list(df.iloc[:, 5:].sum().values)})\n",
    "\n",
    "# selecting top n most frequent topics\n",
    "topn = None\n",
    "if topn is not None:\n",
    "    _df = topics_df.nlargest(columns=\"count\", n=topn)\n",
    "else:\n",
    "    _df = topics_df\n",
    "topics_df"
   ]
  },
  {
   "cell_type": "code",
   "execution_count": 7,
   "metadata": {
    "ExecuteTime": {
     "end_time": "2020-09-24T13:47:43.548701Z",
     "start_time": "2020-09-24T13:47:43.525659Z"
    }
   },
   "outputs": [
    {
     "name": "stdout",
     "output_type": "stream",
     "text": [
      "top n categories: (39077, 212)\n",
      "(19, 2)\n"
     ]
    },
    {
     "data": {
      "text/html": [
       "<div>\n",
       "<style scoped>\n",
       "    .dataframe tbody tr th:only-of-type {\n",
       "        vertical-align: middle;\n",
       "    }\n",
       "\n",
       "    .dataframe tbody tr th {\n",
       "        vertical-align: top;\n",
       "    }\n",
       "\n",
       "    .dataframe thead th {\n",
       "        text-align: right;\n",
       "    }\n",
       "</style>\n",
       "<table border=\"1\" class=\"dataframe\">\n",
       "  <thead>\n",
       "    <tr style=\"text-align: right;\">\n",
       "      <th></th>\n",
       "      <th>topics</th>\n",
       "      <th>count</th>\n",
       "    </tr>\n",
       "  </thead>\n",
       "  <tbody>\n",
       "    <tr>\n",
       "      <th>32</th>\n",
       "      <td>KULTURA  I UMJETNOST|FILATELIJA</td>\n",
       "      <td>5</td>\n",
       "    </tr>\n",
       "    <tr>\n",
       "      <th>55</th>\n",
       "      <td>KULTURA  I UMJETNOST|POPULARNA KULTURA</td>\n",
       "      <td>1</td>\n",
       "    </tr>\n",
       "    <tr>\n",
       "      <th>86</th>\n",
       "      <td>POLITIKA</td>\n",
       "      <td>1</td>\n",
       "    </tr>\n",
       "    <tr>\n",
       "      <th>103</th>\n",
       "      <td>PRAVOSUĐE/SUDSTVO/KRIMINAL</td>\n",
       "      <td>1</td>\n",
       "    </tr>\n",
       "    <tr>\n",
       "      <th>127</th>\n",
       "      <td>RELIGIJA I VJEROVANJE</td>\n",
       "      <td>3</td>\n",
       "    </tr>\n",
       "    <tr>\n",
       "      <th>128</th>\n",
       "      <td>RELIGIJA I VJEROVANJE|ATEIZAM</td>\n",
       "      <td>9</td>\n",
       "    </tr>\n",
       "    <tr>\n",
       "      <th>139</th>\n",
       "      <td>SPORT|BADMINTON</td>\n",
       "      <td>3</td>\n",
       "    </tr>\n",
       "    <tr>\n",
       "      <th>140</th>\n",
       "      <td>SPORT|BASEBALL</td>\n",
       "      <td>3</td>\n",
       "    </tr>\n",
       "    <tr>\n",
       "      <th>142</th>\n",
       "      <td>SPORT|BILJAR</td>\n",
       "      <td>1</td>\n",
       "    </tr>\n",
       "    <tr>\n",
       "      <th>144</th>\n",
       "      <td>SPORT|BOĆANJE</td>\n",
       "      <td>2</td>\n",
       "    </tr>\n",
       "    <tr>\n",
       "      <th>148</th>\n",
       "      <td>SPORT|Gimnastika</td>\n",
       "      <td>1</td>\n",
       "    </tr>\n",
       "    <tr>\n",
       "      <th>157</th>\n",
       "      <td>SPORT|RAGBI</td>\n",
       "      <td>5</td>\n",
       "    </tr>\n",
       "    <tr>\n",
       "      <th>161</th>\n",
       "      <td>SPORT|SPORTOVI SNAGE</td>\n",
       "      <td>7</td>\n",
       "    </tr>\n",
       "    <tr>\n",
       "      <th>163</th>\n",
       "      <td>SPORT|SPORTSKA REKREACIJA</td>\n",
       "      <td>5</td>\n",
       "    </tr>\n",
       "    <tr>\n",
       "      <th>167</th>\n",
       "      <td>SPORT|SQUASH</td>\n",
       "      <td>1</td>\n",
       "    </tr>\n",
       "    <tr>\n",
       "      <th>169</th>\n",
       "      <td>SPORT|STRELJAŠTVO</td>\n",
       "      <td>5</td>\n",
       "    </tr>\n",
       "    <tr>\n",
       "      <th>181</th>\n",
       "      <td>ZANIMLJIVOSTI|POSTIGNUĆA</td>\n",
       "      <td>3</td>\n",
       "    </tr>\n",
       "    <tr>\n",
       "      <th>183</th>\n",
       "      <td>ZANIMLJIVOSTI|TEHNOLOŠKI TRENDOVI</td>\n",
       "      <td>9</td>\n",
       "    </tr>\n",
       "    <tr>\n",
       "      <th>192</th>\n",
       "      <td>ZDRAVLJE</td>\n",
       "      <td>1</td>\n",
       "    </tr>\n",
       "  </tbody>\n",
       "</table>\n",
       "</div>"
      ],
      "text/plain": [
       "                                     topics  count\n",
       "32          KULTURA  I UMJETNOST|FILATELIJA      5\n",
       "55   KULTURA  I UMJETNOST|POPULARNA KULTURA      1\n",
       "86                                 POLITIKA      1\n",
       "103              PRAVOSUĐE/SUDSTVO/KRIMINAL      1\n",
       "127                   RELIGIJA I VJEROVANJE      3\n",
       "128           RELIGIJA I VJEROVANJE|ATEIZAM      9\n",
       "139                         SPORT|BADMINTON      3\n",
       "140                          SPORT|BASEBALL      3\n",
       "142                            SPORT|BILJAR      1\n",
       "144                           SPORT|BOĆANJE      2\n",
       "148                        SPORT|Gimnastika      1\n",
       "157                             SPORT|RAGBI      5\n",
       "161                    SPORT|SPORTOVI SNAGE      7\n",
       "163               SPORT|SPORTSKA REKREACIJA      5\n",
       "167                            SPORT|SQUASH      1\n",
       "169                       SPORT|STRELJAŠTVO      5\n",
       "181                ZANIMLJIVOSTI|POSTIGNUĆA      3\n",
       "183       ZANIMLJIVOSTI|TEHNOLOŠKI TRENDOVI      9\n",
       "192                                ZDRAVLJE      1"
      ]
     },
     "execution_count": 7,
     "metadata": {},
     "output_type": "execute_result"
    }
   ],
   "source": [
    "top_n_cats = list(_df.iloc[:, 0])\n",
    "c = df[top_n_cats]\n",
    "\n",
    "print(f\"top n categories: {c.shape}\")\n",
    "\n",
    "y_m = topics_df[(topics_df['count'] < 10)]\n",
    "print(y_m.shape)\n",
    "y_m"
   ]
  },
  {
   "cell_type": "code",
   "execution_count": 8,
   "metadata": {
    "ExecuteTime": {
     "end_time": "2020-09-24T13:47:44.522762Z",
     "start_time": "2020-09-24T13:47:44.517515Z"
    }
   },
   "outputs": [
    {
     "data": {
      "text/plain": [
       "array([False, False, False, ..., False, False, False])"
      ]
     },
     "execution_count": 8,
     "metadata": {},
     "output_type": "execute_result"
    }
   ],
   "source": [
    "mask = df.index.isin(y_m.index.values)\n",
    "mask"
   ]
  },
  {
   "cell_type": "code",
   "execution_count": 9,
   "metadata": {
    "ExecuteTime": {
     "end_time": "2020-09-24T13:47:45.181444Z",
     "start_time": "2020-09-24T13:47:45.175971Z"
    }
   },
   "outputs": [
    {
     "name": "stdout",
     "output_type": "stream",
     "text": [
      "(39077, 217)\n"
     ]
    },
    {
     "data": {
      "text/plain": [
       "39077"
      ]
     },
     "execution_count": 9,
     "metadata": {},
     "output_type": "execute_result"
    }
   ],
   "source": [
    "print(df.shape)\n",
    "old_size = df.shape[0]\n",
    "old_size"
   ]
  },
  {
   "cell_type": "code",
   "execution_count": 10,
   "metadata": {
    "ExecuteTime": {
     "end_time": "2020-09-24T13:47:46.109057Z",
     "start_time": "2020-09-24T13:47:46.071935Z"
    }
   },
   "outputs": [],
   "source": [
    "df = df.loc[~mask]"
   ]
  },
  {
   "cell_type": "code",
   "execution_count": 11,
   "metadata": {
    "ExecuteTime": {
     "end_time": "2020-09-24T13:47:46.509053Z",
     "start_time": "2020-09-24T13:47:46.505883Z"
    }
   },
   "outputs": [],
   "source": [
    "# ensure good filtering\n",
    "assert old_size - df.shape[0] == y_m.shape[0]"
   ]
  },
  {
   "cell_type": "code",
   "execution_count": 12,
   "metadata": {
    "ExecuteTime": {
     "end_time": "2020-09-24T13:47:47.463497Z",
     "start_time": "2020-09-24T13:47:47.458997Z"
    }
   },
   "outputs": [
    {
     "name": "stdout",
     "output_type": "stream",
     "text": [
      "{'ZDRAVLJE|ZDRAVSTVO/ZDRAVSTVENI SUSTAV', 'PRAVOSUĐE/SUDSTVO/KRIMINAL|KAZNE', 'PRAVOSUĐE/SUDSTVO/KRIMINAL|KRIMINAL', 'PRAVOSUĐE/SUDSTVO/KRIMINAL|PRAVOSUĐE'}\n"
     ]
    }
   ],
   "source": [
    "# ensure good napping\n",
    "print(dataset[0].topics)\n",
    "\n",
    "assert 1 == df.loc[0, 'ZDRAVLJE|ZDRAVSTVO/ZDRAVSTVENI SUSTAV']"
   ]
  },
  {
   "cell_type": "code",
   "execution_count": 13,
   "metadata": {
    "ExecuteTime": {
     "end_time": "2020-09-24T13:47:48.514039Z",
     "start_time": "2020-09-24T13:47:48.504503Z"
    }
   },
   "outputs": [],
   "source": [
    "def freq_words(x, terms=30):\n",
    "    all_words = ' '.join([text for text in x])\n",
    "    all_words = all_words.split()\n",
    "\n",
    "    fdist = nltk.FreqDist(all_words)\n",
    "    words_df = pd.DataFrame(\n",
    "        {'word': list(fdist.keys()), 'count': list(fdist.values())})\n",
    "\n",
    "    # selecting top 20 most frequent words\n",
    "    d = words_df.nlargest(columns=\"count\", n=terms)\n",
    "    plt.figure(figsize=(15, terms / 5))\n",
    "    ax = sns.barplot(data=d, x=\"count\", y=\"word\", color='lightseagreen')\n",
    "    ax.set(ylabel='Word')\n",
    "\n",
    "    plt.show()\n",
    "    return words_df.shape[0]\n",
    "\n",
    "\n",
    "def all_words(x):\n",
    "    words = ' '.join([text for text in x])\n",
    "    words = words.split()\n",
    "    return list(set(words))"
   ]
  },
  {
   "cell_type": "markdown",
   "metadata": {},
   "source": [
    "## Preprocessing"
   ]
  },
  {
   "cell_type": "code",
   "execution_count": 14,
   "metadata": {
    "ExecuteTime": {
     "end_time": "2020-09-24T13:48:01.258685Z",
     "start_time": "2020-09-24T13:48:01.252709Z"
    }
   },
   "outputs": [],
   "source": [
    "# function for text cleaning\n",
    "# variant 1: all single digits\n",
    "# variant 2: all numbers\n",
    "# variant 3: with single letters removed\n",
    "# variant 4: parameter in lr disbalance\n",
    "\n",
    "def replace_num_token(text, replace_with=' '):\n",
    "    text = re.sub(r\"\\d+\", replace_with, text).strip()\n",
    "    return text\n",
    "\n",
    "\n",
    "stop_words = set(CROATIAN_EXTENDED)\n",
    "\n",
    "\n",
    "def remove_stopwords(text):\n",
    "    no_stopword_text = [w for w in text.split() if not w in stop_words]\n",
    "    return ' '.join(no_stopword_text)"
   ]
  },
  {
   "cell_type": "code",
   "execution_count": 15,
   "metadata": {
    "ExecuteTime": {
     "end_time": "2020-09-24T13:48:02.598353Z",
     "start_time": "2020-09-24T13:48:02.594462Z"
    }
   },
   "outputs": [
    {
     "name": "stdout",
     "output_type": "stream",
     "text": [
      "ovo   j    t kst i    .\n",
      "\n"
     ]
    }
   ],
   "source": [
    "print(replace_num_token(\"3ovo 33 j3 3 t3kst i 3 5.\"))\n",
    "print(replace_num_token(\"3\"))"
   ]
  },
  {
   "cell_type": "code",
   "execution_count": 16,
   "metadata": {
    "ExecuteTime": {
     "end_time": "2020-09-24T13:48:21.808142Z",
     "start_time": "2020-09-24T13:48:21.799869Z"
    }
   },
   "outputs": [],
   "source": [
    "lemmatizer = CroatianLemmatizer()\n",
    "# function for text cleaning\n",
    "\n",
    "\n",
    "def clean_text(text):\n",
    "\n",
    "    # split on change case lower-upper\n",
    "    # maybe add upper-lower, but only when 2+ chars preceed\n",
    "    # otherwise, Hrvatska would be split to h rvatska\n",
    "    groups = re.sub(r'(?<=[a-z])(?=[A-Z])', '~', text).split('~')\n",
    "\n",
    "    text = ' '.join(groups)\n",
    "\n",
    "    # lowercase\n",
    "    text = text.lower()\n",
    "\n",
    "    # strip html tags\n",
    "    text = html.unescape(text)\n",
    "\n",
    "    # remove non-words\n",
    "    text = re.sub('\\W', ' ', text)\n",
    "\n",
    "    # remove single chars\n",
    "    text = re.sub(r'(?:^| )\\w(?:$| )', ' ', text)\n",
    "\n",
    "    # remove/replace numbers\n",
    "    text = replace_num_token(text)\n",
    "\n",
    "    # tokenize, lemmatize, remove stopwords\n",
    "    tokenized = nltk.word_tokenize(text)\n",
    "    tokenized = list(map(lambda x: lemmatizer.lemmatize_word(x), tokenized))\n",
    "    tokenized = list(map(lambda x: remove_stopwords(x), tokenized))\n",
    "    tokenized = list(filter(lambda x:  x != '', tokenized))\n",
    "\n",
    "    return tokenized"
   ]
  },
  {
   "cell_type": "code",
   "execution_count": 17,
   "metadata": {
    "ExecuteTime": {
     "end_time": "2020-09-24T13:48:25.381812Z",
     "start_time": "2020-09-24T13:48:24.841722Z"
    }
   },
   "outputs": [
    {
     "name": "stdout",
     "output_type": "stream",
     "text": [
      "splitOVO JEsplit Hrvatska SPLIT split bananaSPLITsplit SPLITbananaSPLIT\n",
      "['split', 'jesplit', 'hrvatski', 'split', 'split', 'banana', 'splitsplit', 'splitbanana', 'split']\n"
     ]
    }
   ],
   "source": [
    "text = \"splitOVO JEsplit Hrvatska SPLIT split bananaSPLITsplit SPLITbananaSPLIT\"\n",
    "print(text)\n",
    "print(clean_text(text))"
   ]
  },
  {
   "cell_type": "code",
   "execution_count": 19,
   "metadata": {
    "ExecuteTime": {
     "end_time": "2020-09-24T13:48:35.232378Z",
     "start_time": "2020-09-24T13:48:35.227369Z"
    }
   },
   "outputs": [
    {
     "name": "stdout",
     "output_type": "stream",
     "text": [
      "&ltMEĐUNARODNA&gt KONFERENCIJA <b> &lt&lt O KLASTERIMAPOTICAJ\tf ",
      "konkurentnosti ",
      "ukupne privredeU sklopu programa Hrvatska \n",
      "['međunarodan', 'konferencija', 'klasterimapoticaj', 'konkurentnost', 'ukupan', 'privrediti', 'sklop', 'program', 'hrvatski']\n"
     ]
    }
   ],
   "source": [
    "text = \"&ltMEĐUNARODNA&gt KONFERENCIJA <b> &lt&lt O KLASTERIMAPOTICAJ\" + \\\n",
    "    \"\\tf ",
    "konkurentnosti ",
    "ukupne privredeU sklopu programa Hrvatska \"\n",
    "print(text)\n",
    "print(clean_text(text))"
   ]
  },
  {
   "cell_type": "code",
   "execution_count": 20,
   "metadata": {
    "ExecuteTime": {
     "end_time": "2020-09-24T13:50:56.620879Z",
     "start_time": "2020-09-24T13:48:57.672660Z"
    }
   },
   "outputs": [],
   "source": [
    "clean_text_tokenized = df['text'].apply(lambda x: clean_text(x))\n",
    "clean_text = clean_text_tokenized.apply(lambda x: \" \".join(x))"
   ]
  },
  {
   "cell_type": "code",
   "execution_count": 21,
   "metadata": {
    "ExecuteTime": {
     "end_time": "2020-09-24T13:50:56.705635Z",
     "start_time": "2020-09-24T13:50:56.622493Z"
    }
   },
   "outputs": [
    {
     "data": {
      "text/html": [
       "<div>\n",
       "<style scoped>\n",
       "    .dataframe tbody tr th:only-of-type {\n",
       "        vertical-align: middle;\n",
       "    }\n",
       "\n",
       "    .dataframe tbody tr th {\n",
       "        vertical-align: top;\n",
       "    }\n",
       "\n",
       "    .dataframe thead th {\n",
       "        text-align: right;\n",
       "    }\n",
       "</style>\n",
       "<table border=\"1\" class=\"dataframe\">\n",
       "  <thead>\n",
       "    <tr style=\"text-align: right;\">\n",
       "      <th></th>\n",
       "      <th>clean_text</th>\n",
       "      <th>clean_text_tokenized</th>\n",
       "      <th>text</th>\n",
       "      <th>topics</th>\n",
       "      <th>genre</th>\n",
       "      <th>DRUŠTVO</th>\n",
       "      <th>DRUŠTVO|DEMOGRAFIJA</th>\n",
       "      <th>DRUŠTVO|DONACIJE</th>\n",
       "      <th>DRUŠTVO|HUMANITARNI RAD</th>\n",
       "      <th>DRUŠTVO|INVALIDI</th>\n",
       "      <th>...</th>\n",
       "      <th>ZNANOSTI I TEHNOLOGIJA|BIOMEDICINA I ZDRAVSTVO</th>\n",
       "      <th>ZNANOSTI I TEHNOLOGIJA|BIOTEHNIČKE ZNANOSTI</th>\n",
       "      <th>ZNANOSTI I TEHNOLOGIJA|DRUŠTVENE ZNANOSTI</th>\n",
       "      <th>ZNANOSTI I TEHNOLOGIJA|HUMANISTIČKE ZNANOSTI</th>\n",
       "      <th>ZNANOSTI I TEHNOLOGIJA|PRIRODNE ZNANOSTI</th>\n",
       "      <th>ZNANOSTI I TEHNOLOGIJA|STANDARDI</th>\n",
       "      <th>ZNANOSTI I TEHNOLOGIJA|TEHNIČKE ZNANOSTI</th>\n",
       "      <th>ZNANOSTI I TEHNOLOGIJA|ZNANSTVENA ISTRAŽIVANJA</th>\n",
       "      <th>ZNANOSTI I TEHNOLOGIJA|ZNANSTVENE USTANOVE I ORGANIZACIJE</th>\n",
       "      <th>ZNANOSTI I TEHNOLOGIJA|ZNANSTVENI DJELATNICI</th>\n",
       "    </tr>\n",
       "    <tr>\n",
       "      <th>id</th>\n",
       "      <th></th>\n",
       "      <th></th>\n",
       "      <th></th>\n",
       "      <th></th>\n",
       "      <th></th>\n",
       "      <th></th>\n",
       "      <th></th>\n",
       "      <th></th>\n",
       "      <th></th>\n",
       "      <th></th>\n",
       "      <th></th>\n",
       "      <th></th>\n",
       "      <th></th>\n",
       "      <th></th>\n",
       "      <th></th>\n",
       "      <th></th>\n",
       "      <th></th>\n",
       "      <th></th>\n",
       "      <th></th>\n",
       "      <th></th>\n",
       "      <th></th>\n",
       "    </tr>\n",
       "  </thead>\n",
       "  <tbody>\n",
       "    <tr>\n",
       "      <th>0</th>\n",
       "      <td>pravdati čekanje sedati godina smrt tan kasum znati krivac optužen liječnik raditi obitelj pokojnica ček suđenje split sedati godina smrt nesretan tan kasum kriviti dijagnoza utvrđen odgovornost liječnik splitski bolnica optužnica ček red sazivanje suđenje godina mjesec općinski sud split zaprim...</td>\n",
       "      <td>[pravdati, čekanje, sedati, godina, smrt, tan, kasum, znati, krivac, optužen, liječnik, raditi, obitelj, pokojnica, ček, suđenje, split, sedati, godina, smrt, nesretan, tan, kasum, kriviti, dijagnoza, utvrđen, odgovornost, liječnik, splitski, bolnica, optužnica, ček, red, sazivanje, suđenje, god...</td>\n",
       "      <td>PRAVDA NA ČEKANJU SEDAM GODINA NAKON SMRTI ",
       "TANJE KASUM (26) JOŠ UVIJEK SE NE ZNAJU KRIVCI\\t ",
       "Optuženi liječnici rade dok obitelj pokojnice čeka suđenjeSPLIT • Sedam godina nakon smrti nesretne Tanje Kasum (26) zbog krive dijagnoze još uvijek nije utvrđena odgovornost liječnika splitske bolnice. O...</td>\n",
       "      <td>{ZDRAVLJE|ZDRAVSTVO/ZDRAVSTVENI SUSTAV, PRAVOSUĐE/SUDSTVO/KRIMINAL|KAZNE, PRAVOSUĐE/SUDSTVO/KRIMINAL|KRIMINAL, PRAVOSUĐE/SUDSTVO/KRIMINAL|PRAVOSUĐE}</td>\n",
       "      <td>Izvještaj</td>\n",
       "      <td>0</td>\n",
       "      <td>0</td>\n",
       "      <td>0</td>\n",
       "      <td>0</td>\n",
       "      <td>0</td>\n",
       "      <td>...</td>\n",
       "      <td>0</td>\n",
       "      <td>0</td>\n",
       "      <td>0</td>\n",
       "      <td>0</td>\n",
       "      <td>0</td>\n",
       "      <td>0</td>\n",
       "      <td>0</td>\n",
       "      <td>0</td>\n",
       "      <td>0</td>\n",
       "      <td>0</td>\n",
       "    </tr>\n",
       "    <tr>\n",
       "      <th>1</th>\n",
       "      <td>uhvaćen okorjeo kriminalac presresti djevojčica zaprijetiti nož ugurati automobil vesti lisica volan djevojčica iskoristiti prometan nesreća pobjeći otmičar evidentiran kaznen djelo međa ostao silovanje pokušaj ubojstvo rijeka star policijski znanac vrbovski uhićen ponedjeljak rijeka prijetiti n...</td>\n",
       "      <td>[uhvaćen, okorjeo, kriminalac, presresti, djevojčica, zaprijetiti, nož, ugurati, automobil, vesti, lisica, volan, djevojčica, iskoristiti, prometan, nesreća, pobjeći, otmičar, evidentiran, kaznen, djelo, međa, ostao, silovanje, pokušaj, ubojstvo, rijeka, star, policijski, znanac, vrbovski, uhiće...</td>\n",
       "      <td>UHVAĆEN Okorjeli kriminalac presreo je djevojčicu, zaprijetio joj nožem, ugurao u automobil i vezao ju lisicama za volan ",
       "Djevojčica iskoristila prometnu nesreću i pobjegla otmičaruS. A. je evidentiran zbog više od 40 kaznenih djela, među ostalim i zbog dva silovanja i pokušaja ubojstvaRIJEKA - S...</td>\n",
       "      <td>{PRAVOSUĐE/SUDSTVO/KRIMINAL|POLICIJA, PRAVOSUĐE/SUDSTVO/KRIMINAL|KRIMINAL}</td>\n",
       "      <td>Izvještaj</td>\n",
       "      <td>0</td>\n",
       "      <td>0</td>\n",
       "      <td>0</td>\n",
       "      <td>0</td>\n",
       "      <td>0</td>\n",
       "      <td>...</td>\n",
       "      <td>0</td>\n",
       "      <td>0</td>\n",
       "      <td>0</td>\n",
       "      <td>0</td>\n",
       "      <td>0</td>\n",
       "      <td>0</td>\n",
       "      <td>0</td>\n",
       "      <td>0</td>\n",
       "      <td>0</td>\n",
       "      <td>0</td>\n",
       "    </tr>\n",
       "    <tr>\n",
       "      <th>2</th>\n",
       "      <td>međunarodan konferencija klasterimapoticaj konkurentnost ukupan privrediti sklop program hrvatski izvozan ofenziva predviđati osnivanje uspostava nov klastera jedini cilj izvoz hrvatski sklop županija poslovati ukupan klastera udružen tvrtka zapošljavati ukupan djelatnik sklop program hrvatski i...</td>\n",
       "      <td>[međunarodan, konferencija, klasterimapoticaj, konkurentnost, ukupan, privrediti, sklop, program, hrvatski, izvozan, ofenziva, predviđati, osnivanje, uspostava, nov, klastera, jedini, cilj, izvoz, hrvatski, sklop, županija, poslovati, ukupan, klastera, udružen, tvrtka, zapošljavati, ukupan, djel...</td>\n",
       "      <td>MEĐUNARODNA KONFERENCIJA O KLASTERIMAPOTICAJ konkurentnosti ",
       "ukupne privredeU sklopu programa Hrvatska izvozna ofenziva predviđa se osnivanje i uspostava pet novih klastera kojima će jedini cilj biti izvozU Hrvatskoj danas u sklopu osam županija posluju ukupno 22 klastera u koje je udruženo 398 t...</td>\n",
       "      <td>{GOSPODARSTVO/POSLOVANJE/FINANCIJE|EKONOMIJA OPĆENITO, GOSPODARSTVO/POSLOVANJE/FINANCIJE|GOSPODARSKO POSLOVANJE, POLITIKA|MEĐUNARODNI POLITIČKI ODNOSI, GOSPODARSTVO/POSLOVANJE/FINANCIJE|MAKROEKONOMIJA}</td>\n",
       "      <td>Izvještaj</td>\n",
       "      <td>0</td>\n",
       "      <td>0</td>\n",
       "      <td>0</td>\n",
       "      <td>0</td>\n",
       "      <td>0</td>\n",
       "      <td>...</td>\n",
       "      <td>0</td>\n",
       "      <td>0</td>\n",
       "      <td>0</td>\n",
       "      <td>0</td>\n",
       "      <td>0</td>\n",
       "      <td>0</td>\n",
       "      <td>0</td>\n",
       "      <td>0</td>\n",
       "      <td>0</td>\n",
       "      <td>0</td>\n",
       "    </tr>\n",
       "    <tr>\n",
       "      <th>3</th>\n",
       "      <td>split otvoren izložba hrvatski novinski fotografija premijer hrvatski fotografski izvrsnost žir odabrati ponuđen fotografija rad profesionalan hrvatski fotoreporter međa fotografija godina dobiti nagraditi pavao cajzek ivan fabijan nikša antonin nagrađen fotografija matko biljak ratko mavar gora...</td>\n",
       "      <td>[split, otvoren, izložba, hrvatski, novinski, fotografija, premijer, hrvatski, fotografski, izvrsnost, žir, odabrati, ponuđen, fotografija, rad, profesionalan, hrvatski, fotoreporter, međa, fotografija, godina, dobiti, nagraditi, pavao, cajzek, ivan, fabijan, nikša, antonin, nagrađen, fotografij...</td>\n",
       "      <td>U SPLITU OTVORENA IZLOŽBA »HRVATSKA NOVINSKA FOTOGRAFIJA 2004«\\tf ",
       "Premijera hrvatske »fotografske izvrsnosti« ",
       "Dva žirija odabrala su od ponuđenih 800 fotografija 98 radova 40 profesionalnih hrvatskih fotoreportera, a među njima su i fotografije koje su ove godine dobile nagrade »Pavao Cajzek«, »...</td>\n",
       "      <td>{DRUŠTVO|NAGRADE I PRIZNANJA, KULTURA  I UMJETNOST|MUZEJI / GALERIJE  , KULTURA  I UMJETNOST|KULTURNE NAGRADE / PRIZNANJA, MEDIJI|SLOBODA MEDIJA}</td>\n",
       "      <td>Izvještaj</td>\n",
       "      <td>0</td>\n",
       "      <td>0</td>\n",
       "      <td>0</td>\n",
       "      <td>0</td>\n",
       "      <td>0</td>\n",
       "      <td>...</td>\n",
       "      <td>0</td>\n",
       "      <td>0</td>\n",
       "      <td>0</td>\n",
       "      <td>0</td>\n",
       "      <td>0</td>\n",
       "      <td>0</td>\n",
       "      <td>0</td>\n",
       "      <td>0</td>\n",
       "      <td>0</td>\n",
       "      <td>0</td>\n",
       "    </tr>\n",
       "    <tr>\n",
       "      <th>4</th>\n",
       "      <td>intervencija raniti policijski djelatnik mato ponovan zaključati soba psihički bolesnik ubo policajac zagreb mato psihički bolesnik ubo nož policajac pras ekipa hitan pomoći doći intervencija dom starogradski ulica sesveta sat policija pozvati sestra doći zaključati soba nagovaranje izaći nož ru...</td>\n",
       "      <td>[intervencija, raniti, policijski, djelatnik, mato, ponovan, zaključati, soba, psihički, bolesnik, ubo, policajac, zagreb, mato, psihički, bolesnik, ubo, nož, policajac, pras, ekipa, hitan, pomoći, doći, intervencija, dom, starogradski, ulica, sesveta, sat, policija, pozvati, sestra, doći, zaklj...</td>\n",
       "      <td>INTERVENCIJA Nakon što je ranio policijskog djelatnika, Mato Ć. (42) ponovno se zaključao u sobu ",
       "Psihički bolesnik ubo policajcaZAGREB - Mato Ć. (42), psihički bolesnik, ubo je nožem policajca u prsa nakon što je ovaj s ekipom Hitne pomoći došao na intervenciju u njegov dom u Starogradskoj ulici...</td>\n",
       "      <td>{PRAVOSUĐE/SUDSTVO/KRIMINAL|POLICIJA}</td>\n",
       "      <td>Izvještaj</td>\n",
       "      <td>0</td>\n",
       "      <td>0</td>\n",
       "      <td>0</td>\n",
       "      <td>0</td>\n",
       "      <td>0</td>\n",
       "      <td>...</td>\n",
       "      <td>0</td>\n",
       "      <td>0</td>\n",
       "      <td>0</td>\n",
       "      <td>0</td>\n",
       "      <td>0</td>\n",
       "      <td>0</td>\n",
       "      <td>0</td>\n",
       "      <td>0</td>\n",
       "      <td>0</td>\n",
       "      <td>0</td>\n",
       "    </tr>\n",
       "    <tr>\n",
       "      <th>...</th>\n",
       "      <td>...</td>\n",
       "      <td>...</td>\n",
       "      <td>...</td>\n",
       "      <td>...</td>\n",
       "      <td>...</td>\n",
       "      <td>...</td>\n",
       "      <td>...</td>\n",
       "      <td>...</td>\n",
       "      <td>...</td>\n",
       "      <td>...</td>\n",
       "      <td>...</td>\n",
       "      <td>...</td>\n",
       "      <td>...</td>\n",
       "      <td>...</td>\n",
       "      <td>...</td>\n",
       "      <td>...</td>\n",
       "      <td>...</td>\n",
       "      <td>...</td>\n",
       "      <td>...</td>\n",
       "      <td>...</td>\n",
       "      <td>...</td>\n",
       "    </tr>\n",
       "    <tr>\n",
       "      <th>39072</th>\n",
       "      <td>noćan moriti ulogeženski razgovorati barbar prpić zagrebački glumica rođen odrasao njemački godina pobjeći kuća živjeti skvotu berlin steći iskustvo velik uloga djeca kolodvor zoo kolegica predstava ptica dubrovački ljetan igra stvar idealan država muškarac roditelj dan bjesnjeti tinejdžerica po...</td>\n",
       "      <td>[noćan, moriti, ulogeženski, razgovorati, barbar, prpić, zagrebački, glumica, rođen, odrasao, njemački, godina, pobjeći, kuća, živjeti, skvotu, berlin, steći, iskustvo, velik, uloga, djeca, kolodvor, zoo, kolegica, predstava, ptica, dubrovački, ljetan, igra, stvar, idealan, država, muškarac, rod...</td>\n",
       "      <td>Noćne more zbog ulogeŽENSKI RAZGOVORI: ",
       "BARBARA PRPIĆ ",
       "Zagrebačka glumica, rođena i odrasla u Njemačkoj, koja je s 18 godina pobjegla od kuće i živjela u skvotu u Berlinu, gdje je stekla iskustvo za prvu veliku ulogu, u 'Djeci s kolodvora Zoo', danas sa svojih jedanaest kolegica - u predstavi 'Pti...</td>\n",
       "      <td>{KULTURA  I UMJETNOST|KAZALIŠTE, KULTURA  I UMJETNOST|UMJETNICI}</td>\n",
       "      <td>Intervju</td>\n",
       "      <td>0</td>\n",
       "      <td>0</td>\n",
       "      <td>0</td>\n",
       "      <td>0</td>\n",
       "      <td>0</td>\n",
       "      <td>...</td>\n",
       "      <td>0</td>\n",
       "      <td>0</td>\n",
       "      <td>0</td>\n",
       "      <td>0</td>\n",
       "      <td>0</td>\n",
       "      <td>0</td>\n",
       "      <td>0</td>\n",
       "      <td>0</td>\n",
       "      <td>0</td>\n",
       "      <td>0</td>\n",
       "    </tr>\n",
       "    <tr>\n",
       "      <th>39073</th>\n",
       "      <td>gradski blagajna obznanjen cijena spomenik branitelj pila kockati more kuna cijena spomenik branitelj pila konačan poznat iznos točan navod pročelnik ured kultura društven djelatnost miha katičić kuna kompletan cijena moći dat završen rad prva faza uređenje platoa piti spadati spomenik pripadaju...</td>\n",
       "      <td>[gradski, blagajna, obznanjen, cijena, spomenik, branitelj, pila, kockati, more, kuna, cijena, spomenik, branitelj, pila, konačan, poznat, iznos, točan, navod, pročelnik, ured, kultura, društven, djelatnost, miha, katičić, kuna, kompletan, cijena, moći, dat, završen, rad, prva, faza, uređenje, p...</td>\n",
       "      <td>GRADSKA BLAGAJNA OBZNANJENA CIJENA SPOMENIKA BRANITELJIMA NA PILAMA ",
       "'Kocka mora' od pet milijuna kuna•• Cijena spomenika braniteljima na Pilama konačno je poznata i iznosi, kako točno navodi pročelnik Ureda za kulturu i društvene djelatnosti Miho Katičić - 4,827.235 kuna. ",
       "- Kompletnu cijenu nism...</td>\n",
       "      <td>{GOSPODARSTVO/POSLOVANJE/FINANCIJE|MAKROEKONOMIJA, KULTURA  I UMJETNOST|LIKOVNA UMJETNOST, KULTURA  I UMJETNOST|ILUSTRACIJA, POLITIKA|IZVRŠNA VLAST}</td>\n",
       "      <td>Izvještaj</td>\n",
       "      <td>0</td>\n",
       "      <td>0</td>\n",
       "      <td>0</td>\n",
       "      <td>0</td>\n",
       "      <td>0</td>\n",
       "      <td>...</td>\n",
       "      <td>0</td>\n",
       "      <td>0</td>\n",
       "      <td>0</td>\n",
       "      <td>0</td>\n",
       "      <td>0</td>\n",
       "      <td>0</td>\n",
       "      <td>0</td>\n",
       "      <td>0</td>\n",
       "      <td>0</td>\n",
       "      <td>0</td>\n",
       "    </tr>\n",
       "    <tr>\n",
       "      <th>39074</th>\n",
       "      <td>projekt ujedinjenje svih srpski zemaljapodlistakod postanak republika srpski krajina tjedana prijati neslavan svršetak dokument velikosrpski tvorevina razvidan osnovan svrha smisao sastojati ujedinjenje okupiran hrvatski okupiran bosanskohercegovački jedim jedini jedinstven velikosrpski tvorevin...</td>\n",
       "      <td>[projekt, ujedinjenje, svih, srpski, zemaljapodlistakod, postanak, republika, srpski, krajina, tjedana, prijati, neslavan, svršetak, dokument, velikosrpski, tvorevina, razvidan, osnovan, svrha, smisao, sastojati, ujedinjenje, okupiran, hrvatski, okupiran, bosanskohercegovački, jedim, jedini, jed...</td>\n",
       "      <td>PROJEKT UJEDINJENJA SVIH SRPSKIH ZEMALJAPODLISTAKOd postanka »republike srpske krajine« pa do nekoliko tjedana prije njezina neslavna svršetka, kroz dokumente te velikosrpske tvorevine razvidna je njezina osnovna svrha i smisao. Ona se sastoji u ujedinjenju okupiranih hrvatskih krajeva s okupira...</td>\n",
       "      <td>{POLITIKA|UNUTARNJA POLITIKA, NEMIRI/SUKOBI/RATOVI|POLITIČKA KRIZA, PRAVOSUĐE/SUDSTVO/KRIMINAL|PRAVOSUĐE}</td>\n",
       "      <td>Feljton</td>\n",
       "      <td>0</td>\n",
       "      <td>0</td>\n",
       "      <td>0</td>\n",
       "      <td>0</td>\n",
       "      <td>0</td>\n",
       "      <td>...</td>\n",
       "      <td>0</td>\n",
       "      <td>0</td>\n",
       "      <td>0</td>\n",
       "      <td>0</td>\n",
       "      <td>0</td>\n",
       "      <td>0</td>\n",
       "      <td>0</td>\n",
       "      <td>0</td>\n",
       "      <td>0</td>\n",
       "      <td>0</td>\n",
       "    </tr>\n",
       "    <tr>\n",
       "      <th>39075</th>\n",
       "      <td>državan odvjetnik angažirati madison glasnogovornica državan odvjetništvo martin mihordin tužiteljstvo angažirati stručnjak odnositi javnost raditi agencija madison mladen bajić pristup pojedini medijima savjetovati bivši mup glasnogovornica zinka bardić pr mag krešimir macan</td>\n",
       "      <td>[državan, odvjetnik, angažirati, madison, glasnogovornica, državan, odvjetništvo, martin, mihordin, tužiteljstvo, angažirati, stručnjak, odnositi, javnost, raditi, agencija, madison, mladen, bajić, pristup, pojedini, medijima, savjetovati, bivši, mup, glasnogovornica, zinka, bardić, pr, mag, kre...</td>\n",
       "      <td>Državni odvjetnik angažirao Madison ",
       "Uz glasnogovornicu Državnog odvjetništva Martinu Mihordin, tužiteljstvo će angažirati i stručnjake za odnose s javnošću. Radi se o agenciji Madison, pa će Mladena Bajića za pristup pojedinim medijima savjetovati bivša MUP-ova glasnogovornica Zinka Bardić i PR ...</td>\n",
       "      <td>{PRAVOSUĐE/SUDSTVO/KRIMINAL|DRŽAVNO ODVJETNIŠTVO / TUŽITELJSTVO, GOSPODARSTVO/POSLOVANJE/FINANCIJE|GOSPODARSKO POSLOVANJE, PRAVOSUĐE/SUDSTVO/KRIMINAL|PRAVOSUĐE}</td>\n",
       "      <td>Vijest</td>\n",
       "      <td>0</td>\n",
       "      <td>0</td>\n",
       "      <td>0</td>\n",
       "      <td>0</td>\n",
       "      <td>0</td>\n",
       "      <td>...</td>\n",
       "      <td>0</td>\n",
       "      <td>0</td>\n",
       "      <td>0</td>\n",
       "      <td>0</td>\n",
       "      <td>0</td>\n",
       "      <td>0</td>\n",
       "      <td>0</td>\n",
       "      <td>0</td>\n",
       "      <td>0</td>\n",
       "      <td>0</td>\n",
       "    </tr>\n",
       "    <tr>\n",
       "      <th>39076</th>\n",
       "      <td>frižider petrov ilegalan skladišat zametaka skandalozan otkriće inspekcija proveden godiner pronađen smrznut zametaka gotov pripadati par liječiti liječnik privatan poliklinika supruga asim kurjak svet duh otkriven dokumentacija sadržavati inicijal par zametak mjesto stanovanje brojati izvađen z...</td>\n",
       "      <td>[frižider, petrov, ilegalan, skladišat, zametaka, skandalozan, otkriće, inspekcija, proveden, godiner, pronađen, smrznut, zametaka, gotov, pripadati, par, liječiti, liječnik, privatan, poliklinika, supruga, asim, kurjak, svet, duh, otkriven, dokumentacija, sadržavati, inicijal, par, zametak, mje...</td>\n",
       "      <td>U frižideru Petrove ilegalno skladište 500 zametakaSKANDALOZNO OTKRIĆE INSPEKCIJE PROVEDENE 2003. GODINEr Pronađeno je više stotina smrznutih zametaka, od kojih je gotovo 90 posto pripadalo parovima koje su liječili liječnici iz privatne poliklinike supruge dr. Asima Kurjaka ili sa Svetog DuhaS ...</td>\n",
       "      <td>{ZDRAVLJE|BOLESTI, ZDRAVLJE|MEDICINA, PRAVOSUĐE/SUDSTVO/KRIMINAL|KRIMINAL, PRAVOSUĐE/SUDSTVO/KRIMINAL|GOSPODARSKI KRIMINAL}</td>\n",
       "      <td>Izvještaj</td>\n",
       "      <td>0</td>\n",
       "      <td>0</td>\n",
       "      <td>0</td>\n",
       "      <td>0</td>\n",
       "      <td>0</td>\n",
       "      <td>...</td>\n",
       "      <td>0</td>\n",
       "      <td>0</td>\n",
       "      <td>0</td>\n",
       "      <td>0</td>\n",
       "      <td>0</td>\n",
       "      <td>0</td>\n",
       "      <td>0</td>\n",
       "      <td>0</td>\n",
       "      <td>0</td>\n",
       "      <td>0</td>\n",
       "    </tr>\n",
       "  </tbody>\n",
       "</table>\n",
       "<p>39058 rows × 219 columns</p>\n",
       "</div>"
      ],
      "text/plain": [
       "                                                                                                                                                                                                                                                                                                        clean_text  \\\n",
       "id                                                                                                                                                                                                                                                                                                                   \n",
       "0      pravdati čekanje sedati godina smrt tan kasum znati krivac optužen liječnik raditi obitelj pokojnica ček suđenje split sedati godina smrt nesretan tan kasum kriviti dijagnoza utvrđen odgovornost liječnik splitski bolnica optužnica ček red sazivanje suđenje godina mjesec općinski sud split zaprim...   \n",
       "1      uhvaćen okorjeo kriminalac presresti djevojčica zaprijetiti nož ugurati automobil vesti lisica volan djevojčica iskoristiti prometan nesreća pobjeći otmičar evidentiran kaznen djelo međa ostao silovanje pokušaj ubojstvo rijeka star policijski znanac vrbovski uhićen ponedjeljak rijeka prijetiti n...   \n",
       "2      međunarodan konferencija klasterimapoticaj konkurentnost ukupan privrediti sklop program hrvatski izvozan ofenziva predviđati osnivanje uspostava nov klastera jedini cilj izvoz hrvatski sklop županija poslovati ukupan klastera udružen tvrtka zapošljavati ukupan djelatnik sklop program hrvatski i...   \n",
       "3      split otvoren izložba hrvatski novinski fotografija premijer hrvatski fotografski izvrsnost žir odabrati ponuđen fotografija rad profesionalan hrvatski fotoreporter međa fotografija godina dobiti nagraditi pavao cajzek ivan fabijan nikša antonin nagrađen fotografija matko biljak ratko mavar gora...   \n",
       "4      intervencija raniti policijski djelatnik mato ponovan zaključati soba psihički bolesnik ubo policajac zagreb mato psihički bolesnik ubo nož policajac pras ekipa hitan pomoći doći intervencija dom starogradski ulica sesveta sat policija pozvati sestra doći zaključati soba nagovaranje izaći nož ru...   \n",
       "...                                                                                                                                                                                                                                                                                                            ...   \n",
       "39072  noćan moriti ulogeženski razgovorati barbar prpić zagrebački glumica rođen odrasao njemački godina pobjeći kuća živjeti skvotu berlin steći iskustvo velik uloga djeca kolodvor zoo kolegica predstava ptica dubrovački ljetan igra stvar idealan država muškarac roditelj dan bjesnjeti tinejdžerica po...   \n",
       "39073  gradski blagajna obznanjen cijena spomenik branitelj pila kockati more kuna cijena spomenik branitelj pila konačan poznat iznos točan navod pročelnik ured kultura društven djelatnost miha katičić kuna kompletan cijena moći dat završen rad prva faza uređenje platoa piti spadati spomenik pripadaju...   \n",
       "39074  projekt ujedinjenje svih srpski zemaljapodlistakod postanak republika srpski krajina tjedana prijati neslavan svršetak dokument velikosrpski tvorevina razvidan osnovan svrha smisao sastojati ujedinjenje okupiran hrvatski okupiran bosanskohercegovački jedim jedini jedinstven velikosrpski tvorevin...   \n",
       "39075                         državan odvjetnik angažirati madison glasnogovornica državan odvjetništvo martin mihordin tužiteljstvo angažirati stručnjak odnositi javnost raditi agencija madison mladen bajić pristup pojedini medijima savjetovati bivši mup glasnogovornica zinka bardić pr mag krešimir macan   \n",
       "39076  frižider petrov ilegalan skladišat zametaka skandalozan otkriće inspekcija proveden godiner pronađen smrznut zametaka gotov pripadati par liječiti liječnik privatan poliklinika supruga asim kurjak svet duh otkriven dokumentacija sadržavati inicijal par zametak mjesto stanovanje brojati izvađen z...   \n",
       "\n",
       "                                                                                                                                                                                                                                                                                              clean_text_tokenized  \\\n",
       "id                                                                                                                                                                                                                                                                                                                   \n",
       "0      [pravdati, čekanje, sedati, godina, smrt, tan, kasum, znati, krivac, optužen, liječnik, raditi, obitelj, pokojnica, ček, suđenje, split, sedati, godina, smrt, nesretan, tan, kasum, kriviti, dijagnoza, utvrđen, odgovornost, liječnik, splitski, bolnica, optužnica, ček, red, sazivanje, suđenje, god...   \n",
       "1      [uhvaćen, okorjeo, kriminalac, presresti, djevojčica, zaprijetiti, nož, ugurati, automobil, vesti, lisica, volan, djevojčica, iskoristiti, prometan, nesreća, pobjeći, otmičar, evidentiran, kaznen, djelo, međa, ostao, silovanje, pokušaj, ubojstvo, rijeka, star, policijski, znanac, vrbovski, uhiće...   \n",
       "2      [međunarodan, konferencija, klasterimapoticaj, konkurentnost, ukupan, privrediti, sklop, program, hrvatski, izvozan, ofenziva, predviđati, osnivanje, uspostava, nov, klastera, jedini, cilj, izvoz, hrvatski, sklop, županija, poslovati, ukupan, klastera, udružen, tvrtka, zapošljavati, ukupan, djel...   \n",
       "3      [split, otvoren, izložba, hrvatski, novinski, fotografija, premijer, hrvatski, fotografski, izvrsnost, žir, odabrati, ponuđen, fotografija, rad, profesionalan, hrvatski, fotoreporter, međa, fotografija, godina, dobiti, nagraditi, pavao, cajzek, ivan, fabijan, nikša, antonin, nagrađen, fotografij...   \n",
       "4      [intervencija, raniti, policijski, djelatnik, mato, ponovan, zaključati, soba, psihički, bolesnik, ubo, policajac, zagreb, mato, psihički, bolesnik, ubo, nož, policajac, pras, ekipa, hitan, pomoći, doći, intervencija, dom, starogradski, ulica, sesveta, sat, policija, pozvati, sestra, doći, zaklj...   \n",
       "...                                                                                                                                                                                                                                                                                                            ...   \n",
       "39072  [noćan, moriti, ulogeženski, razgovorati, barbar, prpić, zagrebački, glumica, rođen, odrasao, njemački, godina, pobjeći, kuća, živjeti, skvotu, berlin, steći, iskustvo, velik, uloga, djeca, kolodvor, zoo, kolegica, predstava, ptica, dubrovački, ljetan, igra, stvar, idealan, država, muškarac, rod...   \n",
       "39073  [gradski, blagajna, obznanjen, cijena, spomenik, branitelj, pila, kockati, more, kuna, cijena, spomenik, branitelj, pila, konačan, poznat, iznos, točan, navod, pročelnik, ured, kultura, društven, djelatnost, miha, katičić, kuna, kompletan, cijena, moći, dat, završen, rad, prva, faza, uređenje, p...   \n",
       "39074  [projekt, ujedinjenje, svih, srpski, zemaljapodlistakod, postanak, republika, srpski, krajina, tjedana, prijati, neslavan, svršetak, dokument, velikosrpski, tvorevina, razvidan, osnovan, svrha, smisao, sastojati, ujedinjenje, okupiran, hrvatski, okupiran, bosanskohercegovački, jedim, jedini, jed...   \n",
       "39075  [državan, odvjetnik, angažirati, madison, glasnogovornica, državan, odvjetništvo, martin, mihordin, tužiteljstvo, angažirati, stručnjak, odnositi, javnost, raditi, agencija, madison, mladen, bajić, pristup, pojedini, medijima, savjetovati, bivši, mup, glasnogovornica, zinka, bardić, pr, mag, kre...   \n",
       "39076  [frižider, petrov, ilegalan, skladišat, zametaka, skandalozan, otkriće, inspekcija, proveden, godiner, pronađen, smrznut, zametaka, gotov, pripadati, par, liječiti, liječnik, privatan, poliklinika, supruga, asim, kurjak, svet, duh, otkriven, dokumentacija, sadržavati, inicijal, par, zametak, mje...   \n",
       "\n",
       "                                                                                                                                                                                                                                                                                                              text  \\\n",
       "id                                                                                                                                                                                                                                                                                                                   \n",
       "0      PRAVDA NA ČEKANJU SEDAM GODINA NAKON SMRTI\n",
       "TANJE KASUM (26) JOŠ UVIJEK SE NE ZNAJU KRIVCI\\t\n",
       "Optuženi liječnici rade dok obitelj pokojnice čeka suđenjeSPLIT • Sedam godina nakon smrti nesretne Tanje Kasum (26) zbog krive dijagnoze još uvijek nije utvrđena odgovornost liječnika splitske bolnice. O...   \n",
       "1      UHVAĆEN Okorjeli kriminalac presreo je djevojčicu, zaprijetio joj nožem, ugurao u automobil i vezao ju lisicama za volan\n",
       "Djevojčica iskoristila prometnu nesreću i pobjegla otmičaruS. A. je evidentiran zbog više od 40 kaznenih djela, među ostalim i zbog dva silovanja i pokušaja ubojstvaRIJEKA - S...   \n",
       "2      MEĐUNARODNA KONFERENCIJA O KLASTERIMAPOTICAJ konkurentnosti\n",
       "ukupne privredeU sklopu programa Hrvatska izvozna ofenziva predviđa se osnivanje i uspostava pet novih klastera kojima će jedini cilj biti izvozU Hrvatskoj danas u sklopu osam županija posluju ukupno 22 klastera u koje je udruženo 398 t...   \n",
       "3      U SPLITU OTVORENA IZLOŽBA »HRVATSKA NOVINSKA FOTOGRAFIJA 2004«\\tf\n",
       "Premijera hrvatske »fotografske izvrsnosti«\n",
       "Dva žirija odabrala su od ponuđenih 800 fotografija 98 radova 40 profesionalnih hrvatskih fotoreportera, a među njima su i fotografije koje su ove godine dobile nagrade »Pavao Cajzek«, »...   \n",
       "4      INTERVENCIJA Nakon što je ranio policijskog djelatnika, Mato Ć. (42) ponovno se zaključao u sobu\n",
       "Psihički bolesnik ubo policajcaZAGREB - Mato Ć. (42), psihički bolesnik, ubo je nožem policajca u prsa nakon što je ovaj s ekipom Hitne pomoći došao na intervenciju u njegov dom u Starogradskoj ulici...   \n",
       "...                                                                                                                                                                                                                                                                                                            ...   \n",
       "39072  Noćne more zbog ulogeŽENSKI RAZGOVORI:\n",
       "BARBARA PRPIĆ\n",
       "Zagrebačka glumica, rođena i odrasla u Njemačkoj, koja je s 18 godina pobjegla od kuće i živjela u skvotu u Berlinu, gdje je stekla iskustvo za prvu veliku ulogu, u 'Djeci s kolodvora Zoo', danas sa svojih jedanaest kolegica - u predstavi 'Pti...   \n",
       "39073  GRADSKA BLAGAJNA OBZNANJENA CIJENA SPOMENIKA BRANITELJIMA NA PILAMA\n",
       "'Kocka mora' od pet milijuna kuna•• Cijena spomenika braniteljima na Pilama konačno je poznata i iznosi, kako točno navodi pročelnik Ureda za kulturu i društvene djelatnosti Miho Katičić - 4,827.235 kuna.\n",
       "- Kompletnu cijenu nism...   \n",
       "39074  PROJEKT UJEDINJENJA SVIH SRPSKIH ZEMALJAPODLISTAKOd postanka »republike srpske krajine« pa do nekoliko tjedana prije njezina neslavna svršetka, kroz dokumente te velikosrpske tvorevine razvidna je njezina osnovna svrha i smisao. Ona se sastoji u ujedinjenju okupiranih hrvatskih krajeva s okupira...   \n",
       "39075  Državni odvjetnik angažirao Madison\n",
       "Uz glasnogovornicu Državnog odvjetništva Martinu Mihordin, tužiteljstvo će angažirati i stručnjake za odnose s javnošću. Radi se o agenciji Madison, pa će Mladena Bajića za pristup pojedinim medijima savjetovati bivša MUP-ova glasnogovornica Zinka Bardić i PR ...   \n",
       "39076  U frižideru Petrove ilegalno skladište 500 zametakaSKANDALOZNO OTKRIĆE INSPEKCIJE PROVEDENE 2003. GODINEr Pronađeno je više stotina smrznutih zametaka, od kojih je gotovo 90 posto pripadalo parovima koje su liječili liječnici iz privatne poliklinike supruge dr. Asima Kurjaka ili sa Svetog DuhaS ...   \n",
       "\n",
       "                                                                                                                                                                                                          topics  \\\n",
       "id                                                                                                                                                                                                                 \n",
       "0                                                           {ZDRAVLJE|ZDRAVSTVO/ZDRAVSTVENI SUSTAV, PRAVOSUĐE/SUDSTVO/KRIMINAL|KAZNE, PRAVOSUĐE/SUDSTVO/KRIMINAL|KRIMINAL, PRAVOSUĐE/SUDSTVO/KRIMINAL|PRAVOSUĐE}   \n",
       "1                                                                                                                                     {PRAVOSUĐE/SUDSTVO/KRIMINAL|POLICIJA, PRAVOSUĐE/SUDSTVO/KRIMINAL|KRIMINAL}   \n",
       "2      {GOSPODARSTVO/POSLOVANJE/FINANCIJE|EKONOMIJA OPĆENITO, GOSPODARSTVO/POSLOVANJE/FINANCIJE|GOSPODARSKO POSLOVANJE, POLITIKA|MEĐUNARODNI POLITIČKI ODNOSI, GOSPODARSTVO/POSLOVANJE/FINANCIJE|MAKROEKONOMIJA}   \n",
       "3                                                              {DRUŠTVO|NAGRADE I PRIZNANJA, KULTURA  I UMJETNOST|MUZEJI / GALERIJE  , KULTURA  I UMJETNOST|KULTURNE NAGRADE / PRIZNANJA, MEDIJI|SLOBODA MEDIJA}   \n",
       "4                                                                                                                                                                          {PRAVOSUĐE/SUDSTVO/KRIMINAL|POLICIJA}   \n",
       "...                                                                                                                                                                                                          ...   \n",
       "39072                                                                                                                                           {KULTURA  I UMJETNOST|KAZALIŠTE, KULTURA  I UMJETNOST|UMJETNICI}   \n",
       "39073                                                       {GOSPODARSTVO/POSLOVANJE/FINANCIJE|MAKROEKONOMIJA, KULTURA  I UMJETNOST|LIKOVNA UMJETNOST, KULTURA  I UMJETNOST|ILUSTRACIJA, POLITIKA|IZVRŠNA VLAST}   \n",
       "39074                                                                                                  {POLITIKA|UNUTARNJA POLITIKA, NEMIRI/SUKOBI/RATOVI|POLITIČKA KRIZA, PRAVOSUĐE/SUDSTVO/KRIMINAL|PRAVOSUĐE}   \n",
       "39075                                           {PRAVOSUĐE/SUDSTVO/KRIMINAL|DRŽAVNO ODVJETNIŠTVO / TUŽITELJSTVO, GOSPODARSTVO/POSLOVANJE/FINANCIJE|GOSPODARSKO POSLOVANJE, PRAVOSUĐE/SUDSTVO/KRIMINAL|PRAVOSUĐE}   \n",
       "39076                                                                                {ZDRAVLJE|BOLESTI, ZDRAVLJE|MEDICINA, PRAVOSUĐE/SUDSTVO/KRIMINAL|KRIMINAL, PRAVOSUĐE/SUDSTVO/KRIMINAL|GOSPODARSKI KRIMINAL}   \n",
       "\n",
       "           genre  DRUŠTVO  DRUŠTVO|DEMOGRAFIJA  DRUŠTVO|DONACIJE  \\\n",
       "id                                                                 \n",
       "0      Izvještaj        0                    0                 0   \n",
       "1      Izvještaj        0                    0                 0   \n",
       "2      Izvještaj        0                    0                 0   \n",
       "3      Izvještaj        0                    0                 0   \n",
       "4      Izvještaj        0                    0                 0   \n",
       "...          ...      ...                  ...               ...   \n",
       "39072   Intervju        0                    0                 0   \n",
       "39073  Izvještaj        0                    0                 0   \n",
       "39074    Feljton        0                    0                 0   \n",
       "39075     Vijest        0                    0                 0   \n",
       "39076  Izvještaj        0                    0                 0   \n",
       "\n",
       "       DRUŠTVO|HUMANITARNI RAD  DRUŠTVO|INVALIDI  ...  \\\n",
       "id                                                ...   \n",
       "0                            0                 0  ...   \n",
       "1                            0                 0  ...   \n",
       "2                            0                 0  ...   \n",
       "3                            0                 0  ...   \n",
       "4                            0                 0  ...   \n",
       "...                        ...               ...  ...   \n",
       "39072                        0                 0  ...   \n",
       "39073                        0                 0  ...   \n",
       "39074                        0                 0  ...   \n",
       "39075                        0                 0  ...   \n",
       "39076                        0                 0  ...   \n",
       "\n",
       "       ZNANOSTI I TEHNOLOGIJA|BIOMEDICINA I ZDRAVSTVO  \\\n",
       "id                                                      \n",
       "0                                                   0   \n",
       "1                                                   0   \n",
       "2                                                   0   \n",
       "3                                                   0   \n",
       "4                                                   0   \n",
       "...                                               ...   \n",
       "39072                                               0   \n",
       "39073                                               0   \n",
       "39074                                               0   \n",
       "39075                                               0   \n",
       "39076                                               0   \n",
       "\n",
       "       ZNANOSTI I TEHNOLOGIJA|BIOTEHNIČKE ZNANOSTI  \\\n",
       "id                                                   \n",
       "0                                                0   \n",
       "1                                                0   \n",
       "2                                                0   \n",
       "3                                                0   \n",
       "4                                                0   \n",
       "...                                            ...   \n",
       "39072                                            0   \n",
       "39073                                            0   \n",
       "39074                                            0   \n",
       "39075                                            0   \n",
       "39076                                            0   \n",
       "\n",
       "       ZNANOSTI I TEHNOLOGIJA|DRUŠTVENE ZNANOSTI  \\\n",
       "id                                                 \n",
       "0                                              0   \n",
       "1                                              0   \n",
       "2                                              0   \n",
       "3                                              0   \n",
       "4                                              0   \n",
       "...                                          ...   \n",
       "39072                                          0   \n",
       "39073                                          0   \n",
       "39074                                          0   \n",
       "39075                                          0   \n",
       "39076                                          0   \n",
       "\n",
       "       ZNANOSTI I TEHNOLOGIJA|HUMANISTIČKE ZNANOSTI  \\\n",
       "id                                                    \n",
       "0                                                 0   \n",
       "1                                                 0   \n",
       "2                                                 0   \n",
       "3                                                 0   \n",
       "4                                                 0   \n",
       "...                                             ...   \n",
       "39072                                             0   \n",
       "39073                                             0   \n",
       "39074                                             0   \n",
       "39075                                             0   \n",
       "39076                                             0   \n",
       "\n",
       "       ZNANOSTI I TEHNOLOGIJA|PRIRODNE ZNANOSTI  \\\n",
       "id                                                \n",
       "0                                             0   \n",
       "1                                             0   \n",
       "2                                             0   \n",
       "3                                             0   \n",
       "4                                             0   \n",
       "...                                         ...   \n",
       "39072                                         0   \n",
       "39073                                         0   \n",
       "39074                                         0   \n",
       "39075                                         0   \n",
       "39076                                         0   \n",
       "\n",
       "       ZNANOSTI I TEHNOLOGIJA|STANDARDI  \\\n",
       "id                                        \n",
       "0                                     0   \n",
       "1                                     0   \n",
       "2                                     0   \n",
       "3                                     0   \n",
       "4                                     0   \n",
       "...                                 ...   \n",
       "39072                                 0   \n",
       "39073                                 0   \n",
       "39074                                 0   \n",
       "39075                                 0   \n",
       "39076                                 0   \n",
       "\n",
       "       ZNANOSTI I TEHNOLOGIJA|TEHNIČKE ZNANOSTI  \\\n",
       "id                                                \n",
       "0                                             0   \n",
       "1                                             0   \n",
       "2                                             0   \n",
       "3                                             0   \n",
       "4                                             0   \n",
       "...                                         ...   \n",
       "39072                                         0   \n",
       "39073                                         0   \n",
       "39074                                         0   \n",
       "39075                                         0   \n",
       "39076                                         0   \n",
       "\n",
       "       ZNANOSTI I TEHNOLOGIJA|ZNANSTVENA ISTRAŽIVANJA  \\\n",
       "id                                                      \n",
       "0                                                   0   \n",
       "1                                                   0   \n",
       "2                                                   0   \n",
       "3                                                   0   \n",
       "4                                                   0   \n",
       "...                                               ...   \n",
       "39072                                               0   \n",
       "39073                                               0   \n",
       "39074                                               0   \n",
       "39075                                               0   \n",
       "39076                                               0   \n",
       "\n",
       "       ZNANOSTI I TEHNOLOGIJA|ZNANSTVENE USTANOVE I ORGANIZACIJE  \\\n",
       "id                                                                 \n",
       "0                                                              0   \n",
       "1                                                              0   \n",
       "2                                                              0   \n",
       "3                                                              0   \n",
       "4                                                              0   \n",
       "...                                                          ...   \n",
       "39072                                                          0   \n",
       "39073                                                          0   \n",
       "39074                                                          0   \n",
       "39075                                                          0   \n",
       "39076                                                          0   \n",
       "\n",
       "       ZNANOSTI I TEHNOLOGIJA|ZNANSTVENI DJELATNICI  \n",
       "id                                                   \n",
       "0                                                 0  \n",
       "1                                                 0  \n",
       "2                                                 0  \n",
       "3                                                 0  \n",
       "4                                                 0  \n",
       "...                                             ...  \n",
       "39072                                             0  \n",
       "39073                                             0  \n",
       "39074                                             0  \n",
       "39075                                             0  \n",
       "39076                                             0  \n",
       "\n",
       "[39058 rows x 219 columns]"
      ]
     },
     "execution_count": 21,
     "metadata": {},
     "output_type": "execute_result"
    }
   ],
   "source": [
    "df.insert(0, 'clean_text_tokenized', clean_text_tokenized)\n",
    "df.insert(0, 'clean_text', clean_text)\n",
    "\n",
    "df['id'] = df.index\n",
    "df.set_index(\"id\", inplace=True)\n",
    "\n",
    "df"
   ]
  },
  {
   "cell_type": "markdown",
   "metadata": {},
   "source": [
    "#### preprocessed text"
   ]
  },
  {
   "cell_type": "code",
   "execution_count": 22,
   "metadata": {
    "ExecuteTime": {
     "end_time": "2020-09-24T13:51:05.502157Z",
     "start_time": "2020-09-24T13:50:56.707389Z"
    }
   },
   "outputs": [
    {
     "data": {
      "image/png": "[encoded data removed]",
      "text/plain": [
       "<Figure size 1080x288 with 1 Axes>"
      ]
     },
     "metadata": {},
     "output_type": "display_data"
    },
    {
     "name": "stdout",
     "output_type": "stream",
     "text": [
      "361273\n"
     ]
    }
   ],
   "source": [
    "# print 20 most frequent words\n",
    "size = freq_words(df['clean_text'], 20)\n",
    "print(size)"
   ]
  },
  {
   "cell_type": "markdown",
   "metadata": {},
   "source": [
    "#### unprocessed text"
   ]
  },
  {
   "cell_type": "code",
   "execution_count": 23,
   "metadata": {
    "ExecuteTime": {
     "end_time": "2020-09-24T13:51:21.137450Z",
     "start_time": "2020-09-24T13:51:05.503723Z"
    }
   },
   "outputs": [
    {
     "data": {
      "image/png": "[encoded data removed]",
      "text/plain": [
       "<Figure size 1080x288 with 1 Axes>"
      ]
     },
     "metadata": {},
     "output_type": "display_data"
    },
    {
     "name": "stdout",
     "output_type": "stream",
     "text": [
      "1377714\n"
     ]
    }
   ],
   "source": [
    "size = freq_words(df['text'], 20)\n",
    "print(size)"
   ]
  },
  {
   "cell_type": "markdown",
   "metadata": {},
   "source": [
    "## Save and verify"
   ]
  },
  {
   "cell_type": "code",
   "execution_count": 17,
   "metadata": {
    "ExecuteTime": {
     "end_time": "2020-06-05T17:01:39.991717Z",
     "start_time": "2020-06-05T17:01:38.177705Z"
    }
   },
   "outputs": [],
   "source": [
    "df.to_pickle(\"./dataset_2_with_topics_prot_4.pkl\")"
   ]
  },
  {
   "cell_type": "code",
   "execution_count": 26,
   "metadata": {
    "ExecuteTime": {
     "end_time": "2020-09-24T13:51:35.935032Z",
     "start_time": "2020-09-24T13:51:34.453850Z"
    }
   },
   "outputs": [
    {
     "data": {
      "text/html": [
       "<div>\n",
       "<style scoped>\n",
       "    .dataframe tbody tr th:only-of-type {\n",
       "        vertical-align: middle;\n",
       "    }\n",
       "\n",
       "    .dataframe tbody tr th {\n",
       "        vertical-align: top;\n",
       "    }\n",
       "\n",
       "    .dataframe thead th {\n",
       "        text-align: right;\n",
       "    }\n",
       "</style>\n",
       "<table border=\"1\" class=\"dataframe\">\n",
       "  <thead>\n",
       "    <tr style=\"text-align: right;\">\n",
       "      <th></th>\n",
       "      <th>clean_text</th>\n",
       "      <th>clean_text_tokenized</th>\n",
       "      <th>text</th>\n",
       "      <th>topics</th>\n",
       "      <th>genre</th>\n",
       "      <th>DRUŠTVO</th>\n",
       "      <th>DRUŠTVO|DEMOGRAFIJA</th>\n",
       "      <th>DRUŠTVO|DONACIJE</th>\n",
       "      <th>DRUŠTVO|HUMANITARNI RAD</th>\n",
       "      <th>DRUŠTVO|INVALIDI</th>\n",
       "      <th>...</th>\n",
       "      <th>ZNANOSTI I TEHNOLOGIJA|BIOMEDICINA I ZDRAVSTVO</th>\n",
       "      <th>ZNANOSTI I TEHNOLOGIJA|BIOTEHNIČKE ZNANOSTI</th>\n",
       "      <th>ZNANOSTI I TEHNOLOGIJA|DRUŠTVENE ZNANOSTI</th>\n",
       "      <th>ZNANOSTI I TEHNOLOGIJA|HUMANISTIČKE ZNANOSTI</th>\n",
       "      <th>ZNANOSTI I TEHNOLOGIJA|PRIRODNE ZNANOSTI</th>\n",
       "      <th>ZNANOSTI I TEHNOLOGIJA|STANDARDI</th>\n",
       "      <th>ZNANOSTI I TEHNOLOGIJA|TEHNIČKE ZNANOSTI</th>\n",
       "      <th>ZNANOSTI I TEHNOLOGIJA|ZNANSTVENA ISTRAŽIVANJA</th>\n",
       "      <th>ZNANOSTI I TEHNOLOGIJA|ZNANSTVENE USTANOVE I ORGANIZACIJE</th>\n",
       "      <th>ZNANOSTI I TEHNOLOGIJA|ZNANSTVENI DJELATNICI</th>\n",
       "    </tr>\n",
       "    <tr>\n",
       "      <th>id</th>\n",
       "      <th></th>\n",
       "      <th></th>\n",
       "      <th></th>\n",
       "      <th></th>\n",
       "      <th></th>\n",
       "      <th></th>\n",
       "      <th></th>\n",
       "      <th></th>\n",
       "      <th></th>\n",
       "      <th></th>\n",
       "      <th></th>\n",
       "      <th></th>\n",
       "      <th></th>\n",
       "      <th></th>\n",
       "      <th></th>\n",
       "      <th></th>\n",
       "      <th></th>\n",
       "      <th></th>\n",
       "      <th></th>\n",
       "      <th></th>\n",
       "      <th></th>\n",
       "    </tr>\n",
       "  </thead>\n",
       "  <tbody>\n",
       "    <tr>\n",
       "      <th>0</th>\n",
       "      <td>pravdati čekanje sedati godina smrt tan kasum znati krivac optužen liječnik raditi obitelj pokojnica ček suđenje split sedati godina smrt nesretan tan kasum kriviti dijagnoza utvrđen odgovornost liječnik splitski bolnica optužnica ček red sazivanje suđenje godina mjesec općinski sud split zaprim...</td>\n",
       "      <td>[pravdati, čekanje, sedati, godina, smrt, tan, kasum, znati, krivac, optužen, liječnik, raditi, obitelj, pokojnica, ček, suđenje, split, sedati, godina, smrt, nesretan, tan, kasum, kriviti, dijagnoza, utvrđen, odgovornost, liječnik, splitski, bolnica, optužnica, ček, red, sazivanje, suđenje, god...</td>\n",
       "      <td>PRAVDA NA ČEKANJU SEDAM GODINA NAKON SMRTI ",
       "TANJE KASUM (26) JOŠ UVIJEK SE NE ZNAJU KRIVCI\\t ",
       "Optuženi liječnici rade dok obitelj pokojnice čeka suđenjeSPLIT • Sedam godina nakon smrti nesretne Tanje Kasum (26) zbog krive dijagnoze još uvijek nije utvrđena odgovornost liječnika splitske bolnice. O...</td>\n",
       "      <td>{ZDRAVLJE|ZDRAVSTVO/ZDRAVSTVENI SUSTAV, PRAVOSUĐE/SUDSTVO/KRIMINAL|KAZNE, PRAVOSUĐE/SUDSTVO/KRIMINAL|KRIMINAL, PRAVOSUĐE/SUDSTVO/KRIMINAL|PRAVOSUĐE}</td>\n",
       "      <td>Izvještaj</td>\n",
       "      <td>0</td>\n",
       "      <td>0</td>\n",
       "      <td>0</td>\n",
       "      <td>0</td>\n",
       "      <td>0</td>\n",
       "      <td>...</td>\n",
       "      <td>0</td>\n",
       "      <td>0</td>\n",
       "      <td>0</td>\n",
       "      <td>0</td>\n",
       "      <td>0</td>\n",
       "      <td>0</td>\n",
       "      <td>0</td>\n",
       "      <td>0</td>\n",
       "      <td>0</td>\n",
       "      <td>0</td>\n",
       "    </tr>\n",
       "    <tr>\n",
       "      <th>1</th>\n",
       "      <td>uhvaćen okorjeo kriminalac presresti djevojčica zaprijetiti nož ugurati automobil vesti lisica volan djevojčica iskoristiti prometan nesreća pobjeći otmičar evidentiran kaznen djelo međa ostao silovanje pokušaj ubojstvo rijeka star policijski znanac vrbovski uhićen ponedjeljak rijeka prijetiti n...</td>\n",
       "      <td>[uhvaćen, okorjeo, kriminalac, presresti, djevojčica, zaprijetiti, nož, ugurati, automobil, vesti, lisica, volan, djevojčica, iskoristiti, prometan, nesreća, pobjeći, otmičar, evidentiran, kaznen, djelo, međa, ostao, silovanje, pokušaj, ubojstvo, rijeka, star, policijski, znanac, vrbovski, uhiće...</td>\n",
       "      <td>UHVAĆEN Okorjeli kriminalac presreo je djevojčicu, zaprijetio joj nožem, ugurao u automobil i vezao ju lisicama za volan ",
       "Djevojčica iskoristila prometnu nesreću i pobjegla otmičaruS. A. je evidentiran zbog više od 40 kaznenih djela, među ostalim i zbog dva silovanja i pokušaja ubojstvaRIJEKA - S...</td>\n",
       "      <td>{PRAVOSUĐE/SUDSTVO/KRIMINAL|POLICIJA, PRAVOSUĐE/SUDSTVO/KRIMINAL|KRIMINAL}</td>\n",
       "      <td>Izvještaj</td>\n",
       "      <td>0</td>\n",
       "      <td>0</td>\n",
       "      <td>0</td>\n",
       "      <td>0</td>\n",
       "      <td>0</td>\n",
       "      <td>...</td>\n",
       "      <td>0</td>\n",
       "      <td>0</td>\n",
       "      <td>0</td>\n",
       "      <td>0</td>\n",
       "      <td>0</td>\n",
       "      <td>0</td>\n",
       "      <td>0</td>\n",
       "      <td>0</td>\n",
       "      <td>0</td>\n",
       "      <td>0</td>\n",
       "    </tr>\n",
       "    <tr>\n",
       "      <th>2</th>\n",
       "      <td>međunarodan konferencija klasterimapoticaj konkurentnost ukupan privrediti sklop program hrvatski izvozan ofenziva predviđati osnivanje uspostava nov klastera jedini cilj izvoz hrvatski sklop županija poslovati ukupan klastera udružen tvrtka zapošljavati ukupan djelatnik sklop program hrvatski i...</td>\n",
       "      <td>[međunarodan, konferencija, klasterimapoticaj, konkurentnost, ukupan, privrediti, sklop, program, hrvatski, izvozan, ofenziva, predviđati, osnivanje, uspostava, nov, klastera, jedini, cilj, izvoz, hrvatski, sklop, županija, poslovati, ukupan, klastera, udružen, tvrtka, zapošljavati, ukupan, djel...</td>\n",
       "      <td>MEĐUNARODNA KONFERENCIJA O KLASTERIMAPOTICAJ konkurentnosti ",
       "ukupne privredeU sklopu programa Hrvatska izvozna ofenziva predviđa se osnivanje i uspostava pet novih klastera kojima će jedini cilj biti izvozU Hrvatskoj danas u sklopu osam županija posluju ukupno 22 klastera u koje je udruženo 398 t...</td>\n",
       "      <td>{GOSPODARSTVO/POSLOVANJE/FINANCIJE|EKONOMIJA OPĆENITO, GOSPODARSTVO/POSLOVANJE/FINANCIJE|GOSPODARSKO POSLOVANJE, POLITIKA|MEĐUNARODNI POLITIČKI ODNOSI, GOSPODARSTVO/POSLOVANJE/FINANCIJE|MAKROEKONOMIJA}</td>\n",
       "      <td>Izvještaj</td>\n",
       "      <td>0</td>\n",
       "      <td>0</td>\n",
       "      <td>0</td>\n",
       "      <td>0</td>\n",
       "      <td>0</td>\n",
       "      <td>...</td>\n",
       "      <td>0</td>\n",
       "      <td>0</td>\n",
       "      <td>0</td>\n",
       "      <td>0</td>\n",
       "      <td>0</td>\n",
       "      <td>0</td>\n",
       "      <td>0</td>\n",
       "      <td>0</td>\n",
       "      <td>0</td>\n",
       "      <td>0</td>\n",
       "    </tr>\n",
       "    <tr>\n",
       "      <th>3</th>\n",
       "      <td>split otvoren izložba hrvatski novinski fotografija premijer hrvatski fotografski izvrsnost žir odabrati ponuđen fotografija rad profesionalan hrvatski fotoreporter međa fotografija godina dobiti nagraditi pavao cajzek ivan fabijan nikša antonin nagrađen fotografija matko biljak ratko mavar gora...</td>\n",
       "      <td>[split, otvoren, izložba, hrvatski, novinski, fotografija, premijer, hrvatski, fotografski, izvrsnost, žir, odabrati, ponuđen, fotografija, rad, profesionalan, hrvatski, fotoreporter, međa, fotografija, godina, dobiti, nagraditi, pavao, cajzek, ivan, fabijan, nikša, antonin, nagrađen, fotografij...</td>\n",
       "      <td>U SPLITU OTVORENA IZLOŽBA »HRVATSKA NOVINSKA FOTOGRAFIJA 2004«\\tf ",
       "Premijera hrvatske »fotografske izvrsnosti« ",
       "Dva žirija odabrala su od ponuđenih 800 fotografija 98 radova 40 profesionalnih hrvatskih fotoreportera, a među njima su i fotografije koje su ove godine dobile nagrade »Pavao Cajzek«, »...</td>\n",
       "      <td>{DRUŠTVO|NAGRADE I PRIZNANJA, KULTURA  I UMJETNOST|MUZEJI / GALERIJE  , KULTURA  I UMJETNOST|KULTURNE NAGRADE / PRIZNANJA, MEDIJI|SLOBODA MEDIJA}</td>\n",
       "      <td>Izvještaj</td>\n",
       "      <td>0</td>\n",
       "      <td>0</td>\n",
       "      <td>0</td>\n",
       "      <td>0</td>\n",
       "      <td>0</td>\n",
       "      <td>...</td>\n",
       "      <td>0</td>\n",
       "      <td>0</td>\n",
       "      <td>0</td>\n",
       "      <td>0</td>\n",
       "      <td>0</td>\n",
       "      <td>0</td>\n",
       "      <td>0</td>\n",
       "      <td>0</td>\n",
       "      <td>0</td>\n",
       "      <td>0</td>\n",
       "    </tr>\n",
       "    <tr>\n",
       "      <th>4</th>\n",
       "      <td>intervencija raniti policijski djelatnik mato ponovan zaključati soba psihički bolesnik ubo policajac zagreb mato psihički bolesnik ubo nož policajac pras ekipa hitan pomoći doći intervencija dom starogradski ulica sesveta sat policija pozvati sestra doći zaključati soba nagovaranje izaći nož ru...</td>\n",
       "      <td>[intervencija, raniti, policijski, djelatnik, mato, ponovan, zaključati, soba, psihički, bolesnik, ubo, policajac, zagreb, mato, psihički, bolesnik, ubo, nož, policajac, pras, ekipa, hitan, pomoći, doći, intervencija, dom, starogradski, ulica, sesveta, sat, policija, pozvati, sestra, doći, zaklj...</td>\n",
       "      <td>INTERVENCIJA Nakon što je ranio policijskog djelatnika, Mato Ć. (42) ponovno se zaključao u sobu ",
       "Psihički bolesnik ubo policajcaZAGREB - Mato Ć. (42), psihički bolesnik, ubo je nožem policajca u prsa nakon što je ovaj s ekipom Hitne pomoći došao na intervenciju u njegov dom u Starogradskoj ulici...</td>\n",
       "      <td>{PRAVOSUĐE/SUDSTVO/KRIMINAL|POLICIJA}</td>\n",
       "      <td>Izvještaj</td>\n",
       "      <td>0</td>\n",
       "      <td>0</td>\n",
       "      <td>0</td>\n",
       "      <td>0</td>\n",
       "      <td>0</td>\n",
       "      <td>...</td>\n",
       "      <td>0</td>\n",
       "      <td>0</td>\n",
       "      <td>0</td>\n",
       "      <td>0</td>\n",
       "      <td>0</td>\n",
       "      <td>0</td>\n",
       "      <td>0</td>\n",
       "      <td>0</td>\n",
       "      <td>0</td>\n",
       "      <td>0</td>\n",
       "    </tr>\n",
       "    <tr>\n",
       "      <th>...</th>\n",
       "      <td>...</td>\n",
       "      <td>...</td>\n",
       "      <td>...</td>\n",
       "      <td>...</td>\n",
       "      <td>...</td>\n",
       "      <td>...</td>\n",
       "      <td>...</td>\n",
       "      <td>...</td>\n",
       "      <td>...</td>\n",
       "      <td>...</td>\n",
       "      <td>...</td>\n",
       "      <td>...</td>\n",
       "      <td>...</td>\n",
       "      <td>...</td>\n",
       "      <td>...</td>\n",
       "      <td>...</td>\n",
       "      <td>...</td>\n",
       "      <td>...</td>\n",
       "      <td>...</td>\n",
       "      <td>...</td>\n",
       "      <td>...</td>\n",
       "    </tr>\n",
       "    <tr>\n",
       "      <th>39072</th>\n",
       "      <td>noćan moriti ulogeženski razgovorati barbar prpić zagrebački glumica rođen odrasao njemački godina pobjeći kuća živjeti skvotu berlin steći iskustvo velik uloga djeca kolodvor zoo kolegica predstava ptica dubrovački ljetan igra stvar idealan država muškarac roditelj dan bjesnjeti tinejdžerica po...</td>\n",
       "      <td>[noćan, moriti, ulogeženski, razgovorati, barbar, prpić, zagrebački, glumica, rođen, odrasao, njemački, godina, pobjeći, kuća, živjeti, skvotu, berlin, steći, iskustvo, velik, uloga, djeca, kolodvor, zoo, kolegica, predstava, ptica, dubrovački, ljetan, igra, stvar, idealan, država, muškarac, rod...</td>\n",
       "      <td>Noćne more zbog ulogeŽENSKI RAZGOVORI: ",
       "BARBARA PRPIĆ ",
       "Zagrebačka glumica, rođena i odrasla u Njemačkoj, koja je s 18 godina pobjegla od kuće i živjela u skvotu u Berlinu, gdje je stekla iskustvo za prvu veliku ulogu, u 'Djeci s kolodvora Zoo', danas sa svojih jedanaest kolegica - u predstavi 'Pti...</td>\n",
       "      <td>{KULTURA  I UMJETNOST|KAZALIŠTE, KULTURA  I UMJETNOST|UMJETNICI}</td>\n",
       "      <td>Intervju</td>\n",
       "      <td>0</td>\n",
       "      <td>0</td>\n",
       "      <td>0</td>\n",
       "      <td>0</td>\n",
       "      <td>0</td>\n",
       "      <td>...</td>\n",
       "      <td>0</td>\n",
       "      <td>0</td>\n",
       "      <td>0</td>\n",
       "      <td>0</td>\n",
       "      <td>0</td>\n",
       "      <td>0</td>\n",
       "      <td>0</td>\n",
       "      <td>0</td>\n",
       "      <td>0</td>\n",
       "      <td>0</td>\n",
       "    </tr>\n",
       "    <tr>\n",
       "      <th>39073</th>\n",
       "      <td>gradski blagajna obznanjen cijena spomenik branitelj pila kockati more kuna cijena spomenik branitelj pila konačan poznat iznos točan navod pročelnik ured kultura društven djelatnost miha katičić kuna kompletan cijena moći dat završen rad prva faza uređenje platoa piti spadati spomenik pripadaju...</td>\n",
       "      <td>[gradski, blagajna, obznanjen, cijena, spomenik, branitelj, pila, kockati, more, kuna, cijena, spomenik, branitelj, pila, konačan, poznat, iznos, točan, navod, pročelnik, ured, kultura, društven, djelatnost, miha, katičić, kuna, kompletan, cijena, moći, dat, završen, rad, prva, faza, uređenje, p...</td>\n",
       "      <td>GRADSKA BLAGAJNA OBZNANJENA CIJENA SPOMENIKA BRANITELJIMA NA PILAMA ",
       "'Kocka mora' od pet milijuna kuna•• Cijena spomenika braniteljima na Pilama konačno je poznata i iznosi, kako točno navodi pročelnik Ureda za kulturu i društvene djelatnosti Miho Katičić - 4,827.235 kuna. ",
       "- Kompletnu cijenu nism...</td>\n",
       "      <td>{GOSPODARSTVO/POSLOVANJE/FINANCIJE|MAKROEKONOMIJA, KULTURA  I UMJETNOST|LIKOVNA UMJETNOST, KULTURA  I UMJETNOST|ILUSTRACIJA, POLITIKA|IZVRŠNA VLAST}</td>\n",
       "      <td>Izvještaj</td>\n",
       "      <td>0</td>\n",
       "      <td>0</td>\n",
       "      <td>0</td>\n",
       "      <td>0</td>\n",
       "      <td>0</td>\n",
       "      <td>...</td>\n",
       "      <td>0</td>\n",
       "      <td>0</td>\n",
       "      <td>0</td>\n",
       "      <td>0</td>\n",
       "      <td>0</td>\n",
       "      <td>0</td>\n",
       "      <td>0</td>\n",
       "      <td>0</td>\n",
       "      <td>0</td>\n",
       "      <td>0</td>\n",
       "    </tr>\n",
       "    <tr>\n",
       "      <th>39074</th>\n",
       "      <td>projekt ujedinjenje svih srpski zemaljapodlistakod postanak republika srpski krajina tjedana prijati neslavan svršetak dokument velikosrpski tvorevina razvidan osnovan svrha smisao sastojati ujedinjenje okupiran hrvatski okupiran bosanskohercegovački jedim jedini jedinstven velikosrpski tvorevin...</td>\n",
       "      <td>[projekt, ujedinjenje, svih, srpski, zemaljapodlistakod, postanak, republika, srpski, krajina, tjedana, prijati, neslavan, svršetak, dokument, velikosrpski, tvorevina, razvidan, osnovan, svrha, smisao, sastojati, ujedinjenje, okupiran, hrvatski, okupiran, bosanskohercegovački, jedim, jedini, jed...</td>\n",
       "      <td>PROJEKT UJEDINJENJA SVIH SRPSKIH ZEMALJAPODLISTAKOd postanka »republike srpske krajine« pa do nekoliko tjedana prije njezina neslavna svršetka, kroz dokumente te velikosrpske tvorevine razvidna je njezina osnovna svrha i smisao. Ona se sastoji u ujedinjenju okupiranih hrvatskih krajeva s okupira...</td>\n",
       "      <td>{POLITIKA|UNUTARNJA POLITIKA, NEMIRI/SUKOBI/RATOVI|POLITIČKA KRIZA, PRAVOSUĐE/SUDSTVO/KRIMINAL|PRAVOSUĐE}</td>\n",
       "      <td>Feljton</td>\n",
       "      <td>0</td>\n",
       "      <td>0</td>\n",
       "      <td>0</td>\n",
       "      <td>0</td>\n",
       "      <td>0</td>\n",
       "      <td>...</td>\n",
       "      <td>0</td>\n",
       "      <td>0</td>\n",
       "      <td>0</td>\n",
       "      <td>0</td>\n",
       "      <td>0</td>\n",
       "      <td>0</td>\n",
       "      <td>0</td>\n",
       "      <td>0</td>\n",
       "      <td>0</td>\n",
       "      <td>0</td>\n",
       "    </tr>\n",
       "    <tr>\n",
       "      <th>39075</th>\n",
       "      <td>državan odvjetnik angažirati madison glasnogovornica državan odvjetništvo martin mihordin tužiteljstvo angažirati stručnjak odnositi javnost raditi agencija madison mladen bajić pristup pojedini medijima savjetovati bivši mup glasnogovornica zinka bardić pr mag krešimir macan</td>\n",
       "      <td>[državan, odvjetnik, angažirati, madison, glasnogovornica, državan, odvjetništvo, martin, mihordin, tužiteljstvo, angažirati, stručnjak, odnositi, javnost, raditi, agencija, madison, mladen, bajić, pristup, pojedini, medijima, savjetovati, bivši, mup, glasnogovornica, zinka, bardić, pr, mag, kre...</td>\n",
       "      <td>Državni odvjetnik angažirao Madison ",
       "Uz glasnogovornicu Državnog odvjetništva Martinu Mihordin, tužiteljstvo će angažirati i stručnjake za odnose s javnošću. Radi se o agenciji Madison, pa će Mladena Bajića za pristup pojedinim medijima savjetovati bivša MUP-ova glasnogovornica Zinka Bardić i PR ...</td>\n",
       "      <td>{GOSPODARSTVO/POSLOVANJE/FINANCIJE|GOSPODARSKO POSLOVANJE, PRAVOSUĐE/SUDSTVO/KRIMINAL|DRŽAVNO ODVJETNIŠTVO / TUŽITELJSTVO, PRAVOSUĐE/SUDSTVO/KRIMINAL|PRAVOSUĐE}</td>\n",
       "      <td>Vijest</td>\n",
       "      <td>0</td>\n",
       "      <td>0</td>\n",
       "      <td>0</td>\n",
       "      <td>0</td>\n",
       "      <td>0</td>\n",
       "      <td>...</td>\n",
       "      <td>0</td>\n",
       "      <td>0</td>\n",
       "      <td>0</td>\n",
       "      <td>0</td>\n",
       "      <td>0</td>\n",
       "      <td>0</td>\n",
       "      <td>0</td>\n",
       "      <td>0</td>\n",
       "      <td>0</td>\n",
       "      <td>0</td>\n",
       "    </tr>\n",
       "    <tr>\n",
       "      <th>39076</th>\n",
       "      <td>frižider petrov ilegalan skladišat zametaka skandalozan otkriće inspekcija proveden godiner pronađen smrznut zametaka gotov pripadati par liječiti liječnik privatan poliklinika supruga asim kurjak svet duh otkriven dokumentacija sadržavati inicijal par zametak mjesto stanovanje brojati izvađen z...</td>\n",
       "      <td>[frižider, petrov, ilegalan, skladišat, zametaka, skandalozan, otkriće, inspekcija, proveden, godiner, pronađen, smrznut, zametaka, gotov, pripadati, par, liječiti, liječnik, privatan, poliklinika, supruga, asim, kurjak, svet, duh, otkriven, dokumentacija, sadržavati, inicijal, par, zametak, mje...</td>\n",
       "      <td>U frižideru Petrove ilegalno skladište 500 zametakaSKANDALOZNO OTKRIĆE INSPEKCIJE PROVEDENE 2003. GODINEr Pronađeno je više stotina smrznutih zametaka, od kojih je gotovo 90 posto pripadalo parovima koje su liječili liječnici iz privatne poliklinike supruge dr. Asima Kurjaka ili sa Svetog DuhaS ...</td>\n",
       "      <td>{ZDRAVLJE|BOLESTI, ZDRAVLJE|MEDICINA, PRAVOSUĐE/SUDSTVO/KRIMINAL|KRIMINAL, PRAVOSUĐE/SUDSTVO/KRIMINAL|GOSPODARSKI KRIMINAL}</td>\n",
       "      <td>Izvještaj</td>\n",
       "      <td>0</td>\n",
       "      <td>0</td>\n",
       "      <td>0</td>\n",
       "      <td>0</td>\n",
       "      <td>0</td>\n",
       "      <td>...</td>\n",
       "      <td>0</td>\n",
       "      <td>0</td>\n",
       "      <td>0</td>\n",
       "      <td>0</td>\n",
       "      <td>0</td>\n",
       "      <td>0</td>\n",
       "      <td>0</td>\n",
       "      <td>0</td>\n",
       "      <td>0</td>\n",
       "      <td>0</td>\n",
       "    </tr>\n",
       "  </tbody>\n",
       "</table>\n",
       "<p>39077 rows × 219 columns</p>\n",
       "</div>"
      ],
      "text/plain": [
       "                                                                                                                                                                                                                                                                                                        clean_text  \\\n",
       "id                                                                                                                                                                                                                                                                                                                   \n",
       "0      pravdati čekanje sedati godina smrt tan kasum znati krivac optužen liječnik raditi obitelj pokojnica ček suđenje split sedati godina smrt nesretan tan kasum kriviti dijagnoza utvrđen odgovornost liječnik splitski bolnica optužnica ček red sazivanje suđenje godina mjesec općinski sud split zaprim...   \n",
       "1      uhvaćen okorjeo kriminalac presresti djevojčica zaprijetiti nož ugurati automobil vesti lisica volan djevojčica iskoristiti prometan nesreća pobjeći otmičar evidentiran kaznen djelo međa ostao silovanje pokušaj ubojstvo rijeka star policijski znanac vrbovski uhićen ponedjeljak rijeka prijetiti n...   \n",
       "2      međunarodan konferencija klasterimapoticaj konkurentnost ukupan privrediti sklop program hrvatski izvozan ofenziva predviđati osnivanje uspostava nov klastera jedini cilj izvoz hrvatski sklop županija poslovati ukupan klastera udružen tvrtka zapošljavati ukupan djelatnik sklop program hrvatski i...   \n",
       "3      split otvoren izložba hrvatski novinski fotografija premijer hrvatski fotografski izvrsnost žir odabrati ponuđen fotografija rad profesionalan hrvatski fotoreporter međa fotografija godina dobiti nagraditi pavao cajzek ivan fabijan nikša antonin nagrađen fotografija matko biljak ratko mavar gora...   \n",
       "4      intervencija raniti policijski djelatnik mato ponovan zaključati soba psihički bolesnik ubo policajac zagreb mato psihički bolesnik ubo nož policajac pras ekipa hitan pomoći doći intervencija dom starogradski ulica sesveta sat policija pozvati sestra doći zaključati soba nagovaranje izaći nož ru...   \n",
       "...                                                                                                                                                                                                                                                                                                            ...   \n",
       "39072  noćan moriti ulogeženski razgovorati barbar prpić zagrebački glumica rođen odrasao njemački godina pobjeći kuća živjeti skvotu berlin steći iskustvo velik uloga djeca kolodvor zoo kolegica predstava ptica dubrovački ljetan igra stvar idealan država muškarac roditelj dan bjesnjeti tinejdžerica po...   \n",
       "39073  gradski blagajna obznanjen cijena spomenik branitelj pila kockati more kuna cijena spomenik branitelj pila konačan poznat iznos točan navod pročelnik ured kultura društven djelatnost miha katičić kuna kompletan cijena moći dat završen rad prva faza uređenje platoa piti spadati spomenik pripadaju...   \n",
       "39074  projekt ujedinjenje svih srpski zemaljapodlistakod postanak republika srpski krajina tjedana prijati neslavan svršetak dokument velikosrpski tvorevina razvidan osnovan svrha smisao sastojati ujedinjenje okupiran hrvatski okupiran bosanskohercegovački jedim jedini jedinstven velikosrpski tvorevin...   \n",
       "39075                         državan odvjetnik angažirati madison glasnogovornica državan odvjetništvo martin mihordin tužiteljstvo angažirati stručnjak odnositi javnost raditi agencija madison mladen bajić pristup pojedini medijima savjetovati bivši mup glasnogovornica zinka bardić pr mag krešimir macan   \n",
       "39076  frižider petrov ilegalan skladišat zametaka skandalozan otkriće inspekcija proveden godiner pronađen smrznut zametaka gotov pripadati par liječiti liječnik privatan poliklinika supruga asim kurjak svet duh otkriven dokumentacija sadržavati inicijal par zametak mjesto stanovanje brojati izvađen z...   \n",
       "\n",
       "                                                                                                                                                                                                                                                                                              clean_text_tokenized  \\\n",
       "id                                                                                                                                                                                                                                                                                                                   \n",
       "0      [pravdati, čekanje, sedati, godina, smrt, tan, kasum, znati, krivac, optužen, liječnik, raditi, obitelj, pokojnica, ček, suđenje, split, sedati, godina, smrt, nesretan, tan, kasum, kriviti, dijagnoza, utvrđen, odgovornost, liječnik, splitski, bolnica, optužnica, ček, red, sazivanje, suđenje, god...   \n",
       "1      [uhvaćen, okorjeo, kriminalac, presresti, djevojčica, zaprijetiti, nož, ugurati, automobil, vesti, lisica, volan, djevojčica, iskoristiti, prometan, nesreća, pobjeći, otmičar, evidentiran, kaznen, djelo, međa, ostao, silovanje, pokušaj, ubojstvo, rijeka, star, policijski, znanac, vrbovski, uhiće...   \n",
       "2      [međunarodan, konferencija, klasterimapoticaj, konkurentnost, ukupan, privrediti, sklop, program, hrvatski, izvozan, ofenziva, predviđati, osnivanje, uspostava, nov, klastera, jedini, cilj, izvoz, hrvatski, sklop, županija, poslovati, ukupan, klastera, udružen, tvrtka, zapošljavati, ukupan, djel...   \n",
       "3      [split, otvoren, izložba, hrvatski, novinski, fotografija, premijer, hrvatski, fotografski, izvrsnost, žir, odabrati, ponuđen, fotografija, rad, profesionalan, hrvatski, fotoreporter, međa, fotografija, godina, dobiti, nagraditi, pavao, cajzek, ivan, fabijan, nikša, antonin, nagrađen, fotografij...   \n",
       "4      [intervencija, raniti, policijski, djelatnik, mato, ponovan, zaključati, soba, psihički, bolesnik, ubo, policajac, zagreb, mato, psihički, bolesnik, ubo, nož, policajac, pras, ekipa, hitan, pomoći, doći, intervencija, dom, starogradski, ulica, sesveta, sat, policija, pozvati, sestra, doći, zaklj...   \n",
       "...                                                                                                                                                                                                                                                                                                            ...   \n",
       "39072  [noćan, moriti, ulogeženski, razgovorati, barbar, prpić, zagrebački, glumica, rođen, odrasao, njemački, godina, pobjeći, kuća, živjeti, skvotu, berlin, steći, iskustvo, velik, uloga, djeca, kolodvor, zoo, kolegica, predstava, ptica, dubrovački, ljetan, igra, stvar, idealan, država, muškarac, rod...   \n",
       "39073  [gradski, blagajna, obznanjen, cijena, spomenik, branitelj, pila, kockati, more, kuna, cijena, spomenik, branitelj, pila, konačan, poznat, iznos, točan, navod, pročelnik, ured, kultura, društven, djelatnost, miha, katičić, kuna, kompletan, cijena, moći, dat, završen, rad, prva, faza, uređenje, p...   \n",
       "39074  [projekt, ujedinjenje, svih, srpski, zemaljapodlistakod, postanak, republika, srpski, krajina, tjedana, prijati, neslavan, svršetak, dokument, velikosrpski, tvorevina, razvidan, osnovan, svrha, smisao, sastojati, ujedinjenje, okupiran, hrvatski, okupiran, bosanskohercegovački, jedim, jedini, jed...   \n",
       "39075  [državan, odvjetnik, angažirati, madison, glasnogovornica, državan, odvjetništvo, martin, mihordin, tužiteljstvo, angažirati, stručnjak, odnositi, javnost, raditi, agencija, madison, mladen, bajić, pristup, pojedini, medijima, savjetovati, bivši, mup, glasnogovornica, zinka, bardić, pr, mag, kre...   \n",
       "39076  [frižider, petrov, ilegalan, skladišat, zametaka, skandalozan, otkriće, inspekcija, proveden, godiner, pronađen, smrznut, zametaka, gotov, pripadati, par, liječiti, liječnik, privatan, poliklinika, supruga, asim, kurjak, svet, duh, otkriven, dokumentacija, sadržavati, inicijal, par, zametak, mje...   \n",
       "\n",
       "                                                                                                                                                                                                                                                                                                              text  \\\n",
       "id                                                                                                                                                                                                                                                                                                                   \n",
       "0      PRAVDA NA ČEKANJU SEDAM GODINA NAKON SMRTI\n",
       "TANJE KASUM (26) JOŠ UVIJEK SE NE ZNAJU KRIVCI\\t\n",
       "Optuženi liječnici rade dok obitelj pokojnice čeka suđenjeSPLIT • Sedam godina nakon smrti nesretne Tanje Kasum (26) zbog krive dijagnoze još uvijek nije utvrđena odgovornost liječnika splitske bolnice. O...   \n",
       "1      UHVAĆEN Okorjeli kriminalac presreo je djevojčicu, zaprijetio joj nožem, ugurao u automobil i vezao ju lisicama za volan\n",
       "Djevojčica iskoristila prometnu nesreću i pobjegla otmičaruS. A. je evidentiran zbog više od 40 kaznenih djela, među ostalim i zbog dva silovanja i pokušaja ubojstvaRIJEKA - S...   \n",
       "2      MEĐUNARODNA KONFERENCIJA O KLASTERIMAPOTICAJ konkurentnosti\n",
       "ukupne privredeU sklopu programa Hrvatska izvozna ofenziva predviđa se osnivanje i uspostava pet novih klastera kojima će jedini cilj biti izvozU Hrvatskoj danas u sklopu osam županija posluju ukupno 22 klastera u koje je udruženo 398 t...   \n",
       "3      U SPLITU OTVORENA IZLOŽBA »HRVATSKA NOVINSKA FOTOGRAFIJA 2004«\\tf\n",
       "Premijera hrvatske »fotografske izvrsnosti«\n",
       "Dva žirija odabrala su od ponuđenih 800 fotografija 98 radova 40 profesionalnih hrvatskih fotoreportera, a među njima su i fotografije koje su ove godine dobile nagrade »Pavao Cajzek«, »...   \n",
       "4      INTERVENCIJA Nakon što je ranio policijskog djelatnika, Mato Ć. (42) ponovno se zaključao u sobu\n",
       "Psihički bolesnik ubo policajcaZAGREB - Mato Ć. (42), psihički bolesnik, ubo je nožem policajca u prsa nakon što je ovaj s ekipom Hitne pomoći došao na intervenciju u njegov dom u Starogradskoj ulici...   \n",
       "...                                                                                                                                                                                                                                                                                                            ...   \n",
       "39072  Noćne more zbog ulogeŽENSKI RAZGOVORI:\n",
       "BARBARA PRPIĆ\n",
       "Zagrebačka glumica, rođena i odrasla u Njemačkoj, koja je s 18 godina pobjegla od kuće i živjela u skvotu u Berlinu, gdje je stekla iskustvo za prvu veliku ulogu, u 'Djeci s kolodvora Zoo', danas sa svojih jedanaest kolegica - u predstavi 'Pti...   \n",
       "39073  GRADSKA BLAGAJNA OBZNANJENA CIJENA SPOMENIKA BRANITELJIMA NA PILAMA\n",
       "'Kocka mora' od pet milijuna kuna•• Cijena spomenika braniteljima na Pilama konačno je poznata i iznosi, kako točno navodi pročelnik Ureda za kulturu i društvene djelatnosti Miho Katičić - 4,827.235 kuna.\n",
       "- Kompletnu cijenu nism...   \n",
       "39074  PROJEKT UJEDINJENJA SVIH SRPSKIH ZEMALJAPODLISTAKOd postanka »republike srpske krajine« pa do nekoliko tjedana prije njezina neslavna svršetka, kroz dokumente te velikosrpske tvorevine razvidna je njezina osnovna svrha i smisao. Ona se sastoji u ujedinjenju okupiranih hrvatskih krajeva s okupira...   \n",
       "39075  Državni odvjetnik angažirao Madison\n",
       "Uz glasnogovornicu Državnog odvjetništva Martinu Mihordin, tužiteljstvo će angažirati i stručnjake za odnose s javnošću. Radi se o agenciji Madison, pa će Mladena Bajića za pristup pojedinim medijima savjetovati bivša MUP-ova glasnogovornica Zinka Bardić i PR ...   \n",
       "39076  U frižideru Petrove ilegalno skladište 500 zametakaSKANDALOZNO OTKRIĆE INSPEKCIJE PROVEDENE 2003. GODINEr Pronađeno je više stotina smrznutih zametaka, od kojih je gotovo 90 posto pripadalo parovima koje su liječili liječnici iz privatne poliklinike supruge dr. Asima Kurjaka ili sa Svetog DuhaS ...   \n",
       "\n",
       "                                                                                                                                                                                                          topics  \\\n",
       "id                                                                                                                                                                                                                 \n",
       "0                                                           {ZDRAVLJE|ZDRAVSTVO/ZDRAVSTVENI SUSTAV, PRAVOSUĐE/SUDSTVO/KRIMINAL|KAZNE, PRAVOSUĐE/SUDSTVO/KRIMINAL|KRIMINAL, PRAVOSUĐE/SUDSTVO/KRIMINAL|PRAVOSUĐE}   \n",
       "1                                                                                                                                     {PRAVOSUĐE/SUDSTVO/KRIMINAL|POLICIJA, PRAVOSUĐE/SUDSTVO/KRIMINAL|KRIMINAL}   \n",
       "2      {GOSPODARSTVO/POSLOVANJE/FINANCIJE|EKONOMIJA OPĆENITO, GOSPODARSTVO/POSLOVANJE/FINANCIJE|GOSPODARSKO POSLOVANJE, POLITIKA|MEĐUNARODNI POLITIČKI ODNOSI, GOSPODARSTVO/POSLOVANJE/FINANCIJE|MAKROEKONOMIJA}   \n",
       "3                                                              {DRUŠTVO|NAGRADE I PRIZNANJA, KULTURA  I UMJETNOST|MUZEJI / GALERIJE  , KULTURA  I UMJETNOST|KULTURNE NAGRADE / PRIZNANJA, MEDIJI|SLOBODA MEDIJA}   \n",
       "4                                                                                                                                                                          {PRAVOSUĐE/SUDSTVO/KRIMINAL|POLICIJA}   \n",
       "...                                                                                                                                                                                                          ...   \n",
       "39072                                                                                                                                           {KULTURA  I UMJETNOST|KAZALIŠTE, KULTURA  I UMJETNOST|UMJETNICI}   \n",
       "39073                                                       {GOSPODARSTVO/POSLOVANJE/FINANCIJE|MAKROEKONOMIJA, KULTURA  I UMJETNOST|LIKOVNA UMJETNOST, KULTURA  I UMJETNOST|ILUSTRACIJA, POLITIKA|IZVRŠNA VLAST}   \n",
       "39074                                                                                                  {POLITIKA|UNUTARNJA POLITIKA, NEMIRI/SUKOBI/RATOVI|POLITIČKA KRIZA, PRAVOSUĐE/SUDSTVO/KRIMINAL|PRAVOSUĐE}   \n",
       "39075                                           {GOSPODARSTVO/POSLOVANJE/FINANCIJE|GOSPODARSKO POSLOVANJE, PRAVOSUĐE/SUDSTVO/KRIMINAL|DRŽAVNO ODVJETNIŠTVO / TUŽITELJSTVO, PRAVOSUĐE/SUDSTVO/KRIMINAL|PRAVOSUĐE}   \n",
       "39076                                                                                {ZDRAVLJE|BOLESTI, ZDRAVLJE|MEDICINA, PRAVOSUĐE/SUDSTVO/KRIMINAL|KRIMINAL, PRAVOSUĐE/SUDSTVO/KRIMINAL|GOSPODARSKI KRIMINAL}   \n",
       "\n",
       "           genre  DRUŠTVO  DRUŠTVO|DEMOGRAFIJA  DRUŠTVO|DONACIJE  \\\n",
       "id                                                                 \n",
       "0      Izvještaj        0                    0                 0   \n",
       "1      Izvještaj        0                    0                 0   \n",
       "2      Izvještaj        0                    0                 0   \n",
       "3      Izvještaj        0                    0                 0   \n",
       "4      Izvještaj        0                    0                 0   \n",
       "...          ...      ...                  ...               ...   \n",
       "39072   Intervju        0                    0                 0   \n",
       "39073  Izvještaj        0                    0                 0   \n",
       "39074    Feljton        0                    0                 0   \n",
       "39075     Vijest        0                    0                 0   \n",
       "39076  Izvještaj        0                    0                 0   \n",
       "\n",
       "       DRUŠTVO|HUMANITARNI RAD  DRUŠTVO|INVALIDI  ...  \\\n",
       "id                                                ...   \n",
       "0                            0                 0  ...   \n",
       "1                            0                 0  ...   \n",
       "2                            0                 0  ...   \n",
       "3                            0                 0  ...   \n",
       "4                            0                 0  ...   \n",
       "...                        ...               ...  ...   \n",
       "39072                        0                 0  ...   \n",
       "39073                        0                 0  ...   \n",
       "39074                        0                 0  ...   \n",
       "39075                        0                 0  ...   \n",
       "39076                        0                 0  ...   \n",
       "\n",
       "       ZNANOSTI I TEHNOLOGIJA|BIOMEDICINA I ZDRAVSTVO  \\\n",
       "id                                                      \n",
       "0                                                   0   \n",
       "1                                                   0   \n",
       "2                                                   0   \n",
       "3                                                   0   \n",
       "4                                                   0   \n",
       "...                                               ...   \n",
       "39072                                               0   \n",
       "39073                                               0   \n",
       "39074                                               0   \n",
       "39075                                               0   \n",
       "39076                                               0   \n",
       "\n",
       "       ZNANOSTI I TEHNOLOGIJA|BIOTEHNIČKE ZNANOSTI  \\\n",
       "id                                                   \n",
       "0                                                0   \n",
       "1                                                0   \n",
       "2                                                0   \n",
       "3                                                0   \n",
       "4                                                0   \n",
       "...                                            ...   \n",
       "39072                                            0   \n",
       "39073                                            0   \n",
       "39074                                            0   \n",
       "39075                                            0   \n",
       "39076                                            0   \n",
       "\n",
       "       ZNANOSTI I TEHNOLOGIJA|DRUŠTVENE ZNANOSTI  \\\n",
       "id                                                 \n",
       "0                                              0   \n",
       "1                                              0   \n",
       "2                                              0   \n",
       "3                                              0   \n",
       "4                                              0   \n",
       "...                                          ...   \n",
       "39072                                          0   \n",
       "39073                                          0   \n",
       "39074                                          0   \n",
       "39075                                          0   \n",
       "39076                                          0   \n",
       "\n",
       "       ZNANOSTI I TEHNOLOGIJA|HUMANISTIČKE ZNANOSTI  \\\n",
       "id                                                    \n",
       "0                                                 0   \n",
       "1                                                 0   \n",
       "2                                                 0   \n",
       "3                                                 0   \n",
       "4                                                 0   \n",
       "...                                             ...   \n",
       "39072                                             0   \n",
       "39073                                             0   \n",
       "39074                                             0   \n",
       "39075                                             0   \n",
       "39076                                             0   \n",
       "\n",
       "       ZNANOSTI I TEHNOLOGIJA|PRIRODNE ZNANOSTI  \\\n",
       "id                                                \n",
       "0                                             0   \n",
       "1                                             0   \n",
       "2                                             0   \n",
       "3                                             0   \n",
       "4                                             0   \n",
       "...                                         ...   \n",
       "39072                                         0   \n",
       "39073                                         0   \n",
       "39074                                         0   \n",
       "39075                                         0   \n",
       "39076                                         0   \n",
       "\n",
       "       ZNANOSTI I TEHNOLOGIJA|STANDARDI  \\\n",
       "id                                        \n",
       "0                                     0   \n",
       "1                                     0   \n",
       "2                                     0   \n",
       "3                                     0   \n",
       "4                                     0   \n",
       "...                                 ...   \n",
       "39072                                 0   \n",
       "39073                                 0   \n",
       "39074                                 0   \n",
       "39075                                 0   \n",
       "39076                                 0   \n",
       "\n",
       "       ZNANOSTI I TEHNOLOGIJA|TEHNIČKE ZNANOSTI  \\\n",
       "id                                                \n",
       "0                                             0   \n",
       "1                                             0   \n",
       "2                                             0   \n",
       "3                                             0   \n",
       "4                                             0   \n",
       "...                                         ...   \n",
       "39072                                         0   \n",
       "39073                                         0   \n",
       "39074                                         0   \n",
       "39075                                         0   \n",
       "39076                                         0   \n",
       "\n",
       "       ZNANOSTI I TEHNOLOGIJA|ZNANSTVENA ISTRAŽIVANJA  \\\n",
       "id                                                      \n",
       "0                                                   0   \n",
       "1                                                   0   \n",
       "2                                                   0   \n",
       "3                                                   0   \n",
       "4                                                   0   \n",
       "...                                               ...   \n",
       "39072                                               0   \n",
       "39073                                               0   \n",
       "39074                                               0   \n",
       "39075                                               0   \n",
       "39076                                               0   \n",
       "\n",
       "       ZNANOSTI I TEHNOLOGIJA|ZNANSTVENE USTANOVE I ORGANIZACIJE  \\\n",
       "id                                                                 \n",
       "0                                                              0   \n",
       "1                                                              0   \n",
       "2                                                              0   \n",
       "3                                                              0   \n",
       "4                                                              0   \n",
       "...                                                          ...   \n",
       "39072                                                          0   \n",
       "39073                                                          0   \n",
       "39074                                                          0   \n",
       "39075                                                          0   \n",
       "39076                                                          0   \n",
       "\n",
       "       ZNANOSTI I TEHNOLOGIJA|ZNANSTVENI DJELATNICI  \n",
       "id                                                   \n",
       "0                                                 0  \n",
       "1                                                 0  \n",
       "2                                                 0  \n",
       "3                                                 0  \n",
       "4                                                 0  \n",
       "...                                             ...  \n",
       "39072                                             0  \n",
       "39073                                             0  \n",
       "39074                                             0  \n",
       "39075                                             0  \n",
       "39076                                             0  \n",
       "\n",
       "[39077 rows x 219 columns]"
      ]
     },
     "execution_count": 26,
     "metadata": {},
     "output_type": "execute_result"
    }
   ],
   "source": [
    "unpickled_df = pd.read_pickle(\"./dataset_2_with_topics_prot_4.pkl\")\n",
    "unpickled_df"
   ]
  },
  {
   "cell_type": "code",
   "execution_count": 27,
   "metadata": {
    "ExecuteTime": {
     "end_time": "2020-09-24T13:51:46.816323Z",
     "start_time": "2020-09-24T13:51:37.906126Z"
    }
   },
   "outputs": [
    {
     "data": {
      "image/png": "[encoded data removed]",
      "text/plain": [
       "<Figure size 1080x288 with 1 Axes>"
      ]
     },
     "metadata": {},
     "output_type": "display_data"
    },
    {
     "data": {
      "text/plain": [
       "361363"
      ]
     },
     "execution_count": 27,
     "metadata": {},
     "output_type": "execute_result"
    }
   ],
   "source": [
    "freq_words(unpickled_df['clean_text'], 20)"
   ]
  },
  {
   "cell_type": "markdown",
   "metadata": {},
   "source": [
    "## Baseline\n",
    "A simple, naïve baseline implementation. Naïve here means that the model treats classes as mutually independent; no knowledge about the underlying hierarchical relations is implemented here."
   ]
  },
  {
   "cell_type": "code",
   "execution_count": 28,
   "metadata": {
    "ExecuteTime": {
     "end_time": "2020-09-24T13:51:46.821719Z",
     "start_time": "2020-09-24T13:51:46.818276Z"
    }
   },
   "outputs": [],
   "source": [
    "tfidf_vectorizer = TfidfVectorizer(max_df=0.8, max_features=10000)"
   ]
  },
  {
   "cell_type": "code",
   "execution_count": 29,
   "metadata": {
    "ExecuteTime": {
     "end_time": "2020-09-24T13:51:46.933542Z",
     "start_time": "2020-09-24T13:51:46.823774Z"
    }
   },
   "outputs": [],
   "source": [
    "xtrain, xtest, ytrain, ytest = train_test_split(\n",
    "    unpickled_df['clean_text'], unpickled_df.iloc[:, 5:], test_size=0.2, random_state=42)\n",
    "xtrain, xval, ytrain, yval = train_test_split(\n",
    "    xtrain, ytrain, test_size=0.25, random_state=42)"
   ]
  },
  {
   "cell_type": "code",
   "execution_count": 30,
   "metadata": {
    "ExecuteTime": {
     "end_time": "2020-09-24T13:51:56.659803Z",
     "start_time": "2020-09-24T13:51:46.935109Z"
    }
   },
   "outputs": [
    {
     "name": "stdout",
     "output_type": "stream",
     "text": [
      "(23445, 10000) (7816, 10000) (7816, 10000)\n"
     ]
    }
   ],
   "source": [
    "# create TF-IDF features\n",
    "xtrain_tfidf = tfidf_vectorizer.fit_transform(xtrain)\n",
    "xval_tfidf = tfidf_vectorizer.transform(xval)\n",
    "xtest_tfidf = tfidf_vectorizer.transform(xtest)\n",
    "print(xtrain_tfidf.shape, xval_tfidf.shape, xtest_tfidf.shape)"
   ]
  },
  {
   "cell_type": "code",
   "execution_count": 31,
   "metadata": {
    "ExecuteTime": {
     "end_time": "2020-09-24T13:51:56.667466Z",
     "start_time": "2020-09-24T13:51:56.661372Z"
    }
   },
   "outputs": [],
   "source": [
    "from sklearn.multiclass import OneVsRestClassifier\n",
    "\n",
    "lr = LogisticRegression(class_weight=\"balanced\", multi_class=\"multinomial\")\n",
    "clf = OneVsRestClassifier(lr)"
   ]
  },
  {
   "cell_type": "code",
   "execution_count": 32,
   "metadata": {
    "ExecuteTime": {
     "end_time": "2020-09-24T13:57:48.850684Z",
     "start_time": "2020-09-24T13:51:56.668881Z"
    }
   },
   "outputs": [
    {
     "name": "stderr",
     "output_type": "stream",
     "text": [
      "/home/ianic/.conda/envs/dipl/lib/python3.8/site-packages/sklearn/multiclass.py:74: UserWarning: Label not 0 is present in all training examples.\n",
      "  warnings.warn(\"Label %s is present in all training examples.\" %\n",
      "/home/ianic/.conda/envs/dipl/lib/python3.8/site-packages/sklearn/multiclass.py:74: UserWarning: Label not 57 is present in all training examples.\n",
      "  warnings.warn(\"Label %s is present in all training examples.\" %\n",
      "/home/ianic/.conda/envs/dipl/lib/python3.8/site-packages/sklearn/multiclass.py:74: UserWarning: Label not 88 is present in all training examples.\n",
      "  warnings.warn(\"Label %s is present in all training examples.\" %\n",
      "/home/ianic/.conda/envs/dipl/lib/python3.8/site-packages/sklearn/linear_model/_logistic.py:938: ConvergenceWarning: lbfgs failed to converge (status=1):\n",
      "STOP: TOTAL NO. of ITERATIONS REACHED LIMIT.\n",
      "\n",
      "Increase the number of iterations (max_iter) or scale the data as shown in:\n",
      "    https://scikit-learn.org/stable/modules/preprocessing.html\n",
      "Please also refer to the documentation for alternative solver options:\n",
      "    https://scikit-learn.org/stable/modules/linear_model.html#logistic-regression\n",
      "  n_iter_i = _check_optimize_result(\n",
      "/home/ianic/.conda/envs/dipl/lib/python3.8/site-packages/sklearn/multiclass.py:74: UserWarning: Label not 105 is present in all training examples.\n",
      "  warnings.warn(\"Label %s is present in all training examples.\" %\n"
     ]
    },
    {
     "data": {
      "text/plain": [
       "OneVsRestClassifier(estimator=LogisticRegression(C=1.0, class_weight='balanced',\n",
       "                                                 dual=False, fit_intercept=True,\n",
       "                                                 intercept_scaling=1,\n",
       "                                                 l1_ratio=None, max_iter=100,\n",
       "                                                 multi_class='multinomial',\n",
       "                                                 n_jobs=None, penalty='l2',\n",
       "                                                 random_state=None,\n",
       "                                                 solver='lbfgs', tol=0.0001,\n",
       "                                                 verbose=0, warm_start=False),\n",
       "                    n_jobs=None)"
      ]
     },
     "execution_count": 32,
     "metadata": {},
     "output_type": "execute_result"
    }
   ],
   "source": [
    "clf.fit(xtrain_tfidf, ytrain.to_numpy())"
   ]
  },
  {
   "cell_type": "code",
   "execution_count": 33,
   "metadata": {
    "ExecuteTime": {
     "end_time": "2020-09-24T13:58:02.436565Z",
     "start_time": "2020-09-24T13:58:01.611624Z"
    }
   },
   "outputs": [],
   "source": [
    "y_pred_prob = clf.predict_proba(xval_tfidf)\n",
    "y_pred = clf.predict(xval_tfidf)"
   ]
  },
  {
   "cell_type": "code",
   "execution_count": 34,
   "metadata": {
    "ExecuteTime": {
     "end_time": "2020-09-24T13:58:03.127102Z",
     "start_time": "2020-09-24T13:58:03.123305Z"
    }
   },
   "outputs": [
    {
     "name": "stdout",
     "output_type": "stream",
     "text": [
      "214\n",
      "ZNANOSTI I TEHNOLOGIJA|ZNANSTVENI DJELATNICI\n"
     ]
    }
   ],
   "source": [
    "topics = list(yval)\n",
    "print(len(topics))\n",
    "print(topics[213])"
   ]
  },
  {
   "cell_type": "code",
   "execution_count": 42,
   "metadata": {
    "ExecuteTime": {
     "end_time": "2020-09-24T13:59:24.493427Z",
     "start_time": "2020-09-24T13:59:24.481171Z"
    }
   },
   "outputs": [],
   "source": [
    "def get_true_pred(labels, threshold=0.5):\n",
    "    lab = (y_pred_prob >= threshold).astype(int)\n",
    "\n",
    "    def onehot_to_ind(l):\n",
    "        return [index for index, value in enumerate(l) if value == 1]\n",
    "\n",
    "    indices = list(map(onehot_to_ind, lab))\n",
    "    indices_true = list(map(onehot_to_ind, yval.to_numpy()))\n",
    "\n",
    "    labels_pred = list(map(lambda x: [labels[y] for y in x], indices))\n",
    "    labels_true = list(map(lambda x: [labels[y] for y in x], indices_true))\n",
    "\n",
    "    return labels_true, labels_pred"
   ]
  },
  {
   "cell_type": "code",
   "execution_count": 43,
   "metadata": {
    "ExecuteTime": {
     "end_time": "2020-09-24T13:59:37.651196Z",
     "start_time": "2020-09-24T13:59:36.636955Z"
    }
   },
   "outputs": [
    {
     "name": "stdout",
     "output_type": "stream",
     "text": [
      "(7816, 214)\n",
      "(7816, 214)\n",
      "7816\n",
      "7816\n",
      "====================================================================================================\n",
      "7816\n",
      "['PRAVOSUĐE/SUDSTVO/KRIMINAL|KRIMINAL', 'ZDRAVLJE|MEDICINSKO OSOBLJE', 'ZNANOSTI I TEHNOLOGIJA|ZNANSTVENI DJELATNICI']\n"
     ]
    }
   ],
   "source": [
    "labels_true, labels_pred = get_true_pred(topics, 0.6)"
   ]
  },
  {
   "cell_type": "code",
   "execution_count": 36,
   "metadata": {
    "ExecuteTime": {
     "end_time": "2020-09-24T13:58:13.523806Z",
     "start_time": "2020-09-24T13:58:13.519173Z"
    }
   },
   "outputs": [],
   "source": [
    "# now here\n",
    "import pickle\n",
    "ch = None\n",
    "with open('ch.pickle', 'rb') as f:\n",
    "    _ch = pickle.load(f)\n",
    "    # print(_ch)\n",
    "    ch = _ch"
   ]
  },
  {
   "cell_type": "code",
   "execution_count": 44,
   "metadata": {
    "ExecuteTime": {
     "end_time": "2020-09-24T13:59:48.962256Z",
     "start_time": "2020-09-24T13:59:46.497732Z"
    }
   },
   "outputs": [
    {
     "name": "stdout",
     "output_type": "stream",
     "text": [
      "=PRECISION==================================================\n",
      "precision_anc : 0.6098494819210797\n",
      "precision_desc: 0.5395161844546766\n",
      "precision_brnc: 0.6082749572429305\n",
      "=RECALL==================================================\n",
      "recall_anc : 0.7663048380792014\n",
      "recall_desc: 0.7282129771346413\n",
      "recall_brnc: 0.7605976270689908\n",
      "=F1==================================================\n",
      "f1_score_anc : 0.6791834341603816\n",
      "f1_score_desc: 0.6198211712689734\n",
      "f1_score_brnc: 0.6759613632221616\n",
      "=EXACT MATCH==================================================\n",
      "exact match accuracy: 0.5396532775552167\n",
      "scikit exact match accuracy: 0.11553224155578301\n"
     ]
    },
    {
     "name": "stderr",
     "output_type": "stream",
     "text": [
      "/home/ianic/.conda/envs/dipl/lib/python3.8/site-packages/sklearn/preprocessing/_label.py:986: UserWarning: unknown class(es) ['KULTURA  I UMJETNOST|FILATELIJA'] will be ignored\n",
      "  warnings.warn('unknown class(es) {0} will be ignored'\n"
     ]
    }
   ],
   "source": [
    "metrics.classification_report(ch, labels_true, labels_pred)"
   ]
  },
  {
   "cell_type": "code",
   "execution_count": 45,
   "metadata": {
    "ExecuteTime": {
     "end_time": "2020-09-24T14:07:33.413014Z",
     "start_time": "2020-09-24T14:07:33.408492Z"
    }
   },
   "outputs": [
    {
     "name": "stdout",
     "output_type": "stream",
     "text": [
      "['MEDIJI|TELEVIZIJA', 'PRAVOSUĐE/SUDSTVO/KRIMINAL|KRIMINAL', 'ZDRAVLJE|MEDICINSKO OSOBLJE']\n",
      "['PRAVOSUĐE/SUDSTVO/KRIMINAL|KRIMINAL', 'ZDRAVLJE|MEDICINSKO OSOBLJE', 'ZNANOSTI I TEHNOLOGIJA|ZNANSTVENI DJELATNICI']\n"
     ]
    }
   ],
   "source": [
    "print(labels_true[0])\n",
    "print(labels_pred[0])"
   ]
  },
  {
   "cell_type": "code",
   "execution_count": 51,
   "metadata": {
    "ExecuteTime": {
     "end_time": "2020-09-24T14:09:43.691716Z",
     "start_time": "2020-09-24T14:09:43.486538Z"
    }
   },
   "outputs": [
    {
     "name": "stdout",
     "output_type": "stream",
     "text": [
      "f1-micro: 0.6325428286621693\n",
      "f1-macro: 0.5077925473077154\n"
     ]
    },
    {
     "name": "stderr",
     "output_type": "stream",
     "text": [
      "/home/ianic/.conda/envs/dipl/lib/python3.8/site-packages/sklearn/metrics/_classification.py:1514: UndefinedMetricWarning: F-score is ill-defined and being set to 0.0 in labels with no true nor predicted samples. Use `zero_division` parameter to control this behavior.\n",
      "  _warn_prf(\n"
     ]
    }
   ],
   "source": [
    "print(f\"f1-micro: {f1_score(yval, y_pred, average='micro')}\")\n",
    "print(f\"f1-macro: {f1_score(yval, y_pred, average='macro')}\")"
   ]
  },
  {
   "cell_type": "markdown",
   "metadata": {},
   "source": [
    "## Most informative features (for RandomForestClassifier)"
   ]
  },
  {
   "cell_type": "code",
   "execution_count": 47,
   "metadata": {
    "ExecuteTime": {
     "end_time": "2020-09-24T14:08:09.033248Z",
     "start_time": "2020-09-24T14:08:09.027758Z"
    }
   },
   "outputs": [],
   "source": [
    "def print_top10(vectorizer, clf, class_labels):\n",
    "    \"\"\"Prints features with the highest coefficient values, per class\"\"\"\n",
    "    feature_names = vectorizer.get_feature_names()\n",
    "    for i, class_label in enumerate(class_labels):\n",
    "        top10 = np.argsort(clf.coef[i])[-10:]\n",
    "        print(\"%s: %s\" % (class_label,\n",
    "                          \" \".join(feature_names[j] for j in top10)))"
   ]
  },
  {
   "cell_type": "markdown",
   "metadata": {},
   "source": [
    "## Threshold optimization"
   ]
  },
  {
   "cell_type": "code",
   "execution_count": 54,
   "metadata": {
    "ExecuteTime": {
     "end_time": "2020-09-24T14:10:13.161292Z",
     "start_time": "2020-09-24T14:10:13.152208Z"
    }
   },
   "outputs": [],
   "source": [
    "def optimize_threshold_for_f1(yval, y_pred_prob):\n",
    "    t_s = [0.05, 0.1, 0.2, 0.3, 0.4, 0.5, 0.6, 0.7, 0.8, 0.9, 1]\n",
    "    t_vals = list(map(lambda x: f1_score(\n",
    "        yval, (y_pred_prob >= x).astype(int), average=\"micro\"), t_s))\n",
    "    t_vals_macro = list(map(lambda x: f1_score(\n",
    "        yval, (y_pred_prob >= x).astype(int), average=\"macro\"), t_s))\n",
    "\n",
    "    fig, ax = plt.subplots()\n",
    "\n",
    "    ax.plot(t_s, t_vals, label=\"F1-micro\")\n",
    "    ax.plot(t_s, t_vals_macro, label=\"F1-macro\")\n",
    "\n",
    "    plt.xlabel(\"Threshold\")\n",
    "    plt.ylabel(\"F1 score\")\n",
    "    plt.legend(loc='lower left')\n",
    "    plt.show(\"F1 score\")\n",
    "\n",
    "    print(f\"t_s: {t_s}\")\n",
    "    print(f\"f1_micro: {t_vals}\")\n",
    "    print(f\"f1 macro: {t_vals_macro}\")\n",
    "    ma = t_s[np.argmax(t_vals)]\n",
    "    return ma"
   ]
  },
  {
   "cell_type": "code",
   "execution_count": 55,
   "metadata": {
    "ExecuteTime": {
     "end_time": "2020-09-24T14:10:20.224590Z",
     "start_time": "2020-09-24T14:10:17.366377Z"
    },
    "scrolled": true
   },
   "outputs": [
    {
     "name": "stdout",
     "output_type": "stream",
     "text": [
      "(7816, 214)\n"
     ]
    },
    {
     "data": {
      "image/png": "[encoded data removed]",
      "text/plain": [
       "<Figure size 460.8x403.2 with 1 Axes>"
      ]
     },
     "metadata": {},
     "output_type": "display_data"
    },
    {
     "name": "stdout",
     "output_type": "stream",
     "text": [
      "t_s: [0.05, 0.1, 0.2, 0.3, 0.4, 0.5, 0.6, 0.7, 0.8, 0.9, 1]\n",
      "f1_micro: [0.21835780138967745, 0.3236328591550456, 0.4465887566563025, 0.5211939603758764, 0.5692189483530434, 0.6023701884616101, 0.6227167665528033, 0.6320217767879237, 0.6271917791135609, 0.5939802387343652, 0.0]\n",
      "f1 macro: [0.18164493652805275, 0.2684966185170329, 0.3691111656393227, 0.4252931228138293, 0.46170253724455124, 0.4865466570145137, 0.5019670634330035, 0.5065800941732366, 0.5059681987539597, 0.48815103637790874, 0.0]\n",
      "0.7\n"
     ]
    }
   ],
   "source": [
    "# predict probabilities, lr - new\n",
    "y_pred_prob = clf.predict_proba(xval_tfidf)\n",
    "print(y_pred_prob.shape)\n",
    "\n",
    "threshold_opt = optimize_threshold_for_f1(yval, y_pred_prob)\n",
    "print(threshold_opt)"
   ]
  },
  {
   "cell_type": "markdown",
   "metadata": {},
   "source": [
    "## Check if there are empty predictions"
   ]
  },
  {
   "cell_type": "code",
   "execution_count": 56,
   "metadata": {
    "ExecuteTime": {
     "end_time": "2020-09-24T14:10:25.936117Z",
     "start_time": "2020-09-24T14:10:25.931955Z"
    }
   },
   "outputs": [],
   "source": [
    "def get_pred_zeros(y_pred):\n",
    "    cnt = 0\n",
    "    for pred in y_pred:\n",
    "        if not np.any(pred):\n",
    "            cnt += 1\n",
    "    return cnt"
   ]
  },
  {
   "cell_type": "code",
   "execution_count": 58,
   "metadata": {
    "ExecuteTime": {
     "end_time": "2020-09-24T14:10:53.672813Z",
     "start_time": "2020-09-24T14:10:53.633585Z"
    }
   },
   "outputs": [
    {
     "name": "stdout",
     "output_type": "stream",
     "text": [
      "ypred number of zero predicitons: 416/7816\n"
     ]
    }
   ],
   "source": [
    "# balanced\n",
    "print(f\"ypred number of zero predicitons: \"\n",
    "      f\"{get_pred_zeros(y_pred)}/{len(y_pred)}\")\n",
    "# print(f\"ypred forest number of zero predicitons:\"\n",
    "#     f\" {get_pred_zeros(y_pred_dtc)}/{len(y_pred_dtc)}\")"
   ]
  },
  {
   "cell_type": "code",
   "execution_count": null,
   "metadata": {},
   "outputs": [],
   "source": []
  }
 ],
 "metadata": {
  "kernelspec": {
   "display_name": "dipl",
   "language": "python",
   "name": "dipl"
  },
  "language_info": {
   "codemirror_mode": {
    "name": "ipython",
    "version": 3
   },
   "file_extension": ".py",
   "mimetype": "text/x-python",
   "name": "python",
   "nbconvert_exporter": "python",
   "pygments_lexer": "ipython3",
   "version": "3.7.7"
  },
  "toc": {
   "base_numbering": 1,
   "nav_menu": {},
   "number_sections": true,
   "sideBar": true,
   "skip_h1_title": false,
   "title_cell": "Table of Contents",
   "title_sidebar": "Contents",
   "toc_cell": false,
   "toc_position": {},
   "toc_section_display": true,
   "toc_window_display": false
  }
 },
 "nbformat": 4,
 "nbformat_minor": 4
}
