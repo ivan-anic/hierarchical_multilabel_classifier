{
 "cells": [
  {
   "cell_type": "markdown",
   "metadata": {},
   "source": [
    "# Exploratory Data Analysis\n",
    "taking a deeper look into the data "
   ]
  },
  {
   "cell_type": "code",
   "execution_count": 1,
   "metadata": {
    "ExecuteTime": {
     "end_time": "2020-09-27T15:20:06.918125Z",
     "start_time": "2020-09-27T15:20:05.838066Z"
    }
   },
   "outputs": [],
   "source": [
    "import pickle\n",
    "import re\n",
    "from collections import OrderedDict\n",
    "\n",
    "import matplotlib.pyplot as plt\n",
    "import nltk\n",
    "import numpy as np\n",
    "import pandas as pd\n",
    "import seaborn as sns\n",
    "from IPython.core.debugger import set_trace\n",
    "\n",
    "from hina_loader import load_full_hina_dataset\n",
    "from utils import flatten_dataset"
   ]
  },
  {
   "cell_type": "code",
   "execution_count": 3,
   "metadata": {
    "ExecuteTime": {
     "end_time": "2020-09-27T15:20:08.805042Z",
     "start_time": "2020-09-27T15:20:08.796060Z"
    }
   },
   "outputs": [],
   "source": [
    "from jupyterthemes import jtplot\n",
    "jtplot.style()"
   ]
  },
  {
   "cell_type": "markdown",
   "metadata": {},
   "source": [
    "## Load and prepare the dataset"
   ]
  },
  {
   "cell_type": "code",
   "execution_count": 4,
   "metadata": {
    "ExecuteTime": {
     "end_time": "2020-09-27T15:20:17.002375Z",
     "start_time": "2020-09-27T15:20:09.844435Z"
    }
   },
   "outputs": [
    {
     "name": "stdout",
     "output_type": "stream",
     "text": [
      "39110\n"
     ]
    }
   ],
   "source": [
    "dataset = load_full_hina_dataset(\n",
    "    '/home/ianic/ma_thesis/hina/TreningSet-HINA-200901 - 40023 documents.xml')\n",
    "print(len(dataset))"
   ]
  },
  {
   "cell_type": "code",
   "execution_count": 5,
   "metadata": {
    "ExecuteTime": {
     "end_time": "2020-09-27T15:20:19.147760Z",
     "start_time": "2020-09-27T15:20:17.005786Z"
    }
   },
   "outputs": [],
   "source": [
    "df = pd.read_pickle(\"/home/ianic/ma_thesis/dataset_2_with_topics_prot_4.pkl\")"
   ]
  },
  {
   "cell_type": "code",
   "execution_count": 6,
   "metadata": {
    "ExecuteTime": {
     "end_time": "2020-09-27T15:20:23.083635Z",
     "start_time": "2020-09-27T15:20:20.448741Z"
    }
   },
   "outputs": [],
   "source": [
    "dataset_flat_1 = flatten_dataset(dataset, 1)\n",
    "dataset_flat_2 = flatten_dataset(dataset, 2)\n",
    "dataset_flat_3 = flatten_dataset(dataset, 3)\n",
    "dataset_flat_4 = flatten_dataset(dataset, 4)"
   ]
  },
  {
   "cell_type": "code",
   "execution_count": 7,
   "metadata": {
    "ExecuteTime": {
     "end_time": "2020-09-27T15:20:23.216384Z",
     "start_time": "2020-09-27T15:20:23.085732Z"
    }
   },
   "outputs": [
    {
     "name": "stdout",
     "output_type": "stream",
     "text": [
      "1229\n"
     ]
    }
   ],
   "source": [
    "topics = {}\n",
    "\n",
    "for child in dataset:\n",
    "    for topic in child.topics:\n",
    "        topic = topic.strip()\n",
    "        if (topic not in topics):\n",
    "            topics[topic] = 1\n",
    "        else:\n",
    "            topics[topic] += 1\n",
    "print(len(topics))"
   ]
  },
  {
   "cell_type": "markdown",
   "metadata": {},
   "source": [
    "## Raw topics\n",
    "Let's take a look at the raw topics, the taxonomy, and the topic distribution across hierarchy levels"
   ]
  },
  {
   "cell_type": "code",
   "execution_count": 8,
   "metadata": {
    "ExecuteTime": {
     "end_time": "2020-09-27T15:20:23.224166Z",
     "start_time": "2020-09-27T15:20:23.218120Z"
    }
   },
   "outputs": [
    {
     "name": "stdout",
     "output_type": "stream",
     "text": [
      "[('PRAVOSUĐE/SUDSTVO/KRIMINAL|PRAVOSUĐE|Sudovi|Općinski / lokalni sudovi', 654), ('PRAVOSUĐE/SUDSTVO/KRIMINAL|PRAVOSUĐE', 1676), ('PRAVOSUĐE/SUDSTVO/KRIMINAL|KRIMINAL|Kaznena djela protiv zdravlja ljudi|Nesavjesno liječenje', 128)]\n"
     ]
    }
   ],
   "source": [
    "print(list(topics.items())[0:3])"
   ]
  },
  {
   "cell_type": "code",
   "execution_count": 9,
   "metadata": {
    "ExecuteTime": {
     "end_time": "2020-09-27T15:20:29.601708Z",
     "start_time": "2020-09-27T15:20:29.529830Z"
    }
   },
   "outputs": [
    {
     "name": "stdout",
     "output_type": "stream",
     "text": [
      "└─topics\n",
      "  ├─DRUŠTVO\n",
      "  │ ├─DRUŠTVO|DEMOGRAFIJA\n",
      "  │ ├─DRUŠTVO|DONACIJE\n",
      "  │ ├─DRUŠTVO|HUMANITARNI RAD\n",
      "  │ ├─DRUŠTVO|INVALIDI\n",
      "  │ ├─DRUŠTVO|LJUDSKA PRAVA\n",
      "  │ ├─DRUŠTVO|NAGRADE I PRIZNANJA\n",
      "  │ ├─DRUŠTVO|NASILJE (u društvu)\n",
      "  │ ├─DRUŠTVO|OBITELJ\n",
      "  │ ├─DRUŠTVO|OBLJETNICE\n",
      "  │ ├─DRUŠTVO|OBNOVA\n",
      "  │ ├─DRUŠTVO|OVISNOST\n",
      "  │ ├─DRUŠTVO|SEKSUALNOST/SPOLNOST\n",
      "  │ └─DRUŠTVO|SOCIJALNA SKRB\n",
      "  ├─GOSPODARSTVO/POSLOVANJE/FINANCIJE\n",
      "  │ ├─GOSPODARSTVO/POSLOVANJE/FINANCIJE|EKONOMIJA OPĆENITO\n",
      "  │ ├─GOSPODARSTVO/POSLOVANJE/FINANCIJE|FINANCIJE\n",
      "  │ ├─GOSPODARSTVO/POSLOVANJE/FINANCIJE|GOSPODARSKO POSLOVANJE\n",
      "  │ ├─GOSPODARSTVO/POSLOVANJE/FINANCIJE|INDUSTRIJA\n",
      "  │ ├─GOSPODARSTVO/POSLOVANJE/FINANCIJE|MAKROEKONOMIJA\n",
      "  │ ├─GOSPODARSTVO/POSLOVANJE/FINANCIJE|POLJOPRIVREDA\n",
      "  │ ├─GOSPODARSTVO/POSLOVANJE/FINANCIJE|PROMET\n",
      "  │ ├─GOSPODARSTVO/POSLOVANJE/FINANCIJE|TRGOVINA\n",
      "  │ └─GOSPODARSTVO/POSLOVANJE/FINANCIJE|TURIZAM I UGOSTITELJSTVO\n",
      "  ├─KATASTROFE I NESREĆE\n",
      "  │ ├─KATASTROFE I NESREĆE|INDUSTRIJSKE NESREĆE\n",
      "  │ ├─KATASTROFE I NESREĆE|MJERE ZAŠTITE\n",
      "  │ ├─KATASTROFE I NESREĆE|NESRETNI SLUČAJEVI\n",
      "  │ ├─KATASTROFE I NESREĆE|PRIRODNE KATASTROFE\n",
      "  │ └─KATASTROFE I NESREĆE|PROMETNE NESREĆE\n",
      "  ├─KULTURA  I UMJETNOST\n",
      "  │ ├─KULTURA  I UMJETNOST|ARHITEKTURA\n",
      "  │ ├─KULTURA  I UMJETNOST|ARHIVI\n",
      "  │ ├─KULTURA  I UMJETNOST|BALET / PLES\n",
      "  │ ├─KULTURA  I UMJETNOST|DIZAJN\n",
      "  │ ├─KULTURA  I UMJETNOST|ENCIKLOPEDIKA / LEKSIKOGRAFIJA\n",
      "  │ ├─KULTURA  I UMJETNOST|FESTIVALI\n",
      "  │ ├─KULTURA  I UMJETNOST|FILATELIJA\n",
      "  │ ├─KULTURA  I UMJETNOST|FILM\n",
      "  │ ├─KULTURA  I UMJETNOST|FOTOGRAFIJA\n",
      "  │ ├─KULTURA  I UMJETNOST|GALERIJE\n",
      "  │ ├─KULTURA  I UMJETNOST|GLAZBA\n",
      "  │ ├─KULTURA  I UMJETNOST|ILUSTRACIJA\n",
      "  │ ├─KULTURA  I UMJETNOST|JEZIK / PISMO\n",
      "  │ ├─KULTURA  I UMJETNOST|KAZALIŠTE\n",
      "  │ ├─KULTURA  I UMJETNOST|KNJIŽEVNOST\n",
      "  │ ├─KULTURA  I UMJETNOST|KNJIŽNICE\n",
      "  │ ├─KULTURA  I UMJETNOST|KONCERTI\n",
      "  │ ├─KULTURA  I UMJETNOST|KULTURA\n",
      "  │ ├─KULTURA  I UMJETNOST|KULTURNA BAŠTINA\n",
      "  │ ├─KULTURA  I UMJETNOST|KULTURNE NAGRADE / PRIZNANJA\n",
      "  │ ├─KULTURA  I UMJETNOST|LIKOVNA UMJETNOST\n",
      "  │ ├─KULTURA  I UMJETNOST|MODA\n",
      "  │ ├─KULTURA  I UMJETNOST|MUZEJI\n",
      "  │ ├─KULTURA  I UMJETNOST|MUZEJI / GALERIJE  \n",
      "  │ ├─KULTURA  I UMJETNOST|NAIVNA UMJETNOST\n",
      "  │ ├─KULTURA  I UMJETNOST|NAKIT\n",
      "  │ ├─KULTURA  I UMJETNOST|NAKLADNIŠTVO\n",
      "  │ ├─KULTURA  I UMJETNOST|NATJECANJA\n",
      "  │ ├─KULTURA  I UMJETNOST|OBIČAJI\n",
      "  │ ├─KULTURA  I UMJETNOST|POPULARNA KULTURA\n",
      "  │ ├─KULTURA  I UMJETNOST|PREDSTAVE\n",
      "  │ ├─KULTURA  I UMJETNOST|UMJETNICI\n",
      "  │ └─KULTURA  I UMJETNOST|UMJETNOST OPĆENITO\n",
      "  ├─MEDIJI\n",
      "  │ ├─MEDIJI|INTERNET\n",
      "  │ ├─MEDIJI|MEDIJSKE KUĆE\n",
      "  │ ├─MEDIJI|NOVINSKE AGENCIJE\n",
      "  │ ├─MEDIJI|RADIO\n",
      "  │ ├─MEDIJI|SLOBODA MEDIJA\n",
      "  │ ├─MEDIJI|TELEVIZIJA\n",
      "  │ └─MEDIJI|TISAK\n",
      "  ├─NEMIRI/SUKOBI/RATOVI\n",
      "  │ ├─NEMIRI/SUKOBI/RATOVI|DOMOVINSKI RAT\n",
      "  │ ├─NEMIRI/SUKOBI/RATOVI|DOMOVINSKI RAT    \n",
      "  │ ├─NEMIRI/SUKOBI/RATOVI|MIROVNI PROCESI\n",
      "  │ ├─NEMIRI/SUKOBI/RATOVI|NEREDI\n",
      "  │ ├─NEMIRI/SUKOBI/RATOVI|ORUŽANI SUKOBI\n",
      "  │ ├─NEMIRI/SUKOBI/RATOVI|POLITIČKA KRIZA\n",
      "  │ ├─NEMIRI/SUKOBI/RATOVI|RATOVI\n",
      "  │ └─NEMIRI/SUKOBI/RATOVI|TERORIZAM\n",
      "  ├─OBAVIJESTI I UPOZORENJA\n",
      "  │ ├─OBAVIJESTI I UPOZORENJA|OBAVIJESTI\n",
      "  │ ├─OBAVIJESTI I UPOZORENJA|STANJE NA CESTAMA\n",
      "  │ └─OBAVIJESTI I UPOZORENJA|VRIJEME\n",
      "  ├─ODGOJ I OBRAZOVANJE\n",
      "  │ ├─ODGOJ I OBRAZOVANJE|OBRAZOVANJE / ŠKOLSTVO\n",
      "  │ ├─ODGOJ I OBRAZOVANJE|OBRAZOVANJE ODRASLIH\n",
      "  │ ├─ODGOJ I OBRAZOVANJE|ODGOJNO-OBRAZOVNE USTANOVE\n",
      "  │ ├─ODGOJ I OBRAZOVANJE|OSNOVNO OBRAZOVANJE\n",
      "  │ ├─ODGOJ I OBRAZOVANJE|PREDŠKOLSKI ODGOJ\n",
      "  │ ├─ODGOJ I OBRAZOVANJE|SREDNJE OBRAZOVANJE\n",
      "  │ ├─ODGOJ I OBRAZOVANJE|VISOKO OBRAZOVANJE\n",
      "  │ └─ODGOJ I OBRAZOVANJE|ŠKOLE ZNANJA I VJEŠTINA\n",
      "  ├─POLITIKA\n",
      "  │ ├─POLITIKA|IDEOLOGIJE\n",
      "  │ ├─POLITIKA|IZBORI\n",
      "  │ ├─POLITIKA|IZVRŠNA VLAST\n",
      "  │ ├─POLITIKA|MEĐUNARODNI POLITIČKI ODNOSI\n",
      "  │ ├─POLITIKA|MJESNA SAMOUPRAVA\n",
      "  │ ├─POLITIKA|NACIONALNA SIGURNOST\n",
      "  │ ├─POLITIKA|OBRANA\n",
      "  │ ├─POLITIKA|POLITIČKE STRANKE\n",
      "  │ ├─POLITIKA|POLITIČKI IMUNITET\n",
      "  │ ├─POLITIKA|PREDSJEDNICI / DRŽAVNI POGLAVARI\n",
      "  │ ├─POLITIKA|PREDSTAVNIČKA / ZASTUPNIČKA TIJELA\n",
      "  │ ├─POLITIKA|REFERENDUMI\n",
      "  │ ├─POLITIKA|TRADICIONALNI SPORTOVI\n",
      "  │ ├─POLITIKA|UDRUGE GRAĐANA\n",
      "  │ ├─POLITIKA|UNUTARNJA POLITIKA\n",
      "  │ └─POLITIKA|USTAV\n",
      "  ├─PRAVOSUĐE/SUDSTVO/KRIMINAL\n",
      "  │ ├─PRAVOSUĐE/SUDSTVO/KRIMINAL|DRŽAVNO ODVJETNIŠTVO / TUŽITELJSTVO\n",
      "  │ ├─PRAVOSUĐE/SUDSTVO/KRIMINAL|GOSPODARSKI KRIMINAL\n",
      "  │ ├─PRAVOSUĐE/SUDSTVO/KRIMINAL|IZVANSUDSKI POSTUPCI\n",
      "  │ ├─PRAVOSUĐE/SUDSTVO/KRIMINAL|KAZNE\n",
      "  │ ├─PRAVOSUĐE/SUDSTVO/KRIMINAL|KRIMINAL\n",
      "  │ ├─PRAVOSUĐE/SUDSTVO/KRIMINAL|KRIMINALISTIKA\n",
      "  │ ├─PRAVOSUĐE/SUDSTVO/KRIMINAL|MEĐUNARODNO PRAVO\n",
      "  │ ├─PRAVOSUĐE/SUDSTVO/KRIMINAL|ORGANIZIRANI KRIMINAL\n",
      "  │ ├─PRAVOSUĐE/SUDSTVO/KRIMINAL|POLICIJA\n",
      "  │ ├─PRAVOSUĐE/SUDSTVO/KRIMINAL|PRAVO\n",
      "  │ ├─PRAVOSUĐE/SUDSTVO/KRIMINAL|PRAVOSUĐE\n",
      "  │ ├─PRAVOSUĐE/SUDSTVO/KRIMINAL|RATNI ZLOČINI\n",
      "  │ ├─PRAVOSUĐE/SUDSTVO/KRIMINAL|SUĐENJA\n",
      "  │ ├─PRAVOSUĐE/SUDSTVO/KRIMINAL|ZAKONODAVSTVO\n",
      "  │ ├─PRAVOSUĐE/SUDSTVO/KRIMINAL|ZATVORSKI SUSTAV\n",
      "  │ └─PRAVOSUĐE/SUDSTVO/KRIMINAL|ZAŠTITA I SIGURNOST\n",
      "  ├─RAD\n",
      "  │ ├─RAD|NEZAPOSLENOST\n",
      "  │ ├─RAD|Poslodavci\n",
      "  │ ├─RAD|RADNI ODNOSI\n",
      "  │ ├─RAD|RADNO ZAKONODAVSTVO\n",
      "  │ ├─RAD|SINDIKATI\n",
      "  │ ├─RAD|TRŽIŠTE RADA\n",
      "  │ └─RAD|ZAPOŠLJAVANJE\n",
      "  ├─RELIGIJA I VJEROVANJE\n",
      "  │ ├─RELIGIJA I VJEROVANJE|ATEIZAM\n",
      "  │ ├─RELIGIJA I VJEROVANJE|MEĐURELIGIJSKI DIJALOG\n",
      "  │ ├─RELIGIJA I VJEROVANJE|ODNOSI CRKVE I DRŽAVE\n",
      "  │ ├─RELIGIJA I VJEROVANJE|VJERE\n",
      "  │ ├─RELIGIJA I VJEROVANJE|VJERSKI DOGAĐAJI\n",
      "  │ ├─RELIGIJA I VJEROVANJE|VJERSKI OBJEKTI / BOGOMOLJE\n",
      "  │ ├─RELIGIJA I VJEROVANJE|VJERSKI SLUŽBENICI\n",
      "  │ └─RELIGIJA I VJEROVANJE|VJERSKI SPISI / SVETI SPISI\n",
      "  ├─SPORT\n",
      "  │ ├─SPORT|AMERIČKI NOGOMET\n",
      "  │ ├─SPORT|ATLETIKA\n",
      "  │ ├─SPORT|BADMINTON\n",
      "  │ ├─SPORT|BASEBALL\n",
      "  │ ├─SPORT|BICIKLIZAM\n",
      "  │ ├─SPORT|BILJAR\n",
      "  │ ├─SPORT|BORILAČKI SPORTOVI I VJEŠTINE\n",
      "  │ ├─SPORT|BOĆANJE\n",
      "  │ ├─SPORT|DOPING\n",
      "  │ ├─SPORT|EKSTREMNI SPORTOVI\n",
      "  │ ├─SPORT|GOLF\n",
      "  │ ├─SPORT|Gimnastika\n",
      "  │ ├─SPORT|KLADIONICE\n",
      "  │ ├─SPORT|KONJIČKI SPORTOVI\n",
      "  │ ├─SPORT|KOŠARKA\n",
      "  │ ├─SPORT|KUGLANJE\n",
      "  │ ├─SPORT|MOTO SPORTOVI\n",
      "  │ ├─SPORT|NAVIJANJE\n",
      "  │ ├─SPORT|NOGOMET\n",
      "  │ ├─SPORT|ODBOJKA\n",
      "  │ ├─SPORT|RAGBI\n",
      "  │ ├─SPORT|RUKOMET\n",
      "  │ ├─SPORT|SPONZORSTVO\n",
      "  │ ├─SPORT|SPORTOVI NA SNIJEGU I LEDU\n",
      "  │ ├─SPORT|SPORTOVI SNAGE\n",
      "  │ ├─SPORT|SPORTSKA NATJECANJA\n",
      "  │ ├─SPORT|SPORTSKA REKREACIJA\n",
      "  │ ├─SPORT|SPORTSKE NAGRADE\n",
      "  │ ├─SPORT|SPORTSKI DOGAĐAJ\n",
      "  │ ├─SPORT|SPORTSKI OBJEKTI\n",
      "  │ ├─SPORT|SQUASH\n",
      "  │ ├─SPORT|STOLNI TENIS\n",
      "  │ ├─SPORT|STRELJAŠTVO\n",
      "  │ ├─SPORT|TENIS\n",
      "  │ ├─SPORT|VODENI SPORTOVI\n",
      "  │ └─SPORT|ŠAH\n",
      "  ├─ZANIMLJIVOSTI\n",
      "  │ ├─ZANIMLJIVOSTI |DOGAĐAJI\n",
      "  │ ├─ZANIMLJIVOSTI |SLOBODNO VRIJEME\n",
      "  │ ├─ZANIMLJIVOSTI |TEHNOLOŠKI TRENDOVI\n",
      "  │ ├─ZANIMLJIVOSTI|DOGAĐAJI\n",
      "  │ ├─ZANIMLJIVOSTI|GASTRONOMIJA\n",
      "  │ ├─ZANIMLJIVOSTI|LJEPOTA / ULJEPŠAVANJE\n",
      "  │ ├─ZANIMLJIVOSTI|MISTERIJI\n",
      "  │ ├─ZANIMLJIVOSTI|POSTIGNUĆA\n",
      "  │ ├─ZANIMLJIVOSTI|SLOBODNO VRIJEME\n",
      "  │ ├─ZANIMLJIVOSTI|TEHNOLOŠKI TRENDOVI\n",
      "  │ ├─ZANIMLJIVOSTI|UREĐENJE KUĆE I DOMA\n",
      "  │ └─ZANIMLJIVOSTI|ŽIVOTINJE\n",
      "  ├─ZAŠTITA OKOLIŠA\n",
      "  │ ├─ZAŠTITA OKOLIŠA|KLIMATSKE PROMJENE\n",
      "  │ ├─ZAŠTITA OKOLIŠA|OKOLIŠ\n",
      "  │ ├─ZAŠTITA OKOLIŠA|PRIRODNI RESURSI\n",
      "  │ ├─ZAŠTITA OKOLIŠA|UNIŠTAVANJE OKOLIŠA\n",
      "  │ └─ZAŠTITA OKOLIŠA|ZAŠTITA OKOLIŠA\n",
      "  ├─ZDRAVLJE\n",
      "  │ ├─ZDRAVLJE|BOLESTI\n",
      "  │ ├─ZDRAVLJE|LIJEČENJE\n",
      "  │ ├─ZDRAVLJE|MEDICINA\n",
      "  │ ├─ZDRAVLJE|MEDICINSKO OSOBLJE\n",
      "  │ ├─ZDRAVLJE|Veterina\n",
      "  │ ├─ZDRAVLJE|ZDRAVSTVENE UDRUGE\n",
      "  │ ├─ZDRAVLJE|ZDRAVSTVENE USTANOVE\n",
      "  │ └─ZDRAVLJE|ZDRAVSTVO/ZDRAVSTVENI SUSTAV\n",
      "  └─ZNANOSTI I TEHNOLOGIJA\n",
      "    ├─ZNANOSTI I TEHNOLOGIJA|BIOMEDICINA I ZDRAVSTVO\n",
      "    ├─ZNANOSTI I TEHNOLOGIJA|BIOTEHNIČKE ZNANOSTI\n",
      "    ├─ZNANOSTI I TEHNOLOGIJA|DRUŠTVENE ZNANOSTI\n",
      "    ├─ZNANOSTI I TEHNOLOGIJA|HUMANISTIČKE ZNANOSTI\n",
      "    ├─ZNANOSTI I TEHNOLOGIJA|PRIRODNE ZNANOSTI\n",
      "    ├─ZNANOSTI I TEHNOLOGIJA|STANDARDI\n",
      "    ├─ZNANOSTI I TEHNOLOGIJA|TEHNIČKE ZNANOSTI\n",
      "    ├─ZNANOSTI I TEHNOLOGIJA|ZNANSTVENA ISTRAŽIVANJA\n",
      "    ├─ZNANOSTI I TEHNOLOGIJA|ZNANSTVENE USTANOVE I ORGANIZACIJE\n",
      "    └─ZNANOSTI I TEHNOLOGIJA|ZNANSTVENI DJELATNICI\n"
     ]
    }
   ],
   "source": [
    "od = OrderedDict(sorted(topics.items()))\n",
    "\n",
    "ch = None\n",
    "with open('/home/ianic/ma_thesis/ch.pickle', 'rb') as f:\n",
    "    _ch = pickle.load(f)\n",
    "    ch = _ch\n",
    "ch.print_()"
   ]
  },
  {
   "cell_type": "code",
   "execution_count": 10,
   "metadata": {
    "ExecuteTime": {
     "end_time": "2020-09-27T15:20:33.536173Z",
     "start_time": "2020-09-27T15:20:33.524787Z"
    }
   },
   "outputs": [],
   "source": [
    "keys = list(od.keys())\n",
    "topics_hierch = []\n",
    "for key in keys:\n",
    "    topics_hierch.append(re.split(r'[|]\\s*', key))\n",
    "\n",
    "split_subtopics_per_depth = {}\n",
    "\n",
    "for node in topics_hierch:\n",
    "    for idx, item in enumerate(node):\n",
    "        item = item.strip()\n",
    "        if (idx not in split_subtopics_per_depth):\n",
    "            split_subtopics_per_depth[idx] = set()\n",
    "            split_subtopics_per_depth[idx].add(item)\n",
    "        else:\n",
    "            split_subtopics_per_depth[idx].add(item)"
   ]
  },
  {
   "cell_type": "code",
   "execution_count": 11,
   "metadata": {
    "ExecuteTime": {
     "end_time": "2020-09-27T15:20:34.879019Z",
     "start_time": "2020-09-27T15:20:34.858420Z"
    }
   },
   "outputs": [
    {
     "name": "stdout",
     "output_type": "stream",
     "text": [
      "hierarchy size, depth:5\n",
      "hierarchy lvl 1, size:17\n",
      "==================================================\n",
      "['DRUŠTVO', 'GOSPODARSTVO/POSLOVANJE/FINANCIJE', 'KATASTROFE I NESREĆE', 'KULTURA  I UMJETNOST', 'MEDIJI', 'NEMIRI/SUKOBI/RATOVI', 'OBAVIJESTI I UPOZORENJA', 'ODGOJ I OBRAZOVANJE', 'POLITIKA', 'PRAVOSUĐE/SUDSTVO/KRIMINAL', 'RAD', 'RELIGIJA I VJEROVANJE', 'SPORT', 'ZANIMLJIVOSTI', 'ZAŠTITA OKOLIŠA', 'ZDRAVLJE', 'ZNANOSTI I TEHNOLOGIJA']\n",
      "hierarchy lvl 2, size:200\n",
      "==================================================\n",
      "['AMERIČKI NOGOMET', 'ARHITEKTURA', 'ARHIVI', 'ATEIZAM', 'ATLETIKA', 'BADMINTON', 'BALET / PLES', 'BASEBALL', 'BICIKLIZAM', 'BILJAR', 'BIOMEDICINA I ZDRAVSTVO', 'BIOTEHNIČKE ZNANOSTI', 'BOLESTI', 'BORILAČKI SPORTOVI I VJEŠTINE', 'BOĆANJE', 'DEMOGRAFIJA', 'DIZAJN', 'DOGAĐAJI', 'DOMOVINSKI RAT', 'DONACIJE', 'DOPING', 'DRUŠTVENE ZNANOSTI', 'DRŽAVNO ODVJETNIŠTVO / TUŽITELJSTVO', 'EKONOMIJA OPĆENITO', 'EKSTREMNI SPORTOVI', 'ENCIKLOPEDIKA / LEKSIKOGRAFIJA', 'FESTIVALI', 'FILATELIJA', 'FILM', 'FINANCIJE', 'FOTOGRAFIJA', 'GALERIJE', 'GASTRONOMIJA', 'GLAZBA', 'GOLF', 'GOSPODARSKI KRIMINAL', 'GOSPODARSKO POSLOVANJE', 'Gimnastika', 'HUMANISTIČKE ZNANOSTI', 'HUMANITARNI RAD', 'IDEOLOGIJE', 'ILUSTRACIJA', 'INDUSTRIJA', 'INDUSTRIJSKE NESREĆE', 'INTERNET', 'INVALIDI', 'IZBORI', 'IZVANSUDSKI POSTUPCI', 'IZVRŠNA VLAST', 'JEZIK / PISMO', 'KAZALIŠTE', 'KAZNE', 'KLADIONICE', 'KLIMATSKE PROMJENE', 'KNJIŽEVNOST', 'KNJIŽNICE', 'KONCERTI', 'KONJIČKI SPORTOVI', 'KOŠARKA', 'KRIMINAL', 'KRIMINALISTIKA', 'KUGLANJE', 'KULTURA', 'KULTURNA BAŠTINA', 'KULTURNE NAGRADE / PRIZNANJA', 'LIJEČENJE', 'LIKOVNA UMJETNOST', 'LJEPOTA / ULJEPŠAVANJE', 'LJUDSKA PRAVA', 'MAKROEKONOMIJA', 'MEDICINA', 'MEDICINSKO OSOBLJE', 'MEDIJSKE KUĆE', 'MEĐUNARODNI POLITIČKI ODNOSI', 'MEĐUNARODNO PRAVO', 'MEĐURELIGIJSKI DIJALOG', 'MIROVNI PROCESI', 'MISTERIJI', 'MJERE ZAŠTITE', 'MJESNA SAMOUPRAVA', 'MODA', 'MOTO SPORTOVI', 'MUZEJI', 'MUZEJI / GALERIJE', 'NACIONALNA SIGURNOST', 'NAGRADE I PRIZNANJA', 'NAIVNA UMJETNOST', 'NAKIT', 'NAKLADNIŠTVO', 'NASILJE (u društvu)', 'NATJECANJA', 'NAVIJANJE', 'NEREDI', 'NESRETNI SLUČAJEVI', 'NEZAPOSLENOST', 'NOGOMET', 'NOVINSKE AGENCIJE', 'OBAVIJESTI', 'OBITELJ', 'OBIČAJI', 'OBLJETNICE', 'OBNOVA', 'OBRANA', 'OBRAZOVANJE / ŠKOLSTVO', 'OBRAZOVANJE ODRASLIH', 'ODBOJKA', 'ODGOJNO-OBRAZOVNE USTANOVE', 'ODNOSI CRKVE I DRŽAVE', 'OKOLIŠ', 'ORGANIZIRANI KRIMINAL', 'ORUŽANI SUKOBI', 'OSNOVNO OBRAZOVANJE', 'OVISNOST', 'POLICIJA', 'POLITIČKA KRIZA', 'POLITIČKE STRANKE', 'POLITIČKI IMUNITET', 'POLJOPRIVREDA', 'POPULARNA KULTURA', 'POSTIGNUĆA', 'PRAVO', 'PRAVOSUĐE', 'PREDSJEDNICI / DRŽAVNI POGLAVARI', 'PREDSTAVE', 'PREDSTAVNIČKA / ZASTUPNIČKA TIJELA', 'PREDŠKOLSKI ODGOJ', 'PRIRODNE KATASTROFE', 'PRIRODNE ZNANOSTI', 'PRIRODNI RESURSI', 'PROMET', 'PROMETNE NESREĆE', 'Poslodavci', 'RADIO', 'RADNI ODNOSI', 'RADNO ZAKONODAVSTVO', 'RAGBI', 'RATNI ZLOČINI', 'RATOVI', 'REFERENDUMI', 'RUKOMET', 'SEKSUALNOST/SPOLNOST', 'SINDIKATI', 'SLOBODA MEDIJA', 'SLOBODNO VRIJEME', 'SOCIJALNA SKRB', 'SPONZORSTVO', 'SPORTOVI NA SNIJEGU I LEDU', 'SPORTOVI SNAGE', 'SPORTSKA NATJECANJA', 'SPORTSKA REKREACIJA', 'SPORTSKE NAGRADE', 'SPORTSKI DOGAĐAJ', 'SPORTSKI OBJEKTI', 'SQUASH', 'SREDNJE OBRAZOVANJE', 'STANDARDI', 'STANJE NA CESTAMA', 'STOLNI TENIS', 'STRELJAŠTVO', 'SUĐENJA', 'TEHNIČKE ZNANOSTI', 'TEHNOLOŠKI TRENDOVI', 'TELEVIZIJA', 'TENIS', 'TERORIZAM', 'TISAK', 'TRADICIONALNI SPORTOVI', 'TRGOVINA', 'TRŽIŠTE RADA', 'TURIZAM I UGOSTITELJSTVO', 'UDRUGE GRAĐANA', 'UMJETNICI', 'UMJETNOST OPĆENITO', 'UNIŠTAVANJE OKOLIŠA', 'UNUTARNJA POLITIKA', 'UREĐENJE KUĆE I DOMA', 'USTAV', 'VISOKO OBRAZOVANJE', 'VJERE', 'VJERSKI DOGAĐAJI', 'VJERSKI OBJEKTI / BOGOMOLJE', 'VJERSKI SLUŽBENICI', 'VJERSKI SPISI / SVETI SPISI', 'VODENI SPORTOVI', 'VRIJEME', 'Veterina', 'ZAKONODAVSTVO', 'ZAPOŠLJAVANJE', 'ZATVORSKI SUSTAV', 'ZAŠTITA I SIGURNOST', 'ZAŠTITA OKOLIŠA', 'ZDRAVSTVENE UDRUGE', 'ZDRAVSTVENE USTANOVE', 'ZDRAVSTVO/ZDRAVSTVENI SUSTAV', 'ZNANSTVENA ISTRAŽIVANJA', 'ZNANSTVENE USTANOVE I ORGANIZACIJE', 'ZNANSTVENI DJELATNICI', 'ŠAH', 'ŠKOLE ZNANJA I VJEŠTINA', 'ŽIVOTINJE']\n",
      "hierarchy lvl 3, size:720\n",
      "==================================================\n",
      "['ALPINIZAM', 'ALPSKO SKIJANJE', 'AUTOMOBILIZAM', 'Agrarna politika', 'Agresije', 'Akademici', 'Akademija znanosti', 'Akcije', 'Aktivisti', 'Alergijski i imunološki poremećaji', 'Alkoholizam', 'Alternativna medicina', 'Animirani film', 'Arbitraže', 'Arheologija', 'Arhitektura i urbanizam', 'Atomski rat', 'Automafija', 'Automobili', 'Automobilska industrija', 'Autori / crtači', 'BOB', 'BRZO KLIZANJE', 'Bacačke discipline', 'Bankarstvo', 'Beletristika', 'Biblija', 'Biologija', 'Biometeorološka prognoza', 'Biotehnologija', 'Bioterorizam', 'Body buliding', 'Boks', 'Bolesti bubrega i mokraćnog sustava', 'Bolesti dišnog sustava', 'Bolesti i stanja kod muškaraca', 'Bolesti krvnog sustava', 'Bolesti mišićno-koštanog i vezivnog tkiva', 'Bolesti probavnog sustava', 'Bolesti srca i krvožilnog sustava', 'Bolesti uha / nosa i grla', 'Bolesti živčanog sustava', 'Bolnice', 'Bolonjski proces', 'Borba protiv terorizma', 'Brak', 'Branitelji / veterani', 'Brodogradnja', 'Budizam', 'Bullying  / nasilje među djecom', 'CURLING', 'Certifikacija', 'Certifikati', 'Cestovne nesreće', 'Cestovni promet', 'Cijene', 'Cjeloživotno obrazovanje', 'Cjepiva', 'Crkve', 'Cyber bullying / internetsko nasilje', 'Dalekovodi', 'Demografska politika', 'Denacionalizacija', 'Devizna politika', 'Diplomacija / vanjska POLITIKA', 'Disciplinski / stegovni postupci', 'Dizajn nakita', 'Dizajneri nakita', 'Dizanje utega', 'Djeca', 'Dječja književnost', 'Dječje bolesti', 'Dječji rad', 'Dokumentarni film', 'Domaće tržište rada', 'Domaćinstvo igara i prvenstava', 'Domovi', 'Domovi zdravlja', 'Donacije', 'Donošenje Ustava', 'Drvna industrija', 'Država', 'Državna matura', 'Državna uprava', 'Državne / Javne', 'Državni program zaštite i uzbunjivanja', 'Državni udari / vojni udari/ puč', 'Državno sudbeno vijeće', 'Duhanska industrija', 'Duševne bolesti i stanja / bolesti ovisnosti', 'Džamije', 'Efekt staklenika', 'Ekološka poljoprivreda', 'Ekološke udruge', 'Ekološki incidenti', 'Ekološki projekti', 'Ekološki sporazumi', 'Ekonomija', 'Ekonomska analiza', 'Ekonomska politika', 'Ekonomske sankcije', 'Ekonomski pokazatelji', 'Ekosustav', 'Eksperimentalni film', 'Eksperimentalni programi', 'Eksplozije', 'Elektronika i elektrotehnika', 'Eletrotehnika', 'Energetika', 'Erupcije vulkana', 'Etnički sukobi', 'Etno glazba', 'Etnologija i antropologija', 'Europski sud za ljudska prava', 'Fakulteti', 'Farmacija', 'Filmska distribucija', 'Filmska produkcija', 'Filmski umjetnici', 'Filozofija', 'Financijske malverzacije', 'Financijski kriminal', 'Financijsko tržište', 'Financiranje', 'Financiranje kampanja', 'Financiranje stranaka', 'Fizika', 'Fizikalna medicina i rehabilitacija', 'Forenzika', 'Formiranje tijela parlamenta / saziv parlamenta', 'Fotografi', 'GMO', 'Genocid', 'Geodezija', 'Geoznanost', 'Gerilski rat', 'Gimnazije', 'Glad', 'Glasovanje', 'Glavni državni odvjetnik', 'Glazbene škole', 'Glazbeno scenski', 'Gljivarstvo', 'Globalno zatopljenje', 'Gospodarenje otpadom', 'Gradske/lokalne skupštine', 'Građanski rat', 'Građansko pravo', 'Građevinarstvo', 'HOKEJ NA LEDU', 'Hinduizam', 'Hitna medicina', 'Hladni rat', 'Hobiji', 'Hormonalni poremećaji i poremećaji metabolizma', 'Hotelijerstvo', 'Hramovi', 'Hrvanje', 'Igrani flim', 'Igraonice', 'Igre na sreću', 'Imenovanje / inauguracija', 'Incidenti u sudnicama', 'Industrija kože/gume i obuće', 'Industrija papira', 'Industrija stakla', 'Industrijska proizvodnja', 'Industrijsko bilje (biodizel i sl.)', 'Informacijske znanosti', 'Inozemni zaposlenici', 'Intelektualno vlasništvo', 'Invalidi rada', 'Invalidi rata', 'Investicije', 'Islam', 'Ispiti / provjere znanja', 'Istospolne zajednice/udruge', 'Istrage', 'Istraživači', 'Istražne radnje', 'Izbori ljepote', 'Izborne ankete', 'Izborni programi', 'Izborni zakoni / izborni sustav', 'Izložbe', 'Izručenja', 'Izumi / inovatori', 'Izvanbračne zajednice', 'Izvanpansionska potrošnja', 'Izvori i grane prava', 'Izvori međunarodnoga prava', 'JEDRENJE', 'Jaslice', 'Javna nabava', 'Javna okupljanja', 'Javne zdravstvene ustanove', 'Javni dug', 'Javni mediji', 'Javno bilježništvo', 'Javno zdravstvo i zdravstvena zaštita', 'Jazz', 'Jezik', 'Judaizam', 'Judo', 'KAJAK I KANU', 'Kalendar školske / akademske godine', 'Kampovi', 'Kanali', 'Karate', 'Karikature', 'Kasačke utrke', 'Kaznena djela', 'Kaznena djela protiv braka / obitelji i mladeži', 'Kaznena djela protiv države', 'Kaznena djela protiv imovine', 'Kaznena djela protiv javnog reda', 'Kaznena djela protiv okoliša', 'Kaznena djela protiv opće sigurnosti ljudi i imovine i sigurnosti prometa', 'Kaznena djela protiv oružanih snaga', 'Kaznena djela protiv pravosuđa', 'Kaznena djela protiv sigurnosti platnog prometa i poslovanja', 'Kaznena djela protiv sloboda i prava čovjeka i građanina', 'Kaznena djela protiv službene dužnosti', 'Kaznena djela protiv spolne slobode i spolnog ćudoređa', 'Kaznena djela protiv vjerodostojnosti isparava', 'Kaznena djela protiv vrijednosti zaštićena međunarodnim pravom', 'Kaznena djela protiv zdravlja ljudi', 'Kaznena djela protiv časti i ugleda', 'Kaznena djela protiv života i tijela', 'Kaznene prijave', 'Kazneno pravo', 'Kaznionice', 'Kemija', 'Kemijska industrija', 'Kinematografija', 'Kino dvorane', 'Kiparstvo', 'Kladioničari', 'Klasični balet', 'Klinike i poliklinike', 'Knjige', 'Knjižarstvo', 'Kockanje', 'Kolektivni ugovori', 'Kolonijalizam', 'Koncesije', 'Koreografija', 'Kožne i spolne bolesti', 'Kraljevske obitelji i plemstvo', 'Kreditna politika', 'Krijumčarenje droge', 'Krijumčarenje oružja', 'Kršenje ljudskih prava', 'Kršćanstvo', 'Kultovi i sljedbe', \"Kur'an\", 'Kvalifikacije', 'Kvote CO2', 'Lijekovi', 'Liječenje životinja', 'Liječnici', 'Likovni', 'Ljekarne', 'Lokalna samouprava / uprava', 'Lokalni izbori', 'Lokalni ratovi', 'Lov', 'MOTOCIKLIZAM', 'Mafija', 'Mali nogomet', 'Malo i srednje poduzetništvo', 'Maloljetnička delinkvencija', 'Maraton lađa na Neretvi', 'Marketing', 'Maslinarstvo', 'Matematika', 'Medalje', 'Medicina rada', 'Medicinska istraživanja', 'Medicinska specijalizacija', 'Medicinske pretrage', 'Medicinske sestre', 'Medicinske udruge', 'Mediteranske igre', 'Metaloprerađivačka industrija', 'Meteorologija', 'Meteorolozi', 'Međunarodna trgovačka arbitraža', 'Međunarodna trgovina', 'Međunarodna zaštita kulturnih dobara', 'Međunarodne financijske institucije', 'Međunarodne organizacije', 'Međunarodne vojne intervencije', 'Međunarodni gospodarski odnosi', 'Međunarodni sporovi', 'Međunarodni sud ili tribunal', 'Međunarodno pravo mora', 'Međunarodno priznanje država', 'Međunarodno tržište rada', 'Migracije', 'Mirovinsko osiguranje', 'Mirovne organizacije i pokreti', 'Mirovni planovi', 'Mirovni posrednici', 'Mirovni pregovori', 'Mjere zaštite', 'Modne revije', 'Modni trendovi', 'Monetarna politika', 'Motocikli', 'Muškarci', 'NORDIJSKO SKIJANJE', 'Nacionalizacija', 'Nacionalne manjine', 'Nacionalni programi', 'Nacionalni sukobi', 'Naftovodi', 'Nagodbe', 'Narkomanija', 'Narodi', 'Narodni običaji', 'Nasilje / nasilni prosvjedi', 'Nautički turizam', 'Navijači', 'Navijačko nasilje/neredi', 'Neobični slučajevi', 'Nesvrstanost', 'Neutralnost', 'Nevladine udruge', 'Nezgode', 'Novi mediji', 'Novinari', 'Novinarska društva', 'Novine', 'Novčane kazne / odštete', 'Nuklearne nesreće', 'Obavijesti za vozače', 'Obnova', 'Obrambeni ratovi', 'Obrana od elementarnih nepogoda', 'Odgojne znanosti', 'Odnosi s javnošću', 'Održivi razvoj', 'Odvjetnici', 'Odvjetništvo', 'Olimpijske igre', 'Opasna sredstva', 'Optužnice', 'Ordinacije', 'Organizacija igara i prvenstava', 'Oružana pobuna', 'Oružane snage', 'Oružje', 'Osiguranje', 'Osnivanje visokih učilišta', 'Osnovne škole', 'Osobne financije', 'Ostalo', 'Otkup staža', 'Otpuštanja', 'Otvaranja i zatvaranja igara i prvenstava', 'Otvorena učilišta', 'Ovrhe / deložacije', 'PADOBRANSTVO', 'PARAGLIDING', 'PLIVANJE', 'Parkovi prirode', 'Parlament/Sabor', 'Parlamentarne krize', 'Parlamentarni izbori', 'Planiranje obitelji', 'Plemenski sukobi', 'Plesne škole', 'Plinovodi', 'Pobjede', 'Poezija', 'Pokretanje novih studijskih programa', 'Policajci', 'Politika zapošljavanja', 'Politička suradnja', 'Politički kandidati', 'Politički sustav', 'Politologija', 'Poljoprivreda', 'Poljoprivredni fondovi', 'Poljoprivredno zemljište', 'Polo', 'Pomorske nesreće', 'Pomorski promet', 'Popisi birača', 'Poplave', 'Porezi', 'Pornografski film', 'Poslodavci', 'Potpore', 'Potresi', 'Potrošači', 'Potrošačka elektronika', 'Povijest', 'Povijest umjetnosti', 'Povrtlarstvo', 'Požari', 'Prava radnika', 'Pravna znanost', 'Pravni sustav', 'Pravo', 'Pravobranitelji', 'Pravosudni propusti', 'Predizborne kampanje', 'Predsjedničke ovlasti', 'Predsjednički izbori', 'Predsjednički mandat', 'Pregovori', 'Prehrambena industrija', 'Prehrambena tehnologija', 'Prekoračenja ovlasti', 'Prekršajne kazne', 'Prekršajne prijave', 'Prekvalifikacija', 'Preponsko jahanje', 'Presude', 'Pretvorba', 'Prevencija ovisnosti', 'Preventivna medicina', 'Primanja', 'Pripravnici', 'Prirast stanovništva', 'Pritvori', 'Privatizacija', 'Privatne', 'Privatne zdravstvene ustanove', 'Privatni mediji', 'Privatni smještaj', 'Priznavanje inozemnih školskih / visokoškolskih kvalifikacija', 'Procesuiranje ratnih zločina', 'Prodaja', 'Profesori', 'Prognoza vremena', 'Programi produženog boravka', 'Proizvodi', 'Proračun', 'Prostitucija', 'Prosvjedi / demonstracije', 'Prosvjetna inspekcija', 'Prosvjetni djelatnici', 'Protupožarna zaštita', 'Provođenje nacionalne sigurnosti', 'Provođenje zakona', 'Prvenstva', 'Psihologija', 'Publicistika', 'Putovanja', 'Pušenje', 'Pčelarstvo', 'RAFTING', 'RIBOLOV', 'RONJENJE', 'Rad na crno', 'Radijski programi', 'Radio emisije', 'Radna snaga', 'Radni sporovi', 'Raspuštanja parlamenta', 'Ratarstvo', 'Ratna dokumentacija', 'Ratna šteta', 'Ratni zločin protiv civilnog pučanstva', 'Ratni zločin protiv ranjenika i bolesnika', 'Ratni zločin protiv ratnih zarobljenika', 'Ratni zločini', 'Ratovi 20. stoljeća', 'Razminiranje', 'Razoružanje', 'Razvod braka', 'Računalna industrija', 'Računarstvo', 'Računovodstvo i revizija', 'Reforma pravosuđa', 'Regionalna natjecanja', 'Regionalna uprava', 'Regionalne/županijske skupštine', 'Regionalni /županijski izbori', 'Rekordi', 'Restorani', 'Ribarstvo', 'Ritmička gimnastika', 'Rituali', 'Roditelji', 'Rođeni', 'Rudarstvo', 'Rudarstvo / nafta i geološko inženjerstvo', 'SINKRONIZIRANO PLIVANJE', 'SKOKOVI U VODU', 'SNOWBOARDING', 'Sajmovi', 'Saslušanja', 'Seksualna orijentacija / spolna orijentacija', 'Sezonski rad', 'Sigurnosno-obavještajne službe', 'Sigurnost građana', 'Sigurnost prometa', 'Sinagoge', 'Sindikalisti', 'Sinjska alka', 'Siromaštvo', 'Sjećanja', 'Skakačke discipline', 'Slavne osobe', 'Slikarstvo', 'Socijalna politika', 'Socijalne službe', 'Socijalno partnerstvo', 'Sociologija', 'Sportaši', 'Sportska medicina', 'Sportska priznanja', 'Sportske dvorane', 'Sportski bazeni', 'Sportski dužnosnici', 'Sportski klubovi', 'Sportski kompleksi', 'Sportski suci', 'Sportsko klađenje', 'Sportsko-rekreacijski centri', 'Središnja/narodna banka', 'Srednje škole', 'Stadioni', 'Stanovništvo', 'Starije osobe', 'Stečaj', 'Stomatologija', 'Stočarstvo', 'Strana pomoć', 'Stranačka suradnja', 'Stranačka vodstva', 'Stranački programi', 'Stranačko članstvo', 'Stripovi', 'Strojarstvo', 'Strujni udari', 'Strukovne škole', 'Struktura zaposlenosti', 'Stručno usavršavanje', 'Studentski standard', 'Suci', 'Sudovi', 'Sudska medicina', 'Sudski procesi', 'Sudski suradnici', 'Sukobi', 'Suvremeni ples', 'Svemirski rat / rat zvijezda', 'Sveučilišta', 'Svećenici / redovnici', 'Svjedočenja', 'TV emisije', 'TV programi', 'Taekwondo', 'Tehnološki viškovi', 'Tekstilna industrija', 'Telekomunikacije', 'Teologija', 'Teorija književnosti / književna teorija', 'Terapija', 'Terorističke organizacije', 'Teroristički napadi', 'Testiranje', 'Tijela parlamenta / odbori', 'Tinejdžeri', 'Tora', 'Transplantacija', 'Trgovanje ljudima /  trafficking', 'Trgovačke marke /brandovi', 'Trgovački lanci', 'Trgovinski sporazumi', 'Trkačke discipline', 'Trovanja', 'Tržište', 'Turistička promidžba', 'Turističke agencije', 'Turistički promet', 'Turniri / mitinzi', 'Tvrtke/Korporacije', 'UMJETNIČKO KLIZANJE', 'Udruge navijača', 'Udruge pacijenata / medicinskih sestara / liječnika', 'Udruge/organizacije', 'Udžbenici', 'Ugovori', 'Ugrožene vrste', 'Uhićenja', 'Umjetnička fotografija', 'Umrli/sućuti', 'Uništavanje kulturnih dobara', 'Unutarnji poslovi', 'Upisi', 'Upravljanje medijima', 'Usjevi', 'Usklađivanje zakonodavstva', 'Uspjesi', 'Ustavna prava', 'Ustavne promjene', 'Ustavni sud', 'Usvajanje djece', 'Utakmice', 'Utapanja', 'Utrka u naoružanju', 'Uvjeti rada', 'Uvjetne kazne', 'Uzimanje nedopuštenih sredstava', 'Učenici / studenti', 'Učenički domovi', 'VATERPOLO', 'VESLANJE', 'Veleprodaja', 'Veterinarska medicina', 'Video', 'Vinarstvo', 'Vinogradarstvo', 'Visoka učilišta', 'Vjenčanja', 'Vjeronauk', 'Vjerska prava', 'Vjerski sukobi', 'Vjerski vođe', 'Vlada', 'Vlasnička struktura  medija', 'Voda', 'Vodoprivreda', 'Vojna industrija', 'Vojna oprema', 'Vojna suradnja', 'Vojne operacije', 'Voćarstvo', 'Vremenska nepogoda', 'Vremenske promjene', 'Vrhovni sud', 'Vrste studija', 'Vrtići', 'ZATOČENICI', 'Zabava', 'Zagađenja okoliša', 'Zahvale', 'Zakon o radu', 'Zakoni', 'Zakonodavna djelatnost', 'Zanimanja', 'Zaposlenici', 'Zarazne bolesti', 'Zasjedanja parlamenta', 'Zastupnici', 'Zatvori', 'Zatvorske kazne', 'Zaštita ljudskih prava', 'Zaštita na radu', 'Zaštitarske tvrtke', 'Zdravstvena skrb', 'Zdravstveno osiguranje', 'Zemlja', 'Zloćudne (maligne) bolesti', 'Zločinačke organizacije', 'Znanstvena otkrića', 'Znanstveni instituti', 'Znanstveni novaci', 'Zrak', 'Zrakoplovna industrija', 'Zrakoplovne nesreće', 'Zračenje', 'Zračni promet', 'antikvarijati', 'arhitekti', 'arhivsko gradivo', 'atlasi', 'bibliografije', 'digitalne knjižnice', 'dizajneri', 'dramaturgija', 'encikolopedije', 'industrijski dizajn', 'izložbe', 'kazališna sezona', 'kazališne kuće', 'kazališni umjetnici', 'književna društva', 'književni skupovi / susreti', 'kostimografija', 'kulturna politika', 'kulturna zbivanja', 'leksikoni', 'modni dizajneri', 'naivni umjetnici', 'narodna glazba', 'natječaji', 'nematerijalna kulturna baština', 'ozbiljna glazba', 'očuvanje narodnih običaja', 'praizvedba', 'premijera', 'prevođenje književnosti', 'projekti', 'prostorno planiranje', 'repriza', 'rječnici', 'scenografija', 'strani jezici', 'vodiči', 'zabavna glazba', 'zaštita kulturne baštine', 'Čestitke', 'Škole stranih jezika', 'Štednja', 'Štednja energije', 'Štrajkovi', 'Šumarstvo', 'Žalbe', 'Željezničke nesreće', 'Željeznički promet', 'Žene', 'Ženske bolesti i stanja', 'Žrtve rata']\n",
      "hierarchy lvl 4, size:319\n",
      "==================================================\n",
      "[\"Americas' Cup\", 'Anglikanizam', 'Autonomija', 'BDP', 'Baletni plesači', 'Biatlon', 'Bilateralni odnosi država', 'Biološko oružje', 'Biseksualnost', 'Bludne radnje', 'Bombaši samoubojice', 'Braniteljski fond', 'Brokeri i brokerske kuće', 'Burza', 'Carina', 'Daljinsko plivanje', 'Davanje lažnog iskaza', 'Davanje mita', 'Dekolonizacija', 'Dirigenti', 'Diskriminacija', 'Diverzije', 'Dječja pornografija', 'Dovođenje u opasnosti života i imovine općeopasnom radnjom ili sredstvom', 'Drugi svjetski rat', 'Državljanstvo', 'Državna neovisnost', 'Državni blagdani', 'Državni proračun', 'Državni simboli', 'Državni službenici', 'Državni suverenitet', 'Državni teritorij', 'Duge pruge', 'Ekshumacija', 'Energetska politika', 'Etnički sukobi', 'Europsko prvenstvo', 'F1 (formula 1)', 'Farmaceutska industrija', 'Fiksna telefonija', 'Financijske usluge', 'Genocid', 'Glavni urednik', 'Glazbenici', 'Glumci', 'Građevinsko zemljište', 'Heteroseksualnost', 'Homoseksualnost', 'Honorari', 'Ilegalno posjedovanje oružja', 'Imenovani državni dužnosnici', 'Imenovanje sudaca', 'Industrija alkoholnih pića', 'Industrija mlijeka', 'Industrija piva i kvasca', 'Industrija plastike', 'Industrija ulja', 'Industrija vode i bezalkoholnih pića', 'Industrija šećera', 'Inflacija', 'Infrastruktura', 'Invalidnine', 'Investicijski fondovi', 'Istraživanje energenata', 'Istraživanje trržišta', 'Izazivanje prometne nesreće', 'Izbjeglice / prognanici', 'Izborne prijevare', 'Iznude', 'Iznuđivanje iskaza', 'Izvanredna stanja', 'Izvori energije', 'Izvoz', 'Karting', 'Katolicizam', 'Kemijsko oružje', 'Kipari', 'Kladivo', 'Klevete', 'Klizišta', 'Koalicije', 'Konditorska industrija', 'Konkurentnost', 'Konvencije', 'Koreografi', 'Korupcija', 'Kostimografi', 'Kozmetička industrija', 'Krađe', 'Krivotvorenje isprava', 'Krivotvorenje novca', 'Kršenje obiteljskih obveza', 'Kvaliteta proizvoda', 'Lavine', 'Lažno prijavljivanje kaznenog djela', 'Leasing', 'Lihvarski ugovori', 'Ljetne OI', 'Ljudski resursi/Kadrovska politika', 'Mafijaški obračun', 'Mandati', 'Manjine', 'Mesna industrija', 'Međunarodna konferencija', 'Međunarodna prostitucija', 'Međunarodni ugovori', 'Ministarstva', 'Ministri', 'Mirovine', 'Mirovne misije', 'Mirovne snage', 'Mlinarska i pekarska industrija', 'Mobilna telefonija', 'Monopoli', 'Motokros', 'Multilateralni odnosi država', 'Multinacionalne kompanije', 'Mučenje životinja', 'Nacionalni sukobi', 'Nadareni učenici /  studenti', 'Nadzorni odbor', 'Napadi na službenu osobu', 'Nedozvoljena proizvodnja', 'Nedozvoljena trgovina', 'Nekretnine', 'Neovlašteno snimanje i prisluškivanje', 'Nepravomoćne presude', 'Nepružanje liječničke pomoći', 'Nesavjesno liječenje', 'Nesavjestan rad', 'Nesreće na radu', 'Nestali u ratu', 'Niskogradnja', 'Nuklearna zagađenja', 'Nuklearno oružje', 'Obiteljsko nasilje', 'Obrazovni standardi / HNOS', 'Obustava sudskoga procesa', 'Odavanje državne tajne', 'Odavanje službene tajne', 'Odavanje vojne tajne', 'Odroni', 'Odvjetničke tarife', 'Oglašavanje', 'Oluje', 'Optužni prijedlozi', 'Općinska državna odvjetništva', 'Općinski / lokalni sudovi', 'Oslobađajuće presude', 'Osobni dokumenti', 'Otmice', 'Otpremnine', 'PDV', 'POLITIKA vlade', 'Paraolimpijske igre', 'Patenti', 'Pedofilija', 'Pelud', 'Pijavice', 'Plaće', 'Plemenski sukobi', 'Podvođenje', 'Političari', 'Politička povijest', 'Političko-gospodarske', 'Ponovljeni sudski proces', 'Porezna politika', 'Poslovanje', 'Povlačenje proizvoda', 'Povreda tajnosti postupka', 'Pranje novca', 'Pravobranitelj za djecu', 'Pravobranitelj za ravnopravnost spolova', 'Pravomoćne presude', 'Pravoslavlje', 'Predpristupni fondovi', 'Predsjednici sudova', 'Pregovarački timovi', 'Prekršajni sudovi', 'Premijeri / predsjednici vlade', 'Prerada energenata', 'Preuzimanje tvrtki', 'Prijetnje', 'Prijevare', 'Prijevremena mirovina', 'Prikrivanja', 'Primanje mita', 'Prirez', 'Prisile', 'Pristupni fondovi', 'Privatne vojne organizacije', 'Produktivnost', 'Produljenje pritvora', 'Profesionalna vojska', 'Programi školovanja nacionalnih manjina', 'Programsko vijeće', 'Proračun jedinica lokalne samouprave', 'Protestantizam', 'Protupravna gradnja', 'Protupravne naplate', 'Protuzakoniti lov', 'Protuzakoniti ribolov', 'Pročišćavanje otpadnih voda', 'Prvi svjetski rat', 'Pustošenje šuma', 'Pučki pravobranitelj', 'RELI', 'Raketni sustavi', 'Ratni zarobljenici', 'Ravnatelj / Direktor', 'Razbojništva', 'Računalne prijevare', 'Računalno krivotovrenje', 'Redatelji', 'Registar branitelja', 'Robne rezerve', 'Rodoskvrnuće', 'Ronjenje na dah', 'Ropstvo', 'Ročnici', 'Savezi', 'Scenografi', 'Separatizam', 'Sigurnosno\\xad-obrambene', 'Silovanja', 'Skijaški skokovi', 'Skijaško trčanje', 'Skladatelji', 'Skok u vis', 'Skrb o braniteljima', 'Slalom', 'Slikari', 'Slobodno penjanje', 'Socijalne naknade', 'Socijalni prosvjedi', 'Spajanje tvrtki', 'Spolni odnošaj s djetetom', 'Sportsko penjanje', 'Sprječavanje dokazivanja', 'Spust', 'Statistika', 'Strateško partnerstvo', 'Strukturni fondovi', 'Sudački imunitet', 'Sudski vještaci', 'Sukcesija', 'Superveleslalom', 'Suše', 'Svemirsko oružje', 'Svjedoci', 'Svjetsko prvenstvo', 'Tajne službe', 'Tečajna lista', 'Tornada', 'Trgovanje ljudskim organima', 'Trgovanje povlaštenim informacijama', 'Trgovački sudovi', 'Tržište kapitala', 'Tuča', 'Tučnjave', 'Tvrtke kćeri/spin off tvrtke', 'Ubojstva', 'Ucjene', 'Udari groma', 'Ugnjetavanje na poslu / mobbing', 'Ukidanje pritvora', 'Umirovljenici', 'Umirovljenje', 'Umjetna gnojiva', 'Upravljanje tvrtkom', 'Upravni sudovi', 'Upravno vijeće', 'Ustroj oružanih snaga', 'Utaje', 'Uvoz', 'Uvrede', 'Učenici s posebnim potrebama', 'Vatrogastvo', 'Visoki prekršajni sudovi', 'Visoki trgovački sudovi', 'Visokogradnja', 'Vjerski sukobi', 'Vladini uredi i agencije', 'Vojna imovina / objekti', 'Vojna nabava', 'Vojna zapovjedništva', 'Vojne akcije', 'Vojne baze', 'Vojne doktrine / strategija', 'Vojne vježbe', 'Vojni mimohodi', 'Vojni proračuni', 'Vrijednosni papiri', 'Zagađenje tla', 'Zagađenje vode', 'Zagađenje zraka', 'Zatočeni u ratu', 'Zatvorenici', 'Zatvorski uvjeti', 'Zaštita autorskih prava', 'Zaštita potrošača', 'Zaštitari', 'Zimske OI', 'Zlostavljanje djece', 'Zlouporaba opojnih droga', 'Zlouporaba položaja i ovlasti', 'elektroničke knjige', 'gramatika', 'hrvatski jezik', 'jezični standard', 'kulturna suradnja', 'kulturni razvoj', 'pravopis', 'prevoditeljstvo', 'tiskane knjige', 'Špijunaža', 'Županijska / regionalna državna odvjetništva', 'Županijski / regionalni sudovi']\n",
      "hierarchy lvl 5, size:10\n",
      "==================================================\n",
      "['Alternativni izvori', 'Dionice', 'Električna energija', 'Maraton', 'Nafta', 'Nuklearna energija', 'Obveznice', 'Plin', 'Trgovina oružjem i opremom', 'Ugljen']\n"
     ]
    }
   ],
   "source": [
    "print(f\"hierarchy size, depth:{len(split_subtopics_per_depth)}\")\n",
    "print(f\"hierarchy lvl 1, size:{len(split_subtopics_per_depth[0])}\")\n",
    "print(\"=\"*50)\n",
    "print(sorted(split_subtopics_per_depth[0]))\n",
    "print(f\"hierarchy lvl 2, size:{len(split_subtopics_per_depth[1])}\")\n",
    "print(\"=\"*50)\n",
    "print(sorted(split_subtopics_per_depth[1]))\n",
    "print(f\"hierarchy lvl 3, size:{len(split_subtopics_per_depth[2])}\")\n",
    "print(\"=\"*50)\n",
    "print(sorted(split_subtopics_per_depth[2]))\n",
    "print(f\"hierarchy lvl 4, size:{len(split_subtopics_per_depth[3])}\")\n",
    "print(\"=\"*50)\n",
    "print(sorted(split_subtopics_per_depth[3]))\n",
    "print(f\"hierarchy lvl 5, size:{len(split_subtopics_per_depth[4])}\")\n",
    "print(\"=\"*50)\n",
    "print(sorted(split_subtopics_per_depth[4]))"
   ]
  },
  {
   "cell_type": "markdown",
   "metadata": {},
   "source": [
    "## Let's take a glance at some brief high-level stats"
   ]
  },
  {
   "cell_type": "code",
   "execution_count": 12,
   "metadata": {
    "ExecuteTime": {
     "end_time": "2020-09-27T15:20:45.778227Z",
     "start_time": "2020-09-27T15:20:45.745362Z"
    }
   },
   "outputs": [
    {
     "name": "stdout",
     "output_type": "stream",
     "text": [
      "average depth:\n",
      "3.1065907241659887\n",
      "average num of topics:\n",
      "3.5048836614676553\n",
      "average num of topics-flat: lvl 2\n",
      "2.623906929174124\n"
     ]
    }
   ],
   "source": [
    "print(\"average depth:\")\n",
    "print(sum(map(len, topics_hierch))/float(len(topics_hierch)))\n",
    "\n",
    "total = 0\n",
    "for d in dataset:\n",
    "    total += len(d.topics)\n",
    "\n",
    "print(\"average num of topics:\")\n",
    "print(total/len(dataset))\n",
    "\n",
    "total = 0\n",
    "for d in dataset_flat_2:\n",
    "    total += len(d.topics)\n",
    "print(\"average num of topics-flat: lvl 2\")\n",
    "print(total/len(dataset_flat_2))"
   ]
  },
  {
   "cell_type": "markdown",
   "metadata": {},
   "source": [
    "## Topic counts per article"
   ]
  },
  {
   "cell_type": "code",
   "execution_count": 13,
   "metadata": {
    "ExecuteTime": {
     "end_time": "2020-09-27T15:20:48.311433Z",
     "start_time": "2020-09-27T15:20:48.307205Z"
    }
   },
   "outputs": [],
   "source": [
    "def get_topics_len(df, length):\n",
    "    return df[(df['topics'].str.len() == length)].shape[0]"
   ]
  },
  {
   "cell_type": "code",
   "execution_count": 14,
   "metadata": {
    "ExecuteTime": {
     "end_time": "2020-09-27T15:20:49.990348Z",
     "start_time": "2020-09-27T15:20:49.527184Z"
    }
   },
   "outputs": [
    {
     "data": {
      "text/plain": [
       "[<matplotlib.lines.Line2D at 0x7fc345cec650>]"
      ]
     },
     "execution_count": 14,
     "metadata": {},
     "output_type": "execute_result"
    },
    {
     "data": {
      "image/png": "[encoded data removed]",
      "text/plain": [
       "<Figure size 460.8x403.2 with 1 Axes>"
      ]
     },
     "metadata": {},
     "output_type": "display_data"
    }
   ],
   "source": [
    "x = np.linspace(1, 10, 10).astype(int).tolist()\n",
    "y = [get_topics_len(df, z) for z in x]\n",
    "\n",
    "plt.xlabel('Number of topics')\n",
    "plt.ylabel('Number of articles')\n",
    "plt.plot(x, y)"
   ]
  },
  {
   "cell_type": "markdown",
   "metadata": {},
   "source": [
    "## Topic counts per hierarchy level"
   ]
  },
  {
   "cell_type": "code",
   "execution_count": 15,
   "metadata": {
    "ExecuteTime": {
     "end_time": "2020-09-27T15:20:51.872635Z",
     "start_time": "2020-09-27T15:20:51.639559Z"
    }
   },
   "outputs": [],
   "source": [
    "# get counts for dataset_flat_1\n",
    "topics_flat_1 = {}\n",
    "\n",
    "for child in dataset_flat_1:\n",
    "    for topic in child.topics:\n",
    "        if (topic not in topics_flat_1):\n",
    "            topics_flat_1[topic] = 1\n",
    "        else:\n",
    "            topics_flat_1[topic] += 1\n",
    "\n",
    "# get counts for dataset_flat_1\n",
    "topics_flat_2 = {}\n",
    "\n",
    "for child in dataset_flat_2:\n",
    "    for topic in child.topics:\n",
    "        if (topic not in topics_flat_2):\n",
    "            topics_flat_2[topic] = 1\n",
    "        else:\n",
    "            topics_flat_2[topic] += 1\n",
    "\n",
    "# get counts for dataset_flat_2\n",
    "topics_flat_3 = {}\n",
    "\n",
    "for child in dataset_flat_3:\n",
    "    for topic in child.topics:\n",
    "        if (topic not in topics_flat_3):\n",
    "            topics_flat_3[topic] = 1\n",
    "        else:\n",
    "            topics_flat_3[topic] += 1\n",
    "\n",
    "# get counts for dataset_flat_3\n",
    "topics_flat_4 = {}\n",
    "\n",
    "for child in dataset_flat_4:\n",
    "    for topic in child.topics:\n",
    "        if (topic not in topics_flat_4):\n",
    "            topics_flat_4[topic] = 1\n",
    "        else:\n",
    "            topics_flat_4[topic] += 1"
   ]
  },
  {
   "cell_type": "code",
   "execution_count": 16,
   "metadata": {
    "ExecuteTime": {
     "end_time": "2020-09-27T15:20:52.591420Z",
     "start_time": "2020-09-27T15:20:52.587047Z"
    }
   },
   "outputs": [],
   "source": [
    "topic_cnts_lvl_1 = list(topics_flat_1.values())\n",
    "topic_cnts_lvl_2 = list(topics_flat_2.values())\n",
    "topic_cnts_lvl_3 = list(topics_flat_3.values())\n",
    "topic_cnts_lvl_4 = list(topics_flat_4.values())\n",
    "topic_cnts_lvl_5 = list(topics.values())"
   ]
  },
  {
   "cell_type": "code",
   "execution_count": 17,
   "metadata": {
    "ExecuteTime": {
     "end_time": "2020-09-27T15:20:54.040914Z",
     "start_time": "2020-09-27T15:20:53.764252Z"
    }
   },
   "outputs": [
    {
     "name": "stderr",
     "output_type": "stream",
     "text": [
      "/home/ianic/.conda/envs/dipl/lib/python3.7/site-packages/numpy/core/_asarray.py:83: VisibleDeprecationWarning: Creating an ndarray from ragged nested sequences (which is a list-or-tuple of lists-or-tuples-or ndarrays with different lengths or shapes) is deprecated. If you meant to do this, you must specify 'dtype=object' when creating the ndarray\n",
      "  return array(a, dtype, copy=False, order=order)\n"
     ]
    },
    {
     "data": {
      "text/plain": [
       "Text(0, 0.5, 'Topic counts')"
      ]
     },
     "execution_count": 17,
     "metadata": {},
     "output_type": "execute_result"
    },
    {
     "data": {
      "image/png": "[encoded data removed]",
      "text/plain": [
       "<Figure size 460.8x403.2 with 1 Axes>"
      ]
     },
     "metadata": {},
     "output_type": "display_data"
    }
   ],
   "source": [
    "df5 = pd.DataFrame(topic_cnts_lvl_5, columns=[\"Depth 5\"])\n",
    "df1 = pd.DataFrame(topic_cnts_lvl_1, columns=[\"Depth 1\"])\n",
    "df2 = pd.DataFrame(topic_cnts_lvl_2, columns=[\"Depth 2\"])\n",
    "df3 = pd.DataFrame(topic_cnts_lvl_3, columns=[\"Depth 3\"])\n",
    "df4 = pd.DataFrame(topic_cnts_lvl_4, columns=[\"Depth 4\"])\n",
    "\n",
    "cdf = pd.concat([df1, df2, df3, df4, df5])\n",
    "\n",
    "bplot = cdf.boxplot(showfliers=True)\n",
    "bplot.set_ylabel('Topic counts')"
   ]
  },
  {
   "cell_type": "code",
   "execution_count": 18,
   "metadata": {
    "ExecuteTime": {
     "end_time": "2020-09-27T15:20:54.848286Z",
     "start_time": "2020-09-27T15:20:54.681667Z"
    },
    "hide_input": false
   },
   "outputs": [
    {
     "name": "stderr",
     "output_type": "stream",
     "text": [
      "/home/ianic/.conda/envs/dipl/lib/python3.7/site-packages/numpy/core/_asarray.py:83: VisibleDeprecationWarning: Creating an ndarray from ragged nested sequences (which is a list-or-tuple of lists-or-tuples-or ndarrays with different lengths or shapes) is deprecated. If you meant to do this, you must specify 'dtype=object' when creating the ndarray\n",
      "  return array(a, dtype, copy=False, order=order)\n"
     ]
    },
    {
     "data": {
      "text/plain": [
       "Text(0, 0.5, 'Topic counts')"
      ]
     },
     "execution_count": 18,
     "metadata": {},
     "output_type": "execute_result"
    },
    {
     "data": {
      "image/png": "[encoded data removed]",
      "text/plain": [
       "<Figure size 460.8x403.2 with 1 Axes>"
      ]
     },
     "metadata": {},
     "output_type": "display_data"
    }
   ],
   "source": [
    "cdf = pd.concat([df2, df3, df4, df5])\n",
    "\n",
    "bplot = cdf.boxplot(showfliers=False)\n",
    "bplot.set_ylabel('Topic counts')"
   ]
  },
  {
   "cell_type": "code",
   "execution_count": 19,
   "metadata": {
    "ExecuteTime": {
     "end_time": "2020-09-27T15:20:55.652687Z",
     "start_time": "2020-09-27T15:20:55.527392Z"
    }
   },
   "outputs": [
    {
     "data": {
      "text/plain": [
       "<matplotlib.axes._subplots.AxesSubplot at 0x7fc346240790>"
      ]
     },
     "execution_count": 19,
     "metadata": {},
     "output_type": "execute_result"
    },
    {
     "data": {
      "image/png": "[encoded data removed]",
      "text/plain": [
       "<Figure size 460.8x403.2 with 1 Axes>"
      ]
     },
     "metadata": {},
     "output_type": "display_data"
    }
   ],
   "source": [
    "df5.boxplot(showfliers=False)"
   ]
  },
  {
   "cell_type": "markdown",
   "metadata": {},
   "source": [
    "## Let's strip off topics with low number of occurrencies and see the distributions again"
   ]
  },
  {
   "cell_type": "code",
   "execution_count": 20,
   "metadata": {
    "ExecuteTime": {
     "end_time": "2020-09-27T15:20:57.279133Z",
     "start_time": "2020-09-27T15:20:57.092298Z"
    }
   },
   "outputs": [
    {
     "name": "stderr",
     "output_type": "stream",
     "text": [
      "/home/ianic/.conda/envs/dipl/lib/python3.7/site-packages/numpy/core/_asarray.py:83: VisibleDeprecationWarning: Creating an ndarray from ragged nested sequences (which is a list-or-tuple of lists-or-tuples-or ndarrays with different lengths or shapes) is deprecated. If you meant to do this, you must specify 'dtype=object' when creating the ndarray\n",
      "  return array(a, dtype, copy=False, order=order)\n"
     ]
    },
    {
     "data": {
      "text/plain": [
       "Text(0, 0.5, 'Articles')"
      ]
     },
     "execution_count": 20,
     "metadata": {},
     "output_type": "execute_result"
    },
    {
     "data": {
      "image/png": "[encoded data removed]",
      "text/plain": [
       "<Figure size 460.8x403.2 with 1 Axes>"
      ]
     },
     "metadata": {},
     "output_type": "display_data"
    }
   ],
   "source": [
    "topic_cnts_lvl_1_strip = list(filter(lambda x: x > 20, topic_cnts_lvl_1))\n",
    "topic_cnts_lvl_2_strip = list(filter(lambda x: x > 20, topic_cnts_lvl_2))\n",
    "topic_cnts_lvl_3_strip = list(filter(lambda x: x > 20, topic_cnts_lvl_3))\n",
    "topic_cnts_lvl_4_strip = list(filter(lambda x: x > 20, topic_cnts_lvl_4))\n",
    "topic_cnts_lvl_5_strip = list(filter(lambda x: x > 20, topic_cnts_lvl_5))\n",
    "\n",
    "df1_strip = pd.DataFrame(topic_cnts_lvl_1_strip, columns=[\"Depth 1\"])\n",
    "df2_strip = pd.DataFrame(topic_cnts_lvl_2_strip, columns=[\"Depth 2\"])\n",
    "df3_strip = pd.DataFrame(topic_cnts_lvl_3_strip, columns=[\"Depth 3\"])\n",
    "df4_strip = pd.DataFrame(topic_cnts_lvl_4_strip, columns=[\"Depth 4\"])\n",
    "df5_strip = pd.DataFrame(topic_cnts_lvl_5_strip, columns=[\"Depth 5\"])\n",
    "\n",
    "cdf_strip = pd.concat([df2_strip, df3_strip, df4_strip, df5_strip])\n",
    "\n",
    "bplot_strip = cdf_strip.boxplot(showfliers=False)\n",
    "bplot_strip.set_ylabel('Articles')"
   ]
  },
  {
   "cell_type": "markdown",
   "metadata": {},
   "source": [
    "## Word frequencies"
   ]
  },
  {
   "cell_type": "code",
   "execution_count": 21,
   "metadata": {
    "ExecuteTime": {
     "end_time": "2020-09-27T15:20:58.612696Z",
     "start_time": "2020-09-27T15:20:58.601954Z"
    }
   },
   "outputs": [],
   "source": [
    "def freq_words(x, terms=30):\n",
    "    all_words = ' '.join([text for text in x])\n",
    "    all_words = all_words.split()\n",
    "\n",
    "    fdist = nltk.FreqDist(all_words)\n",
    "    words_df = pd.DataFrame(\n",
    "        {'word': list(fdist.keys()), 'count': list(fdist.values())})\n",
    "\n",
    "    if (terms < 0):\n",
    "        # selecting 20 least frequent words\n",
    "        d = words_df.nsmallest(columns=\"count\", n=-terms)\n",
    "        plt.figure(figsize=(15, -terms / 5))\n",
    "    else:\n",
    "        # selecting 20 most frequent words\n",
    "        d = words_df.nlargest(columns=\"count\", n=terms)\n",
    "        plt.figure(figsize=(15, terms / 5))\n",
    "    ax = sns.barplot(data=d, x=\"count\", y=\"word\", color='lightseagreen')\n",
    "    ax.set(ylabel='Word')\n",
    "\n",
    "    plt.show()\n",
    "    return words_df.shape[0]\n",
    "\n",
    "\n",
    "def all_words(x):\n",
    "    words = ' '.join([text for text in x])\n",
    "    words = words.split()\n",
    "    return list(set(words))"
   ]
  },
  {
   "cell_type": "markdown",
   "metadata": {},
   "source": [
    "#### preprocessed text"
   ]
  },
  {
   "cell_type": "code",
   "execution_count": 22,
   "metadata": {
    "ExecuteTime": {
     "end_time": "2020-09-27T15:21:12.592414Z",
     "start_time": "2020-09-27T15:20:59.421879Z"
    }
   },
   "outputs": [
    {
     "data": {
      "image/png": "[encoded data removed]",
      "text/plain": [
       "<Figure size 1080x432 with 1 Axes>"
      ]
     },
     "metadata": {},
     "output_type": "display_data"
    },
    {
     "name": "stdout",
     "output_type": "stream",
     "text": [
      "361363\n"
     ]
    }
   ],
   "source": [
    "size = freq_words(df['clean_text'], 30)\n",
    "print(size)"
   ]
  },
  {
   "cell_type": "markdown",
   "metadata": {},
   "source": [
    "#### unprocessed text"
   ]
  },
  {
   "cell_type": "code",
   "execution_count": 23,
   "metadata": {
    "ExecuteTime": {
     "end_time": "2020-09-27T15:21:35.172974Z",
     "start_time": "2020-09-27T15:21:12.594071Z"
    }
   },
   "outputs": [
    {
     "data": {
      "image/png": "[encoded data removed]",
      "text/plain": [
       "<Figure size 1080x288 with 1 Axes>"
      ]
     },
     "metadata": {},
     "output_type": "display_data"
    },
    {
     "name": "stdout",
     "output_type": "stream",
     "text": [
      "1378059\n"
     ]
    }
   ],
   "source": [
    "size = freq_words(df['text'], 20)\n",
    "print(size)"
   ]
  },
  {
   "cell_type": "markdown",
   "metadata": {},
   "source": [
    "## Document lengths\n",
    "For different approaches (NLTK tokenizer, BERT tokenizer)"
   ]
  },
  {
   "cell_type": "code",
   "execution_count": null,
   "metadata": {
    "ExecuteTime": {
     "end_time": "2020-09-27T15:26:54.375623Z",
     "start_time": "2020-09-27T15:21:35.174874Z"
    }
   },
   "outputs": [],
   "source": [
    "from bert import modeling, optimization, run_classifier, tokenization\n",
    "\n",
    "# use downloaded model, change path accordingly\n",
    "base_path = (\"/home/ianic/pretrain/multilingual_L-12_H-768_A-12\")\n",
    "\n",
    "BERT_VOCAB = base_path + '/bert_vocab.txt'\n",
    "BERT_INIT_CHKPNT = base_path + '/bert_model.ckpt'\n",
    "BERT_CONFIG = base_path + '/config.json'\n",
    "\n",
    "tokenization.validate_case_matches_checkpoint(True, BERT_INIT_CHKPNT)\n",
    "tokenizer = tokenization.FullTokenizer(\n",
    "    vocab_file=BERT_VOCAB, do_lower_case=True)\n",
    "\n",
    "lens = df.iloc[:, 0].map(tokenizer.tokenize)"
   ]
  },
  {
   "cell_type": "code",
   "execution_count": 25,
   "metadata": {
    "ExecuteTime": {
     "end_time": "2020-09-27T15:26:55.799369Z",
     "start_time": "2020-09-27T15:26:54.377576Z"
    }
   },
   "outputs": [
    {
     "data": {
      "text/plain": [
       "Text(0, 0.5, 'Document lenghts')"
      ]
     },
     "execution_count": 25,
     "metadata": {},
     "output_type": "execute_result"
    },
    {
     "data": {
      "image/png": "[encoded data removed]",
      "text/plain": [
       "<Figure size 460.8x403.2 with 1 Axes>"
      ]
     },
     "metadata": {},
     "output_type": "display_data"
    }
   ],
   "source": [
    "def_tkn_lens_df = pd.DataFrame(df[\"clean_text_tokenized\"].map(len))\n",
    "def_tkn_lens_df.columns = [\"NLTK tokenizer\"]\n",
    "\n",
    "no_tkn_lens_df = pd.DataFrame(df[\"text\"].map(lambda x: len(x.split(\" \"))))\n",
    "no_tkn_lens_df.columns = [\"Raw documents\"]\n",
    "\n",
    "bert_lens_df = pd.DataFrame(lens.map(len))\n",
    "bert_lens_df.columns = [\"BERT tokenizer\"]\n",
    "\n",
    "cdf = pd.concat([no_tkn_lens_df, def_tkn_lens_df, bert_lens_df])\n",
    "plot = cdf.boxplot(showfliers=False)\n",
    "plot.set_ylabel('Document lenghts')"
   ]
  },
  {
   "cell_type": "code",
   "execution_count": null,
   "metadata": {},
   "outputs": [],
   "source": []
  }
 ],
 "metadata": {
  "kernelspec": {
   "display_name": "dipl",
   "language": "python",
   "name": "dipl"
  },
  "language_info": {
   "codemirror_mode": {
    "name": "ipython",
    "version": 3
   },
   "file_extension": ".py",
   "mimetype": "text/x-python",
   "name": "python",
   "nbconvert_exporter": "python",
   "pygments_lexer": "ipython3",
   "version": "3.7.7"
  },
  "varInspector": {
   "cols": {
    "lenName": 16,
    "lenType": 16,
    "lenVar": 40
   },
   "kernels_config": {
    "python": {
     "delete_cmd_postfix": "",
     "delete_cmd_prefix": "del ",
     "library": "var_list.py",
     "varRefreshCmd": "print(var_dic_list())"
    },
    "r": {
     "delete_cmd_postfix": ") ",
     "delete_cmd_prefix": "rm(",
     "library": "var_list.r",
     "varRefreshCmd": "cat(var_dic_list()) "
    }
   },
   "types_to_exclude": [
    "module",
    "function",
    "builtin_function_or_method",
    "instance",
    "_Feature"
   ],
   "window_display": false
  }
 },
 "nbformat": 4,
 "nbformat_minor": 2
}
