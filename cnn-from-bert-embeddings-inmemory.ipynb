{
 "cells": [
  {
   "cell_type": "markdown",
   "metadata": {},
   "source": [
    "# Training cnn with in-memory generated BERT representations\n",
    "Due to the extreme size of the token embeddings generated this way (512x768)"
   ]
  },
  {
   "cell_type": "code",
   "execution_count": 1,
   "metadata": {
    "ExecuteTime": {
     "end_time": "2020-09-27T15:46:42.122989Z",
     "start_time": "2020-09-27T15:46:40.736118Z"
    }
   },
   "outputs": [],
   "source": [
    "import tensorflow as tf"
   ]
  },
  {
   "cell_type": "code",
   "execution_count": 2,
   "metadata": {
    "ExecuteTime": {
     "end_time": "2020-09-27T15:46:47.345468Z",
     "start_time": "2020-09-27T15:46:47.342001Z"
    }
   },
   "outputs": [
    {
     "name": "stdout",
     "output_type": "stream",
     "text": [
      "1.14.0\n"
     ]
    }
   ],
   "source": [
    "print(tf.__version__)\n",
    "# for a gpu server\n",
    "# print(\"Num GPUs Available: \", len(\n",
    "#     tf.config.experimental.list_physical_devices('GPU')))"
   ]
  },
  {
   "cell_type": "code",
   "execution_count": 3,
   "metadata": {
    "ExecuteTime": {
     "end_time": "2020-09-27T15:47:08.692950Z",
     "start_time": "2020-09-27T15:47:08.100163Z"
    }
   },
   "outputs": [
    {
     "name": "stderr",
     "output_type": "stream",
     "text": [
      "Using TensorFlow backend.\n"
     ]
    },
    {
     "name": "stdout",
     "output_type": "stream",
     "text": [
      "WARNING:tensorflow:From /home/ianic/.conda/envs/dipl/lib/python3.7/site-packages/bert/optimization.py:87: The name tf.train.Optimizer is deprecated. Please use tf.compat.v1.train.Optimizer instead.\n",
      "\n"
     ]
    }
   ],
   "source": [
    "import os\n",
    "import pdb\n",
    "import pickle\n",
    "from time import time\n",
    "\n",
    "import bert\n",
    "import keras\n",
    "import matplotlib.pyplot as plt\n",
    "import numpy as np\n",
    "import pandas as pd\n",
    "import seaborn as sns\n",
    "import tensorflow as tf\n",
    "from bert import modeling, tokenization\n",
    "from keras import optimizers, regularizers\n",
    "from keras.layers import Conv2D, Dense, Dropout, Flatten, MaxPooling2D\n",
    "from keras.models import Sequential\n",
    "from sklearn.metrics import f1_score\n",
    "from sklearn.model_selection import train_test_split\n",
    "from tqdm import tqdm\n",
    "\n",
    "import metrics\n",
    "from average_precision import get_true_pred_topk\n",
    "from bert_multilingual.bert_features import create_examples\n",
    "from bert_multilingual.bert_model_utils import (\n",
    "    file_based_convert_examples_to_features, file_based_input_fn_builder,\n",
    "    model_fn_builder)\n",
    "from utils import get_true_pred"
   ]
  },
  {
   "cell_type": "code",
   "execution_count": 4,
   "metadata": {
    "ExecuteTime": {
     "end_time": "2020-09-27T15:47:17.481938Z",
     "start_time": "2020-09-27T15:47:17.474561Z"
    }
   },
   "outputs": [
    {
     "data": {
      "text/plain": [
       "<module 'metrics' from '/home/ianic/ma_thesis/hierarchical_multilabel_classifier/metrics.py'>"
      ]
     },
     "execution_count": 4,
     "metadata": {},
     "output_type": "execute_result"
    }
   ],
   "source": [
    "# to reload the module during notebook runtime\n",
    "import importlib\n",
    "import metrics\n",
    "importlib.reload(metrics)"
   ]
  },
  {
   "cell_type": "code",
   "execution_count": 5,
   "metadata": {
    "ExecuteTime": {
     "end_time": "2020-09-27T15:47:21.749250Z",
     "start_time": "2020-09-27T15:47:19.640517Z"
    }
   },
   "outputs": [],
   "source": [
    "# data\n",
    "df = pd.read_pickle(\"/home/ianic/ma_thesis/dataset_2_with_topics_prot_4.pkl\")\n",
    "\n",
    "LABEL_COLUMNS = list(df)[5:]\n",
    "num_classes = len(LABEL_COLUMNS)"
   ]
  },
  {
   "cell_type": "markdown",
   "metadata": {},
   "source": [
    "## BERT\n",
    "### Define the model config and location of the pretrained model"
   ]
  },
  {
   "cell_type": "code",
   "execution_count": 6,
   "metadata": {
    "ExecuteTime": {
     "end_time": "2020-09-27T15:47:27.727944Z",
     "start_time": "2020-09-27T15:47:27.409330Z"
    }
   },
   "outputs": [
    {
     "name": "stdout",
     "output_type": "stream",
     "text": [
      "WARNING:tensorflow:From /home/ianic/.conda/envs/dipl/lib/python3.7/site-packages/bert/tokenization.py:125: The name tf.gfile.GFile is deprecated. Please use tf.io.gfile.GFile instead.\n",
      "\n"
     ]
    }
   ],
   "source": [
    "base_path = (\"/home/ianic/pretrain/multilingual_L-12_H-768_A-12\")\n",
    "\n",
    "BERT_VOCAB = base_path + '/bert_vocab.txt'\n",
    "BERT_INIT_CHKPNT = base_path + '/bert_model.ckpt'\n",
    "BERT_CONFIG = base_path + '/config.json'\n",
    "\n",
    "MAX_SEQ_LENGTH = 512\n",
    "BATCH_SIZE = 32\n",
    "LEARNING_RATE = 2e-5\n",
    "NUM_TRAIN_EPOCHS = 12.0\n",
    "# Warmup is a period of time where hte learning rate\n",
    "# is small and gradually increases--usually helps training.\n",
    "WARMUP_PROPORTION = 0.1\n",
    "# Model configs\n",
    "SAVE_CHECKPOINTS_STEPS = 1000\n",
    "SAVE_SUMMARY_STEPS = 500\n",
    "\n",
    "tokenization.validate_case_matches_checkpoint(True, BERT_INIT_CHKPNT)\n",
    "tokenizer = tokenization.FullTokenizer(\n",
    "    vocab_file=BERT_VOCAB, do_lower_case=True)"
   ]
  },
  {
   "cell_type": "markdown",
   "metadata": {},
   "source": [
    "## Load data and prepare examples in the specified format"
   ]
  },
  {
   "cell_type": "code",
   "execution_count": 7,
   "metadata": {
    "ExecuteTime": {
     "end_time": "2020-09-27T15:47:30.414359Z",
     "start_time": "2020-09-27T15:47:30.095444Z"
    }
   },
   "outputs": [
    {
     "name": "stdout",
     "output_type": "stream",
     "text": [
      "(23445,) (7816,) (23445, 214) (7816, 214)\n",
      "(23445,) (7816,) (23445, 214) (7816, 214)\n",
      "train shape: (23445, 215)\n",
      "val shape: (7816, 215)\n",
      "test shape: (7816, 215)\n"
     ]
    }
   ],
   "source": [
    "xtrain, xtest, ytrain, ytest = train_test_split(\n",
    "    df['clean_text'], df.iloc[:, 5:], test_size=0.2, random_state=42)\n",
    "xtrain, xdev, ytrain, ydev = train_test_split(\n",
    "    xtrain, ytrain, test_size=0.25, random_state=42)\n",
    "print(xtrain.shape, xtest.shape, ytrain.shape, ytest.shape)\n",
    "print(xtrain.shape, xdev.shape, ytrain.shape, ydev.shape)\n",
    "\n",
    "df_train = pd.concat([xtrain, ytrain], axis=1, ignore_index=True)\n",
    "df_val = pd.concat([xdev, ydev], axis=1, ignore_index=True)\n",
    "df_test = pd.concat([xtest, ytest], axis=1, ignore_index=True)\n",
    "print(f\"train shape: {df_train.shape}\")\n",
    "print(f\"val shape: {df_val.shape}\")\n",
    "print(f\"test shape: {df_test.shape}\")"
   ]
  },
  {
   "cell_type": "code",
   "execution_count": 10,
   "metadata": {
    "ExecuteTime": {
     "end_time": "2020-09-27T15:48:20.007376Z",
     "start_time": "2020-09-27T15:48:20.000076Z"
    }
   },
   "outputs": [],
   "source": [
    "def create_input_fn_from_examples(examples, force_build_tfrecord=False, stage='train'):\n",
    "    input_file = os.path.join(\n",
    "        '/home/ianic/pretrain/working', f\"bert_{stage}.tf_record\")\n",
    "    if not os.path.exists(input_file) or force_build_tfrecord:\n",
    "        open(input_file, 'w').close()\n",
    "        # generate train tf.record data if needed\n",
    "        tfrecord_time_start = time()\n",
    "        file_based_convert_examples_to_features(\n",
    "            examples, MAX_SEQ_LENGTH, tokenizer, input_file)\n",
    "        print(f\"Finished generating {stage} set tf.record\",\n",
    "              f\"in {time()-tfrecord_time_start} seconds.\")\n",
    "\n",
    "    input_fn = file_based_input_fn_builder(\n",
    "        input_file=input_file,\n",
    "        seq_length=MAX_SEQ_LENGTH,\n",
    "        is_training=False,\n",
    "        drop_remainder=False,\n",
    "        len_labels=len(LABEL_COLUMNS))\n",
    "\n",
    "    return input_fn"
   ]
  },
  {
   "cell_type": "code",
   "execution_count": 11,
   "metadata": {
    "ExecuteTime": {
     "end_time": "2020-09-27T15:48:21.938257Z",
     "start_time": "2020-09-27T15:48:21.667646Z"
    }
   },
   "outputs": [
    {
     "name": "stdout",
     "output_type": "stream",
     "text": [
      "WARNING:tensorflow:From /home/ianic/ma_thesis/hierarchical_multilabel_classifier/bert_multilingual/bert_model_utils.py:281: The name tf.FixedLenFeature is deprecated. Please use tf.io.FixedLenFeature instead.\n",
      "\n"
     ]
    }
   ],
   "source": [
    "train_examples = create_examples(df_train)\n",
    "dev_examples = create_examples(df_val)\n",
    "test_examples = create_examples(df_test)\n",
    "\n",
    "train_input_fn = create_input_fn_from_examples(\n",
    "    train_examples, force_build_tfrecord=False, stage='train')\n",
    "dev_input_fn = create_input_fn_from_examples(\n",
    "    dev_examples, force_build_tfrecord=False, stage='dev')\n",
    "test_input_fn = create_input_fn_from_examples(\n",
    "    test_examples, force_build_tfrecord=False, stage='test')"
   ]
  },
  {
   "cell_type": "markdown",
   "metadata": {
    "ExecuteTime": {
     "end_time": "2020-09-15T20:22:26.215948Z",
     "start_time": "2020-09-15T20:22:26.213332Z"
    }
   },
   "source": [
    "## Initialize the model"
   ]
  },
  {
   "cell_type": "code",
   "execution_count": 12,
   "metadata": {
    "ExecuteTime": {
     "end_time": "2020-09-27T15:48:27.669876Z",
     "start_time": "2020-09-27T15:48:27.665334Z"
    }
   },
   "outputs": [],
   "source": [
    "OUTPUT_DIR = \"./working/output\"\n",
    "# Specify output directory and number of checkpoint steps to save\n",
    "run_config = tf.estimator.RunConfig(\n",
    "    model_dir=OUTPUT_DIR,\n",
    "    save_summary_steps=SAVE_SUMMARY_STEPS,\n",
    "    keep_checkpoint_max=1,\n",
    "    save_checkpoints_steps=SAVE_CHECKPOINTS_STEPS)\n",
    "\n",
    "# Define BERT layers which will be taken into account for\n",
    "# data representation\n",
    "layer_indexes = [-1, -2, -3, -4]\n",
    "\n",
    "# '512x768' - return the sum of the specified layers\n",
    "# '4x512x768' - return the layers as-is\n",
    "MODE = '512x768'"
   ]
  },
  {
   "cell_type": "code",
   "execution_count": 13,
   "metadata": {
    "ExecuteTime": {
     "end_time": "2020-09-27T15:48:29.142860Z",
     "start_time": "2020-09-27T15:48:29.135660Z"
    }
   },
   "outputs": [
    {
     "name": "stdout",
     "output_type": "stream",
     "text": [
      "INFO:tensorflow:Using config: {'_model_dir': './working/output', '_tf_random_seed': None, '_save_summary_steps': 500, '_save_checkpoints_steps': 1000, '_save_checkpoints_secs': None, '_session_config': allow_soft_placement: true\n",
      "graph_options {\n",
      "  rewrite_options {\n",
      "    meta_optimizer_iterations: ONE\n",
      "  }\n",
      "}\n",
      ", '_keep_checkpoint_max': 1, '_keep_checkpoint_every_n_hours': 10000, '_log_step_count_steps': 100, '_train_distribute': None, '_device_fn': None, '_protocol': None, '_eval_distribute': None, '_experimental_distribute': None, '_experimental_max_worker_delay_secs': None, '_service': None, '_cluster_spec': <tensorflow.python.training.server_lib.ClusterSpec object at 0x7f3380e30850>, '_task_type': 'worker', '_task_id': 0, '_global_id_in_cluster': 0, '_master': '', '_evaluation_master': '', '_is_chief': True, '_num_ps_replicas': 0, '_num_worker_replicas': 1}\n"
     ]
    }
   ],
   "source": [
    "bert_config = modeling.BertConfig.from_json_file(BERT_CONFIG)\n",
    "model_fn = model_fn_builder(\n",
    "    bert_config=bert_config,\n",
    "    num_labels=len(LABEL_COLUMNS),\n",
    "    init_checkpoint=BERT_INIT_CHKPNT,\n",
    "    learning_rate=LEARNING_RATE,\n",
    "    num_train_steps=-1,\n",
    "    num_warmup_steps=-1,\n",
    "    use_tpu=False,\n",
    "    use_one_hot_embeddings=False,\n",
    "    layer_indexes=layer_indexes\n",
    ")\n",
    "\n",
    "estimator = tf.estimator.Estimator(\n",
    "    model_fn=model_fn,\n",
    "    config=run_config,\n",
    "    params={\"batch_size\": BATCH_SIZE})"
   ]
  },
  {
   "cell_type": "code",
   "execution_count": 14,
   "metadata": {
    "ExecuteTime": {
     "end_time": "2020-09-27T15:48:34.172504Z",
     "start_time": "2020-09-27T15:48:34.162904Z"
    }
   },
   "outputs": [],
   "source": [
    "def generate_bert_embeddings(input_fn, embeddings_list, label_ids_list):\n",
    "    cnt = 0\n",
    "    for result in tqdm(estimator.predict(input_fn, yield_single_examples=True)):\n",
    "        out = {}\n",
    "        ids = result[\"input_ids\"]\n",
    "        label_ids = result[\"label_ids\"]\n",
    "        tokens = tokenizer.convert_ids_to_tokens(ids)\n",
    "\n",
    "        embeddings = []\n",
    "        for (i, token) in enumerate(tokens):\n",
    "            layers = []\n",
    "            for (j, layer_index) in enumerate(layer_indexes):\n",
    "                layer_output = result[\"layer_output_%d\" % j]\n",
    "                layer_output_flat = np.array(\n",
    "                    [x for x in layer_output[i:(i + 1)].flat])\n",
    "                layers.append(layer_output_flat)\n",
    "            if MODE == '512x768':\n",
    "                embeddings.append(sum(layers))  # 768 x 512\n",
    "            elif MODE == '4x512x768':\n",
    "                embeddings.append((token, layers))  # 4 x 768 x 512\n",
    "\n",
    "        embeddings_list[cnt] = embeddings\n",
    "        label_ids_list[cnt] = label_ids\n",
    "\n",
    "        if (cnt < 1):\n",
    "            if MODE == '512x768':\n",
    "                print(f\"token: {token}, shape[1]: \",  # 0,1 - first embed, 0 is token\n",
    "                      f\"{len(embeddings), len(embeddings[0])}, types: {type(layers[0][0])}\")\n",
    "            elif MODE == '4x512x768':\n",
    "                print(f\"token: {token}, shape[1]: \",  # 0,1 - first embed, 0 is token\n",
    "                      f\"{len(embeddings), len(embeddings[0][1])}, types: {type(layers[0][0])}\")\n",
    "            print(f\"label_ids: {len(label_ids)}\")\n",
    "        cnt += 1\n",
    "\n",
    "    return embeddings_list, label_ids_list"
   ]
  },
  {
   "cell_type": "code",
   "execution_count": 15,
   "metadata": {
    "ExecuteTime": {
     "end_time": "2020-09-27T15:49:31.360861Z",
     "start_time": "2020-09-27T15:48:35.361116Z"
    }
   },
   "outputs": [],
   "source": [
    "embeddings_list = np.empty([23445, 512, 768])\n",
    "# for two-file output\n",
    "label_ids_list = np.empty([23445, 214])\n",
    "\n",
    "embeddings_list, label_ids_list = generate_bert_embeddings(\n",
    "    train_input_fn, embeddings_list, label_ids_list)"
   ]
  },
  {
   "cell_type": "code",
   "execution_count": 16,
   "metadata": {
    "ExecuteTime": {
     "end_time": "2020-09-16T13:02:50.195510Z",
     "start_time": "2020-09-16T13:02:50.188266Z"
    }
   },
   "outputs": [
    {
     "name": "stdout",
     "output_type": "stream",
     "text": [
      "embeddings_list size: 23445\n",
      "label_ids_list size: 23445\n",
      "embedding size: 768, 512\n"
     ]
    }
   ],
   "source": [
    "print(f\"Embedding list size: {len(embeddings_list)}\")\n",
    "print(f\"Labels list size: {len(label_ids_list)}\")\n",
    "print(\n",
    "    f\"Embedding size: {len(embeddings_list[0][0])}, {len(embeddings_list[0])}\")"
   ]
  },
  {
   "cell_type": "code",
   "execution_count": 17,
   "metadata": {
    "ExecuteTime": {
     "end_time": "2020-09-16T13:40:26.394914Z",
     "start_time": "2020-09-16T13:02:53.088185Z"
    },
    "scrolled": true
   },
   "outputs": [],
   "source": [
    "dev_embeddings_list = np.empty([7816, 512, 768])\n",
    "# for two-file output\n",
    "dev_label_ids_list = np.empty([7816, 214])\n",
    "\n",
    "generate_bert_embeddings(dev_input_fn, dev_embeddings_list, dev_label_ids_list)"
   ]
  },
  {
   "cell_type": "code",
   "execution_count": 18,
   "metadata": {
    "ExecuteTime": {
     "end_time": "2020-09-16T14:00:37.704244Z",
     "start_time": "2020-09-16T14:00:37.699663Z"
    }
   },
   "outputs": [
    {
     "name": "stdout",
     "output_type": "stream",
     "text": [
      "dev_embeddings_list size: 7816\n",
      "dev_label_ids_list size: 7816\n",
      "embedding size: 768, 512\n"
     ]
    }
   ],
   "source": [
    "print(f\"dev_embeddings_list size: {len(dev_embeddings_list)}\")\n",
    "print(f\"dev_label_ids_list size: {len(dev_label_ids_list)}\")\n",
    "print(\n",
    "    f\"embedding size: {len(dev_embeddings_list[0][0])}, {len(dev_embeddings_list[0])}\")"
   ]
  },
  {
   "cell_type": "code",
   "execution_count": 19,
   "metadata": {},
   "outputs": [],
   "source": [
    "test_embeddings_list = np.empty([7816, 512, 768])\n",
    "# for two-file output\n",
    "test_label_ids_list = np.empty([7816, 214])\n",
    "\n",
    "generate_bert_embeddings(\n",
    "    test_input_fn, test_embeddings_list, test_label_ids_list)"
   ]
  },
  {
   "cell_type": "code",
   "execution_count": 20,
   "metadata": {
    "ExecuteTime": {
     "end_time": "2020-09-16T14:00:37.704244Z",
     "start_time": "2020-09-16T14:00:37.699663Z"
    }
   },
   "outputs": [
    {
     "name": "stdout",
     "output_type": "stream",
     "text": [
      "test_embeddings_list size: 7816\n",
      "test_label_ids_list size: 7816\n",
      "embedding size: 768, 512\n"
     ]
    }
   ],
   "source": [
    "print(f\"test_embeddings_list size: {len(test_embeddings_list)}\")\n",
    "print(f\"test_label_ids_list size: {len(test_label_ids_list)}\")\n",
    "print(\n",
    "    f\"embedding size: {len(test_embeddings_list[0][0])}, {len(test_embeddings_list[0])}\")"
   ]
  },
  {
   "cell_type": "code",
   "execution_count": 21,
   "metadata": {
    "ExecuteTime": {
     "end_time": "2020-09-16T14:01:45.562187Z",
     "start_time": "2020-09-16T14:01:45.556440Z"
    }
   },
   "outputs": [
    {
     "name": "stdout",
     "output_type": "stream",
     "text": [
      "(23445, 512, 768)\n",
      "(7816, 512, 768)\n",
      "(23445, 214)\n",
      "(7816, 214)\n"
     ]
    }
   ],
   "source": [
    "# embeddings\n",
    "print(np.asarray(embeddings_list).shape)\n",
    "print(np.asarray(dev_embeddings_list).shape)\n",
    "# labels\n",
    "print(np.asarray(label_ids_list).shape)\n",
    "print(np.asarray(dev_label_ids_list).shape)"
   ]
  },
  {
   "cell_type": "markdown",
   "metadata": {},
   "source": [
    "## CNN\n",
    "Model definition and training"
   ]
  },
  {
   "cell_type": "code",
   "execution_count": 22,
   "metadata": {
    "ExecuteTime": {
     "end_time": "2020-09-16T14:01:55.019104Z",
     "start_time": "2020-09-16T14:01:55.014956Z"
    }
   },
   "outputs": [],
   "source": [
    "# training params\n",
    "batch_size = 128\n",
    "num_epochs = 8\n",
    "\n",
    "# model parameters\n",
    "num_filters = 64\n",
    "input_len = 512\n",
    "embed_dim = 768\n",
    "weight_decay = 1e-4"
   ]
  },
  {
   "cell_type": "code",
   "execution_count": 23,
   "metadata": {
    "ExecuteTime": {
     "end_time": "2020-09-22T13:56:45.368493Z",
     "start_time": "2020-09-22T13:56:45.182121Z"
    }
   },
   "outputs": [],
   "source": [
    "# CNN architecture\n",
    "\n",
    "# The inputs are BERT token embeddings 512 tokens x 768 dimensions\n",
    "# and the batch size is 128\n",
    "input_shape = (batch_size, 512, 768, 1)\n",
    "\n",
    "model = Sequential()\n",
    "model.add(Conv2D(filters=num_filters, kernel_size=(5, 768),\n",
    "                 activation='relu', padding='valid',\n",
    "                 input_shape=input_shape[1:4]\n",
    "                 ))\n",
    "model.add(MaxPooling2D(pool_size=(508, 1)))\n",
    "model.add(Dropout(0.5))\n",
    "model.add(Dense(64, activation='relu',\n",
    "                kernel_regularizer=regularizers.l2(weight_decay)))\n",
    "# multi-label (k-hot encoding)\n",
    "model.add(Dense(num_classes, activation='sigmoid'))\n",
    "model.add(Flatten(input_shape=(1, 214)))\n",
    "\n",
    "adam = optimizers.Adam(lr=0.001, beta_1=0.9,\n",
    "                       beta_2=0.999, epsilon=1e-08, decay=0.0)\n",
    "model.compile(loss='binary_crossentropy', optimizer=adam, metrics=['accuracy'])"
   ]
  },
  {
   "cell_type": "code",
   "execution_count": 24,
   "metadata": {
    "ExecuteTime": {
     "end_time": "2020-09-16T14:02:17.030969Z",
     "start_time": "2020-09-16T14:02:17.024918Z"
    }
   },
   "outputs": [],
   "source": [
    "def batch_generator(x, y, batch_size, steps):\n",
    "    idx = 1\n",
    "    while True:\n",
    "        _x = np.expand_dims(x[(idx-1)*128: idx*128], axis=3)\n",
    "        _y = y[(idx-1)*128: idx*128]\n",
    "        yield (_x, _y)\n",
    "        if idx < steps:\n",
    "            idx += 1\n",
    "        else:\n",
    "            idx = 1"
   ]
  },
  {
   "cell_type": "code",
   "execution_count": 25,
   "metadata": {
    "ExecuteTime": {
     "end_time": "2020-09-22T12:05:06.201246Z",
     "start_time": "2020-09-22T12:05:06.196895Z"
    }
   },
   "outputs": [],
   "source": [
    "steps_per_epoch = np.ceil(23445/batch_size)\n",
    "validation_steps = np.ceil(7816/batch_size)\n",
    "test_steps = validation_steps\n",
    "\n",
    "# Generator objects for train and validation seta\n",
    "training_batch_generator = batch_generator(\n",
    "    embeddings_list, label_ids_list, batch_size, steps_per_epoch)\n",
    "validation_batch_generator = batch_generator(\n",
    "    dev_embeddings_list, dev_label_ids_list, batch_size, validation_steps)\n",
    "test_batch_generator = batch_generator(\n",
    "    test_embeddings_list, test_label_ids_list, batch_size, test_steps)"
   ]
  },
  {
   "cell_type": "code",
   "execution_count": 26,
   "metadata": {
    "ExecuteTime": {
     "end_time": "2020-07-19T14:05:37.377108Z",
     "start_time": "2020-07-19T13:49:42.195333Z"
    }
   },
   "outputs": [
    {
     "name": "stdout",
     "output_type": "stream",
     "text": [
      "Epoch 1/8\n",
      "184/184 [==============================] - 145s 789ms/step - loss: 0.1054 - acc: 0.9677 - val_loss: 0.0445 - val_acc: 0.9891\n",
      "Epoch 2/8\n",
      "184/184 [==============================] - 160s 871ms/step - loss: 0.0459 - acc: 0.9890 - val_loss: 0.0364 - val_acc: 0.9901\n",
      "Epoch 3/8\n",
      "184/184 [==============================] - 109s 592ms/step - loss: 0.0380 - acc: 0.9898 - val_loss: 0.0335 - val_acc: 0.9904\n",
      "Epoch 4/8\n",
      "184/184 [==============================] - 105s 570ms/step - loss: 0.0334 - acc: 0.9905 - val_loss: 0.0316 - val_acc: 0.9908\n",
      "Epoch 5/8\n",
      "184/184 [==============================] - 113s 613ms/step - loss: 0.0310 - acc: 0.9909 - val_loss: 0.0309 - val_acc: 0.9908\n",
      "Epoch 6/8\n",
      "184/184 [==============================] - 109s 595ms/step - loss: 0.0294 - acc: 0.9911 - val_loss: 0.0302 - val_acc: 0.9910\n",
      "Epoch 7/8\n",
      "184/184 [==============================] - 105s 568ms/step - loss: 0.0285 - acc: 0.9913 - val_loss: 0.0298 - val_acc: 0.9910\n",
      "Epoch 8/8\n",
      "184/184 [==============================] - 109s 593ms/step - loss: 0.0276 - acc: 0.9914 - val_loss: 0.0297 - val_acc: 0.9910\n"
     ]
    },
    {
     "data": {
      "text/plain": [
       "<keras.callbacks.History at 0x7ff3c406ba50>"
      ]
     },
     "execution_count": 27,
     "metadata": {},
     "output_type": "execute_result"
    }
   ],
   "source": [
    "model.fit_generator(training_batch_generator,\n",
    "                    epochs=num_epochs,\n",
    "                    steps_per_epoch=steps_per_epoch,\n",
    "                    verbose=1,\n",
    "                    validation_data=validation_batch_generator,\n",
    "                    validation_steps=validation_steps)"
   ]
  },
  {
   "cell_type": "code",
   "execution_count": 28,
   "metadata": {
    "ExecuteTime": {
     "end_time": "2020-09-16T14:51:12.294193Z",
     "start_time": "2020-09-16T14:48:22.175994Z"
    }
   },
   "outputs": [],
   "source": [
    "prediction = model.predict(np.expand_dims(dev_embeddings_list, axis=3))"
   ]
  },
  {
   "cell_type": "code",
   "execution_count": 29,
   "metadata": {
    "ExecuteTime": {
     "end_time": "2020-09-16T15:01:53.242169Z",
     "start_time": "2020-09-16T15:01:53.235396Z"
    }
   },
   "outputs": [],
   "source": [
    "# load the class hierarchy\n",
    "ch = None\n",
    "with open('../ch.pickle', 'rb') as f:\n",
    "    ch = pickle.load(f)"
   ]
  },
  {
   "cell_type": "code",
   "execution_count": 30,
   "metadata": {
    "ExecuteTime": {
     "end_time": "2020-09-17T04:26:41.783910Z",
     "start_time": "2020-09-17T04:26:40.470490Z"
    }
   },
   "outputs": [
    {
     "name": "stdout",
     "output_type": "stream",
     "text": [
      "true: ['MEDIJI|TELEVIZIJA', 'PRAVOSUĐE/SUDSTVO/KRIMINAL|KRIMINAL', 'ZDRAVLJE|MEDICINSKO OSOBLJE']\n",
      "pred: ['PRAVOSUĐE/SUDSTVO/KRIMINAL|KRIMINAL', 'ZDRAVLJE|BOLESTI', 'ZANIMLJIVOSTI|ŽIVOTINJE', 'ZDRAVLJE|MEDICINA', 'ZDRAVLJE|Veterina']\n"
     ]
    }
   ],
   "source": [
    "# generate label predictions for MAP@K\n",
    "labels_true_topk, labels_pred_topk = get_true_pred_topk(\n",
    "    LABEL_COLUMNS, prediction, dev_label_ids_list, 5)"
   ]
  },
  {
   "cell_type": "code",
   "execution_count": 31,
   "metadata": {},
   "outputs": [],
   "source": [
    "# generate label predictions for the given threshold\n",
    "labels_true, labels_pred = get_true_pred(\n",
    "    LABEL_COLUMNS, prediction, dev_label_ids_list, 0.5)"
   ]
  },
  {
   "cell_type": "code",
   "execution_count": 32,
   "metadata": {
    "ExecuteTime": {
     "end_time": "2020-07-19T21:47:05.497095Z",
     "start_time": "2020-07-19T21:47:02.881210Z"
    }
   },
   "outputs": [
    {
     "name": "stdout",
     "output_type": "stream",
     "text": [
      "=PRECISION==================================================\n",
      "precision_anc : 0.5781745935599545\n",
      "precision_desc: 0.4909302883791105\n",
      "precision_brnc: 0.5765549088460243\n",
      "=RECALL==================================================\n",
      "recall_anc : 0.7175331509155967\n",
      "recall_desc: 0.6640230044988636\n",
      "recall_brnc: 0.7022703969532738\n",
      "=F1==================================================\n",
      "f1_score_anc : 0.6403595867435932\n",
      "f1_score_desc: 0.5645059537891333\n",
      "f1_score_brnc: 0.633233394529341\n",
      "=EXACT MATCH==================================================\n",
      "exact match accuracy: 0.49232421942682886\n",
      "scikit exact match accuracy: 0.086489252814739\n"
     ]
    }
   ],
   "source": [
    "metrics.classification_report(ch, labels_true, labels_pred)"
   ]
  },
  {
   "cell_type": "code",
   "execution_count": 33,
   "metadata": {
    "ExecuteTime": {
     "end_time": "2020-09-17T04:27:37.679552Z",
     "start_time": "2020-09-17T04:27:37.050316Z"
    }
   },
   "outputs": [
    {
     "name": "stdout",
     "output_type": "stream",
     "text": [
      "K =: 1\n",
      "MAP anc + : 0.513689866939611\n",
      "MAP anc: 0.46430399181166837\n",
      "mapk : 0.7561412487205732\n",
      "K =: 3\n",
      "MAP anc + : 0.37329409757761856\n",
      "MAP anc: 0.3268828897987035\n",
      "mapk : 0.6352318605709087\n",
      "K =: 5\n",
      "MAP anc + : 0.40473213778005235\n",
      "MAP anc: 0.3328832949505288\n",
      "mapk : 0.6494650218924143\n"
     ]
    }
   ],
   "source": [
    "metrics.classification_report_topk(ch, labels_true_topk, labels_pred_topk, 1)\n",
    "metrics.classification_report_topk(ch, labels_true_topk, labels_pred_topk, 3)\n",
    "metrics.classification_report_topk(ch, labels_true_topk, labels_pred_topk, 5)"
   ]
  },
  {
   "cell_type": "markdown",
   "metadata": {},
   "source": [
    "## Threshold optimization\n",
    "I optimise the decision threshold with regard to the f1-score"
   ]
  },
  {
   "cell_type": "code",
   "execution_count": 34,
   "metadata": {
    "ExecuteTime": {
     "end_time": "2020-07-19T21:46:20.147966Z",
     "start_time": "2020-07-19T21:46:20.133928Z"
    }
   },
   "outputs": [],
   "source": [
    "def optimize_threshold_for_f1(yval, y_pred_prob, labels):\n",
    "    t_s = [0.01, 0.02, 0.03, 0.04, 0.05, 0.06, 0.07, 0.08,\n",
    "           0.09, 0.1, 0.2, 0.3, 0.4, 0.5, 0.6, 0.7, 0.8, 0.9, 1]\n",
    "    t_vals_micro = list(map(lambda x: f1_score(yval, (y_pred_prob >= x).astype(int),\n",
    "                                               average=\"micro\"), t_s))\n",
    "    t_vals_macro = list(map(lambda x: f1_score(yval, (y_pred_prob >= x).astype(int),\n",
    "                                               average=\"macro\"), t_s))\n",
    "\n",
    "    fig, ax = plt.subplots()\n",
    "    for Y in [t_vals_macro, t_vals_micro]:\n",
    "        ax.plot(t_s, Y)\n",
    "    plt.show()\n",
    "\n",
    "    opt_threshold = t_s[np.argmax(t_vals_macro)]\n",
    "    return opt_threshold, t_vals_macro, t_vals_micro"
   ]
  },
  {
   "cell_type": "code",
   "execution_count": 35,
   "metadata": {
    "ExecuteTime": {
     "end_time": "2020-07-19T21:46:26.449779Z",
     "start_time": "2020-07-19T21:46:21.287045Z"
    }
   },
   "outputs": [
    {
     "name": "stdout",
     "output_type": "stream",
     "text": [
      "==================================================\n"
     ]
    },
    {
     "name": "stderr",
     "output_type": "stream",
     "text": [
      "/home/ianic/.conda/envs/tf_old/lib/python3.7/site-packages/sklearn/metrics/_classification.py:1465: UndefinedMetricWarning: F-score is ill-defined and being set to 0.0 in labels with no true nor predicted samples. Use `zero_division` parameter to control this behavior.\n",
      "  average, \"true nor predicted\", 'F-score is', len(true_sum)\n"
     ]
    },
    {
     "data": {
      "image/png": "[encoded data removed]",
      "text/plain": [
       "<Figure size 432x288 with 1 Axes>"
      ]
     },
     "metadata": {
      "needs_background": "light"
     },
     "output_type": "display_data"
    },
    {
     "name": "stdout",
     "output_type": "stream",
     "text": [
      "t_s: [0.01, 0.02, 0.03, 0.04, 0.05, 0.06, 0.07, 0.08, 0.09, 0.1, 0.2, 0.3, 0.4, 0.5, 0.6, 0.7, 0.8, 0.9, 1]\n",
      "f1 macro: [0.17090494381338064, 0.21769378777100576, 0.24472228215630124, 0.2683342855129051, 0.2856112228779379, 0.3014109821492567, 0.31303805741619806, 0.32229162833137986, 0.33154246894455036, 0.3365692635426212, 0.3774010054899524, 0.3726507920173707, 0.3565624824753756, 0.32942997141495783, 0.29295513406610857, 0.2423932488336335, 0.1859803995067877, 0.1131569393583293, 0.0]\n",
      "(0.2, [0.17090494381338064, 0.21769378777100576, 0.24472228215630124, 0.2683342855129051, 0.2856112228779379, 0.3014109821492567, 0.31303805741619806, 0.32229162833137986, 0.33154246894455036, 0.3365692635426212, 0.3774010054899524, 0.3726507920173707, 0.3565624824753756, 0.32942997141495783, 0.29295513406610857, 0.2423932488336335, 0.1859803995067877, 0.1131569393583293, 0.0])\n"
     ]
    }
   ],
   "source": [
    "opt_threshold = optimize_threshold_for_f1(\n",
    "    dev_label_ids_list, prediction, LABEL_COLUMNS)\n",
    "print(opt_threshold)"
   ]
  },
  {
   "cell_type": "code",
   "execution_count": null,
   "metadata": {},
   "outputs": [],
   "source": []
  }
 ],
 "metadata": {
  "kernelspec": {
   "display_name": "dipl",
   "language": "python",
   "name": "dipl"
  },
  "language_info": {
   "codemirror_mode": {
    "name": "ipython",
    "version": 3
   },
   "file_extension": ".py",
   "mimetype": "text/x-python",
   "name": "python",
   "nbconvert_exporter": "python",
   "pygments_lexer": "ipython3",
   "version": "3.7.7"
  },
  "toc": {
   "base_numbering": 1,
   "nav_menu": {},
   "number_sections": true,
   "sideBar": true,
   "skip_h1_title": false,
   "title_cell": "Table of Contents",
   "title_sidebar": "Contents",
   "toc_cell": false,
   "toc_position": {},
   "toc_section_display": true,
   "toc_window_display": false
  }
 },
 "nbformat": 4,
 "nbformat_minor": 4
}
